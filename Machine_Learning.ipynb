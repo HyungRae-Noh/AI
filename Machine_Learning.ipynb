{
  "nbformat": 4,
  "nbformat_minor": 0,
  "metadata": {
    "colab": {
      "provenance": [],
      "toc_visible": true,
      "gpuType": "T4"
    },
    "kernelspec": {
      "name": "python3",
      "display_name": "Python 3"
    },
    "language_info": {
      "name": "python"
    },
    "accelerator": "GPU"
  },
  "cells": [
    {
      "cell_type": "markdown",
      "source": [
        "# PyTorch\n",
        "- PyTorch: 오픈소스 기계학습 및 딥러닝 프레임워크\n",
        "- Python 언어를 통해 데이터를 처리하고 기계학습 알고리즘을 설계할 수 있게 함.\n",
        "- PyTorch는 GPU 연산 등 다양한 기능을 지원하여 대부분의 기계학습/인공지능 연구자들은 PyTorch를 사용함. [PapersWithCode Trends](https://paperswithcode.com/trends)"
      ],
      "metadata": {
        "id": "NGcDFp60taxH"
      }
    },
    {
      "cell_type": "code",
      "source": [
        "# PyTorch import\n",
        "import torch\n",
        "torch.__version__"
      ],
      "metadata": {
        "id": "W7CYccq4xYm0",
        "colab": {
          "base_uri": "https://localhost:8080/",
          "height": 36
        },
        "outputId": "2f2b4475-5eaf-4690-bd26-71cb606c1d5a"
      },
      "execution_count": null,
      "outputs": [
        {
          "output_type": "execute_result",
          "data": {
            "text/plain": [
              "'2.6.0+cu124'"
            ],
            "application/vnd.google.colaboratory.intrinsic+json": {
              "type": "string"
            }
          },
          "metadata": {},
          "execution_count": 1
        }
      ]
    },
    {
      "cell_type": "markdown",
      "source": [
        "# 1. Tensors\n",
        "\n",
        "- 기계학습에서 기본적인 구성 요소이며, 데이터를 수치적으로 표현함.\n",
        "- 아래 이미지를 `[3, 244, 244]` 형태의 텐서로 표현할 수 있음.\n",
        "- `[색상 채널 수, 높이, 너비]`를 의미하며, 해당 이미지는 `3`개의 색상 채널(빨강, 초록, 파랑), `224` 픽셀의 높이, `224` 픽셀의 너비를 가지고 있다는 뜻.\n",
        " - 즉, `색상 채널`, `높이`, `너비`의 세 가지 차원을 가지는 3차원 텐서"
      ],
      "metadata": {
        "id": "QryCHmI3u-aa"
      }
    },
    {
      "cell_type": "markdown",
      "source": [
        "![example of going from an input image to a tensor representation of the image, image gets broken down into 3 colour channels as well as numbers to represent the height and width](https://raw.githubusercontent.com/mrdbourke/pytorch-deep-learning/main/images/00-tensor-shape-example-of-image.png)"
      ],
      "metadata": {
        "id": "9r0B7Hd9vExN"
      }
    },
    {
      "cell_type": "markdown",
      "source": [
        "## 1.1. 텐서 생성"
      ],
      "metadata": {
        "id": "b1yIIqudvp2b"
      }
    },
    {
      "cell_type": "markdown",
      "source": [
        "- **Scalar**: 단일 숫자, 0차원 텐서"
      ],
      "metadata": {
        "id": "NrrjEnB6vuBQ"
      }
    },
    {
      "cell_type": "code",
      "execution_count": null,
      "metadata": {
        "id": "sCmHgBT7xOk9",
        "colab": {
          "base_uri": "https://localhost:8080/"
        },
        "outputId": "ed365169-6626-4b20-ceeb-c868e1c62d84"
      },
      "outputs": [
        {
          "output_type": "execute_result",
          "data": {
            "text/plain": [
              "tensor(7)"
            ]
          },
          "metadata": {},
          "execution_count": 2
        }
      ],
      "source": [
        "# Scalar\n",
        "scalar = torch.tensor(7)\n",
        "scalar"
      ]
    },
    {
      "cell_type": "code",
      "source": [
        "# dim 확인\n",
        "scalar.ndim"
      ],
      "metadata": {
        "id": "TZ7eyq42v49z",
        "colab": {
          "base_uri": "https://localhost:8080/"
        },
        "outputId": "afec667d-9a1a-43f6-9633-b3e8b000287a"
      },
      "execution_count": null,
      "outputs": [
        {
          "output_type": "execute_result",
          "data": {
            "text/plain": [
              "0"
            ]
          },
          "metadata": {},
          "execution_count": 3
        }
      ]
    },
    {
      "cell_type": "markdown",
      "source": [
        "- **Vector**: 1차원 텐서, 무엇을 나타내느냐에 따라 유연하게 사용됨."
      ],
      "metadata": {
        "id": "lAZk-LuHv-i2"
      }
    },
    {
      "cell_type": "code",
      "source": [
        "# Vector\n",
        "vector = torch.tensor([7, 7])\n",
        "vector"
      ],
      "metadata": {
        "id": "mZvvtYl5wG7g",
        "colab": {
          "base_uri": "https://localhost:8080/"
        },
        "outputId": "0801a04d-4dec-428e-b513-0f95922511a2"
      },
      "execution_count": null,
      "outputs": [
        {
          "output_type": "execute_result",
          "data": {
            "text/plain": [
              "tensor([7, 7])"
            ]
          },
          "metadata": {},
          "execution_count": 4
        }
      ]
    },
    {
      "cell_type": "code",
      "source": [
        "# vector dim 확인\n",
        "vector.ndim"
      ],
      "metadata": {
        "id": "HNY089kVwJLS",
        "colab": {
          "base_uri": "https://localhost:8080/"
        },
        "outputId": "6f579d32-cf61-4c1f-c839-dcb3da9da72a"
      },
      "execution_count": null,
      "outputs": [
        {
          "output_type": "execute_result",
          "data": {
            "text/plain": [
              "1"
            ]
          },
          "metadata": {},
          "execution_count": 5
        }
      ]
    },
    {
      "cell_type": "markdown",
      "source": [
        "PyTorch에서 텐서가 몇 차원인지 알아보는 방법은 바깥쪽의 대괄호(`[`)의 수를 세는 것임.\n",
        "\n",
        "- `shape`: 텐서 내부의 요소들이 어떻게 배열되어 있는지를 나타냄."
      ],
      "metadata": {
        "id": "dsK2lcsswQeX"
      }
    },
    {
      "cell_type": "code",
      "source": [
        "# vector의 shape 확인\n",
        "vector.shape"
      ],
      "metadata": {
        "id": "zdVffV01wMwL",
        "colab": {
          "base_uri": "https://localhost:8080/"
        },
        "outputId": "e9ca42f1-19a3-4796-97e2-85c89ce5d5d1"
      },
      "execution_count": null,
      "outputs": [
        {
          "output_type": "execute_result",
          "data": {
            "text/plain": [
              "torch.Size([2])"
            ]
          },
          "metadata": {},
          "execution_count": 6
        }
      ]
    },
    {
      "cell_type": "markdown",
      "source": [
        "- **Matrix**(행렬)"
      ],
      "metadata": {
        "id": "9A-E-3UqwylN"
      }
    },
    {
      "cell_type": "code",
      "source": [
        "# Matrix\n",
        "MATRIX = torch.tensor([[7, 8],\n",
        "                       [9, 10]])\n",
        "MATRIX"
      ],
      "metadata": {
        "id": "ZI7toYeSwvR4",
        "colab": {
          "base_uri": "https://localhost:8080/"
        },
        "outputId": "6658b2f5-f139-4d98-c1aa-b58fa6d46c60"
      },
      "execution_count": null,
      "outputs": [
        {
          "output_type": "execute_result",
          "data": {
            "text/plain": [
              "tensor([[ 7,  8],\n",
              "        [ 9, 10]])"
            ]
          },
          "metadata": {},
          "execution_count": 7
        }
      ]
    },
    {
      "cell_type": "code",
      "source": [
        "# matrix의 dim 확인\n",
        "MATRIX.ndim"
      ],
      "metadata": {
        "id": "73xrdH9Dw6i1",
        "colab": {
          "base_uri": "https://localhost:8080/"
        },
        "outputId": "dbb5eda0-09c0-464b-8a83-a95f42840ee0"
      },
      "execution_count": null,
      "outputs": [
        {
          "output_type": "execute_result",
          "data": {
            "text/plain": [
              "2"
            ]
          },
          "metadata": {},
          "execution_count": 8
        }
      ]
    },
    {
      "cell_type": "code",
      "source": [
        "# matrix의 shape 확인\n",
        "MATRIX.shape"
      ],
      "metadata": {
        "id": "gTh9cab9w9Vo",
        "colab": {
          "base_uri": "https://localhost:8080/"
        },
        "outputId": "41d5bff4-a32c-42a9-d516-7d953a976ee5"
      },
      "execution_count": null,
      "outputs": [
        {
          "output_type": "execute_result",
          "data": {
            "text/plain": [
              "torch.Size([2, 2])"
            ]
          },
          "metadata": {},
          "execution_count": 9
        }
      ]
    },
    {
      "cell_type": "markdown",
      "source": [
        "- **Tensor**:"
      ],
      "metadata": {
        "id": "tyd37FhpxHWr"
      }
    },
    {
      "cell_type": "code",
      "source": [
        "# Tensor\n",
        "TENSOR = torch.tensor([[[1, 2, 3],\n",
        "                        [3, 6, 9],\n",
        "                        [2, 4, 5]]])\n",
        "TENSOR"
      ],
      "metadata": {
        "id": "8RdZa9UZxCYV",
        "colab": {
          "base_uri": "https://localhost:8080/"
        },
        "outputId": "c8af6b97-194e-4b3f-ff07-20d48e93d872"
      },
      "execution_count": null,
      "outputs": [
        {
          "output_type": "execute_result",
          "data": {
            "text/plain": [
              "tensor([[[1, 2, 3],\n",
              "         [3, 6, 9],\n",
              "         [2, 4, 5]]])"
            ]
          },
          "metadata": {},
          "execution_count": 10
        }
      ]
    },
    {
      "cell_type": "code",
      "source": [
        "# dim 확인\n",
        "TENSOR.ndim"
      ],
      "metadata": {
        "id": "VZa9rEjnxLL0",
        "colab": {
          "base_uri": "https://localhost:8080/"
        },
        "outputId": "eff3b660-1425-4764-c869-5f5a48c32933"
      },
      "execution_count": null,
      "outputs": [
        {
          "output_type": "execute_result",
          "data": {
            "text/plain": [
              "3"
            ]
          },
          "metadata": {},
          "execution_count": 11
        }
      ]
    },
    {
      "cell_type": "code",
      "source": [
        "# shape 확인\n",
        "TENSOR.shape"
      ],
      "metadata": {
        "id": "WrZCVWS5xMyi",
        "colab": {
          "base_uri": "https://localhost:8080/"
        },
        "outputId": "25e09d24-1fb0-48a9-ff05-7234d0bb2ffd"
      },
      "execution_count": null,
      "outputs": [
        {
          "output_type": "execute_result",
          "data": {
            "text/plain": [
              "torch.Size([1, 3, 3])"
            ]
          },
          "metadata": {},
          "execution_count": 12
        }
      ]
    },
    {
      "cell_type": "markdown",
      "source": [
        "![example of different tensor dimensions](https://raw.githubusercontent.com/mrdbourke/pytorch-deep-learning/main/images/00-pytorch-different-tensor-dimensions.png)"
      ],
      "metadata": {
        "id": "k3OPurWUxRMg"
      }
    },
    {
      "cell_type": "markdown",
      "source": [
        "| 이름      | 정의                                 | 차원 수                             | 일반적으로 사용하는 표기 (예시) |\n",
        "| ------- | ---------------------------------- | -------------------------------- | ------------------ |\n",
        "| **scalar** | 하나의 숫자                             | 0차원                              | 소문자 (`a`)          |\n",
        "| **vector**  | 방향을 가진 숫자 (예: 방향이 포함된 풍속) 또는 여러 숫자 | 1차원                              | 소문자 (`y`)          |\n",
        "| **matrix**  | 2차원 숫자 배열                          | 2차원                              | 대문자 (`Q`)          |\n",
        "| **tensor**  | n차원 숫자 배열                          | 어떤 차원이든 가능함<br>0차원은 스칼라, 1차원은 벡터 | 대문자 (`X`)          |"
      ],
      "metadata": {
        "id": "wmkFRXONxam7"
      }
    },
    {
      "cell_type": "markdown",
      "source": [
        "![scalar vector matrix tensor and what they look like](https://raw.githubusercontent.com/mrdbourke/pytorch-deep-learning/main/images/00-scalar-vector-matrix-tensor.png)"
      ],
      "metadata": {
        "id": "3ESLFzlCxrvh"
      }
    },
    {
      "cell_type": "markdown",
      "source": [
        "## 1.2. 랜덤 텐서\n",
        "\n",
        "- 텐서는 어떤 형태로든 데이터를 표현하고, 딥러닝 모델들은 텐서를 업데이트하고 그 안에서 패턴을 찾아냄.\n",
        "\n",
        "- 딥러닝 모델을 만들 때, 앞서 텐서 값을 일일히 설정하지 않음.\n",
        "\n",
        "- 일반적으로 랜덤 숫자로 채워진 큰 텐서로 시작하여 데이터를 훈련하며 이 숫자들을 점점 데이터에 맞게 잘 조정해나감."
      ],
      "metadata": {
        "id": "twwMTOfsx0Tr"
      }
    },
    {
      "cell_type": "code",
      "source": [
        "# size (3, 4)인 랜덤 텐서 생성\n",
        "random_tensor = torch.rand(size=(3, 4))\n",
        "random_tensor, random_tensor.dtype"
      ],
      "metadata": {
        "id": "180FQXPdxO5O",
        "colab": {
          "base_uri": "https://localhost:8080/"
        },
        "outputId": "6beb2d83-283f-4fd3-c06a-9f4b167ea659"
      },
      "execution_count": null,
      "outputs": [
        {
          "output_type": "execute_result",
          "data": {
            "text/plain": [
              "(tensor([[0.6801, 0.0512, 0.8092, 0.4182],\n",
              "         [0.7308, 0.8374, 0.5364, 0.7047],\n",
              "         [0.8566, 0.7383, 0.4918, 0.3824]]),\n",
              " torch.float32)"
            ]
          },
          "metadata": {},
          "execution_count": 14
        }
      ]
    },
    {
      "cell_type": "code",
      "source": [
        "# size (224, 224, 3)인 랜덤 텐서 생성\n",
        "random_image_size_tensor = torch.rand(size=(224, 224, 3))\n",
        "random_image_size_tensor.shape, random_image_size_tensor.ndim"
      ],
      "metadata": {
        "id": "GVoe5dRJyYuy",
        "colab": {
          "base_uri": "https://localhost:8080/"
        },
        "outputId": "9a5ac58a-3f52-4787-90cd-9fa589880b7d"
      },
      "execution_count": null,
      "outputs": [
        {
          "output_type": "execute_result",
          "data": {
            "text/plain": [
              "(torch.Size([224, 224, 3]), 3)"
            ]
          },
          "metadata": {},
          "execution_count": 15
        }
      ]
    },
    {
      "cell_type": "markdown",
      "source": [
        "## 1.3. 0 혹은 1로 구성된 텐서\n",
        "\n",
        "- 마스킹(masking) 작업에서 자주 사용됨. 이는 모델이 학습하지 않야아 할 값을 0으로 채우는 작업임."
      ],
      "metadata": {
        "id": "2LmRZRq-yoT4"
      }
    },
    {
      "cell_type": "code",
      "source": [
        "# 모두 0인 텐서 생성\n",
        "zeros = torch.zeros(size=(3, 4))\n",
        "zeros, zeros.dtype"
      ],
      "metadata": {
        "id": "sIEq5eVEyaEa",
        "colab": {
          "base_uri": "https://localhost:8080/"
        },
        "outputId": "c3c3a403-7236-42a4-f1a3-d866342df56f"
      },
      "execution_count": null,
      "outputs": [
        {
          "output_type": "execute_result",
          "data": {
            "text/plain": [
              "(tensor([[0., 0., 0., 0.],\n",
              "         [0., 0., 0., 0.],\n",
              "         [0., 0., 0., 0.]]),\n",
              " torch.float32)"
            ]
          },
          "metadata": {},
          "execution_count": 16
        }
      ]
    },
    {
      "cell_type": "code",
      "source": [
        "# 모두 1인 텐서 생성\n",
        "ones = torch.ones(size=(3, 4))\n",
        "ones, ones.dtype"
      ],
      "metadata": {
        "id": "-YXaZqyayaLQ",
        "colab": {
          "base_uri": "https://localhost:8080/"
        },
        "outputId": "b616088e-474f-478f-f7b4-34b7b1c50bc0"
      },
      "execution_count": null,
      "outputs": [
        {
          "output_type": "execute_result",
          "data": {
            "text/plain": [
              "(tensor([[1., 1., 1., 1.],\n",
              "         [1., 1., 1., 1.],\n",
              "         [1., 1., 1., 1.]]),\n",
              " torch.float32)"
            ]
          },
          "metadata": {},
          "execution_count": 17
        }
      ]
    },
    {
      "cell_type": "markdown",
      "source": [
        "## 1.4. 텐서 데이터 타입\n",
        "\n",
        "- PyTorch에는 다양한 [텐서 데이터 타입](https://docs.pytorch.org/docs/stable/tensors.html#data-types)이 존재함.\n",
        "\n",
        "- 보통 `torch.float32` (더 간단히 `torch.float`)을 가장 흔하게 사용하며 기본값으로 설정됨.\n",
        "\n",
        "- 일부는 CPU, 일부는 GPU에 특화됨.\n",
        "\n",
        " - 코드에서 `torch.cuda`가 텐서에서 보이면, 해당 텐서는 GPU용(특히 Nvidia GPU의 CUDA 툴킷)으로 사용되고 있다는 뜻임."
      ],
      "metadata": {
        "id": "4gatfJu0y2Ob"
      }
    },
    {
      "cell_type": "code",
      "source": [
        "# 텐서의 기본 데이터 타입은 float32\n",
        "float_32_tensor = torch.tensor([3.0, 6.0, 9.0],\n",
        "                               dtype=None, # 기본값 None이며 자동으로 torch.float32로 설정됨\n",
        "                               device=None, # 기본값 None, 자동으로 cpu로 설정됨\n",
        "                               requires_grad=False) # True로 설정되면 텐서에 수행된 연산이 기록됨\n",
        "\n",
        "float_32_tensor.shape, float_32_tensor.dtype, float_32_tensor.device"
      ],
      "metadata": {
        "id": "5a-l3qkty5aH",
        "colab": {
          "base_uri": "https://localhost:8080/"
        },
        "outputId": "1a30785c-5a90-4845-d185-2eca841c6f6c"
      },
      "execution_count": null,
      "outputs": [
        {
          "output_type": "execute_result",
          "data": {
            "text/plain": [
              "(torch.Size([3]), torch.float32, device(type='cpu'))"
            ]
          },
          "metadata": {},
          "execution_count": 18
        }
      ]
    },
    {
      "cell_type": "markdown",
      "source": [
        "- PyTorch의 가장 흔한 에러는 테이터 타입과 device(CPU, GPU) 관련임.\n",
        "\n",
        " - 데이터 타입이 서로 다른 텐서의 연산은 불가능함.\n",
        "\n",
        " - CPU에 로드된 텐서와 GPU에 로드된 텐서의 연산은 불가능함."
      ],
      "metadata": {
        "id": "1ySvy9LU1dmN"
      }
    },
    {
      "cell_type": "code",
      "source": [
        "# dtype=torch.float16을 사용해 텐서를 생성\n",
        "float_16_tensor = torch.tensor([3.0, 6.0, 9.0],\n",
        "                               dtype=torch.float16)\n",
        "\n",
        "float_16_tensor.dtype"
      ],
      "metadata": {
        "id": "9EnfHvrkzIBX",
        "colab": {
          "base_uri": "https://localhost:8080/"
        },
        "outputId": "2815bc35-ba81-4a31-d8b6-cf541b1546eb"
      },
      "execution_count": null,
      "outputs": [
        {
          "output_type": "execute_result",
          "data": {
            "text/plain": [
              "torch.float16"
            ]
          },
          "metadata": {},
          "execution_count": 19
        }
      ]
    },
    {
      "cell_type": "markdown",
      "source": [
        "## 1.5. 텐서 정보 파악\n",
        "\n",
        "텐서에서 가장 자주 확인하게 될 대표적 속성 세가지는 다음과 같음.\n",
        "- `shape`:  텐서의 형태는 무엇인가?\n",
        "- `dtype`: 텐서 내부 요소들의 데이터 타입은 무엇인가?\n",
        "- `device`: 텐서가 저장되어 있는 디바이스는 어디인가?"
      ],
      "metadata": {
        "id": "A-FPB3gNzNSN"
      }
    },
    {
      "cell_type": "code",
      "source": [
        "# 텐서 생성\n",
        "some_tensor = torch.rand(3, 4)"
      ],
      "metadata": {
        "id": "xkt7oPXrzP8I"
      },
      "execution_count": null,
      "outputs": []
    },
    {
      "cell_type": "code",
      "source": [
        "# 정보 출력\n",
        "print(some_tensor)\n",
        "print(f\"Shape of tensor: {some_tensor.shape}\")\n",
        "print(f\"Datatype of tensor: {some_tensor.dtype}\")\n",
        "print(f\"Device tensor is stored on: {some_tensor.device}\") # CPU가 기본"
      ],
      "metadata": {
        "id": "PB_CJ7EbxptZ",
        "colab": {
          "base_uri": "https://localhost:8080/"
        },
        "outputId": "3a141831-1709-4e74-ab33-20442d0af27e"
      },
      "execution_count": null,
      "outputs": [
        {
          "output_type": "stream",
          "name": "stdout",
          "text": [
            "tensor([[0.1589, 0.2481, 0.0690, 0.7718],\n",
            "        [0.0315, 0.8863, 0.0090, 0.5083],\n",
            "        [0.9688, 0.3246, 0.3335, 0.3689]])\n",
            "Shape of tensor: torch.Size([3, 4])\n",
            "Datatype of tensor: torch.float32\n",
            "Device tensor is stored on: cpu\n"
          ]
        }
      ]
    },
    {
      "cell_type": "markdown",
      "source": [
        "## 1.6. 텐서 기본 연산\n",
        "\n",
        "딥러닝에서는 이미지, 텍스트, 비디오 등 다양한 데이터가 텐서 형태로 표현됨. 딥러닝 모델은 수많은 연산을 통해 입력 데이터 속 패턴을 학습함.\n",
        "\n",
        "아래 연산들은 신경망의 기본 요소라고 할 수 있음.\n",
        "- 덧셈\n",
        "- 뺄셈\n",
        "- 원소 간 곱 (element-wise multiplication)\n",
        "- 나눗셈\n",
        "- 행렬 곱 (matrix multiplication)"
      ],
      "metadata": {
        "id": "1U7EZ26HzR3a"
      }
    },
    {
      "cell_type": "code",
      "source": [
        "# 덧셈\n",
        "tensor = torch.tensor([1, 2, 3])\n",
        "tensor + 10"
      ],
      "metadata": {
        "id": "y0l4Tm3czWg-",
        "colab": {
          "base_uri": "https://localhost:8080/"
        },
        "outputId": "4545449b-5b0f-4c89-b914-2b569534c17b"
      },
      "execution_count": null,
      "outputs": [
        {
          "output_type": "execute_result",
          "data": {
            "text/plain": [
              "tensor([11, 12, 13])"
            ]
          },
          "metadata": {},
          "execution_count": 22
        }
      ]
    },
    {
      "cell_type": "code",
      "source": [
        "# 곱셈\n",
        "tensor * 10"
      ],
      "metadata": {
        "id": "TAEMxNO_2ltO",
        "colab": {
          "base_uri": "https://localhost:8080/"
        },
        "outputId": "f2a6fcb9-2ee5-49b5-c706-8c6b80a58c4c"
      },
      "execution_count": null,
      "outputs": [
        {
          "output_type": "execute_result",
          "data": {
            "text/plain": [
              "tensor([10, 20, 30])"
            ]
          },
          "metadata": {},
          "execution_count": 23
        }
      ]
    },
    {
      "cell_type": "markdown",
      "source": [
        "- 텐서 내부의 값은 재할당 하지 않는 한 변경되지 않음."
      ],
      "metadata": {
        "id": "JkoC6HwX2tEh"
      }
    },
    {
      "cell_type": "code",
      "source": [
        "tensor"
      ],
      "metadata": {
        "id": "thew9XI42sN2",
        "colab": {
          "base_uri": "https://localhost:8080/"
        },
        "outputId": "55752bc0-4197-4fab-fd45-8a9e5094f112"
      },
      "execution_count": null,
      "outputs": [
        {
          "output_type": "execute_result",
          "data": {
            "text/plain": [
              "tensor([1, 2, 3])"
            ]
          },
          "metadata": {},
          "execution_count": 24
        }
      ]
    },
    {
      "cell_type": "code",
      "source": [
        "# 뺄셈 후 재할당\n",
        "tensor = tensor - 10\n",
        "tensor"
      ],
      "metadata": {
        "id": "F7USKyNU2x15",
        "colab": {
          "base_uri": "https://localhost:8080/"
        },
        "outputId": "98019de0-f175-4bbd-a390-c92fe1395723"
      },
      "execution_count": null,
      "outputs": [
        {
          "output_type": "execute_result",
          "data": {
            "text/plain": [
              "tensor([-9, -8, -7])"
            ]
          },
          "metadata": {},
          "execution_count": 25
        }
      ]
    },
    {
      "cell_type": "code",
      "source": [
        "# 덧셈 후 재할당\n",
        "tensor = tensor + 10\n",
        "tensor"
      ],
      "metadata": {
        "id": "xXiToW0i21-G",
        "colab": {
          "base_uri": "https://localhost:8080/"
        },
        "outputId": "67cad70d-3b40-4040-d793-344577513b97"
      },
      "execution_count": null,
      "outputs": [
        {
          "output_type": "execute_result",
          "data": {
            "text/plain": [
              "tensor([1, 2, 3])"
            ]
          },
          "metadata": {},
          "execution_count": 26
        }
      ]
    },
    {
      "cell_type": "markdown",
      "source": [
        "- PyTorch는 기본 연산을 위한 빌트인 함수([`torch.mul()`](https://pytorch.org/docs/stable/generated/torch.mul.html#torch.mul), [`torch.add()`](https://pytorch.org/docs/stable/generated/torch.add.html))들이 구현되어 있음."
      ],
      "metadata": {
        "id": "IQ7YPukl3Gyz"
      }
    },
    {
      "cell_type": "code",
      "source": [
        "torch.mul(tensor, 10)"
      ],
      "metadata": {
        "id": "8piG8iKg3FNA",
        "colab": {
          "base_uri": "https://localhost:8080/"
        },
        "outputId": "6639a300-3a8c-4c22-9d9b-9b9a29008c67"
      },
      "execution_count": null,
      "outputs": [
        {
          "output_type": "execute_result",
          "data": {
            "text/plain": [
              "tensor([10, 20, 30])"
            ]
          },
          "metadata": {},
          "execution_count": 27
        }
      ]
    },
    {
      "cell_type": "code",
      "source": [
        "# 이 또한 재할당 하지 않는 한 변경되지 않음.\n",
        "tensor"
      ],
      "metadata": {
        "id": "I8EUdI333Nag",
        "colab": {
          "base_uri": "https://localhost:8080/"
        },
        "outputId": "7e490f2c-dde4-49da-a0aa-639b4df61bf9"
      },
      "execution_count": null,
      "outputs": [
        {
          "output_type": "execute_result",
          "data": {
            "text/plain": [
              "tensor([1, 2, 3])"
            ]
          },
          "metadata": {},
          "execution_count": 28
        }
      ]
    },
    {
      "cell_type": "markdown",
      "source": [
        "- `torch.mul()`보다는 `*` 같은 연산자 기호를 사용하는 것이 더 일반적임."
      ],
      "metadata": {
        "id": "NOJhrWRK3YXs"
      }
    },
    {
      "cell_type": "code",
      "source": [
        "print(tensor, \"*\", tensor)\n",
        "print(\"Equals:\", tensor * tensor)"
      ],
      "metadata": {
        "id": "qnRCdPJx3SOz",
        "colab": {
          "base_uri": "https://localhost:8080/"
        },
        "outputId": "75c50314-0c7d-4d41-e5ed-756b830600e2"
      },
      "execution_count": null,
      "outputs": [
        {
          "output_type": "stream",
          "name": "stdout",
          "text": [
            "tensor([1, 2, 3]) * tensor([1, 2, 3])\n",
            "Equals: tensor([1, 4, 9])\n"
          ]
        }
      ]
    },
    {
      "cell_type": "markdown",
      "source": [
        "## 1.7. 텐서의 행렬 곱\n",
        "\n",
        "딥러닝에서 가장 일반적인 연산 중 하나이며, PyTorch는 `torch.matmul()`을 통해 행렬 곱셈 기능을 제공함.\n",
        "\n",
        "행렬 곱셈에서 다음 두가지 규칙을 꼭 기억:\n",
        "\n",
        "1. inner dimensions가 일치해야 함.\n",
        " - `(3, 2) @ (3, 2)` → 오류\n",
        " - `(2, 3) @ (3, 2)` → 작동함\n",
        " - `(3, 2) @ (2, 3)` → 작동함\n",
        "2. 연산된 행렬은 outer dimension의 형태를 가짐.\n",
        " - `(2, 3) @ (3, 2) → (2, 2)`\n",
        " - `(3, 2) @ (2, 3) → (3, 3)`\n"
      ],
      "metadata": {
        "id": "KLmnuf4Q3fRH"
      }
    },
    {
      "cell_type": "code",
      "source": [
        "tensor = torch.tensor([1, 2, 3])\n",
        "tensor.shape"
      ],
      "metadata": {
        "id": "zE1UHDfo4bnW",
        "colab": {
          "base_uri": "https://localhost:8080/"
        },
        "outputId": "6fe4204d-fc81-44b4-befd-3079197b323e"
      },
      "execution_count": null,
      "outputs": [
        {
          "output_type": "execute_result",
          "data": {
            "text/plain": [
              "torch.Size([3])"
            ]
          },
          "metadata": {},
          "execution_count": 31
        }
      ]
    },
    {
      "cell_type": "markdown",
      "source": [
        "요소별 곱셈과 행렬 곱셈의 차이는 **값을 어떻게 더하느냐**에 있음.\n",
        "\n",
        "예를 들어 `[1, 2, 3]` 값을 가진 `tensor` 변수에 대해 다음과 같은 차이가 존재함.\n",
        "\n",
        "| 연산 종류                                    | 계산 방식                           | 코드                      |\n",
        "| ---------------------------------------- | ------------------------------- | ----------------------- |\n",
        "| **요소별 곱셈 (Element-wise multiplication)** | `[1*1, 2*2, 3*3]` = `[1, 4, 9]` | `tensor * tensor`       |\n",
        "| **행렬 곱셈 (Matrix multiplication)**        | `1*1 + 2*2 + 3*3` = `[14]`      | `tensor.matmul(tensor)` |"
      ],
      "metadata": {
        "id": "rp3WyEC64woI"
      }
    },
    {
      "cell_type": "code",
      "source": [
        "# Element-wise matrix multiplication\n",
        "tensor * tensor"
      ],
      "metadata": {
        "id": "HMy59IKE4sFO",
        "colab": {
          "base_uri": "https://localhost:8080/"
        },
        "outputId": "97d34baf-9ca1-4811-f359-9f24776702bf"
      },
      "execution_count": null,
      "outputs": [
        {
          "output_type": "execute_result",
          "data": {
            "text/plain": [
              "tensor([1, 4, 9])"
            ]
          },
          "metadata": {},
          "execution_count": 32
        }
      ]
    },
    {
      "cell_type": "code",
      "source": [
        "# Matrix multiplication\n",
        "torch.matmul(tensor, tensor)"
      ],
      "metadata": {
        "id": "h4lQrQVr454j",
        "colab": {
          "base_uri": "https://localhost:8080/"
        },
        "outputId": "2c3da32b-dcfa-4729-d770-7905c59b7664"
      },
      "execution_count": null,
      "outputs": [
        {
          "output_type": "execute_result",
          "data": {
            "text/plain": [
              "tensor(14)"
            ]
          },
          "metadata": {},
          "execution_count": 33
        }
      ]
    },
    {
      "cell_type": "markdown",
      "source": [
        "- `@` 기호를 통해 행렬 곱셈을 할 수 있으나, `torch.matmul()`이 속도가 더 빠르기 때문에 권장되지 않음."
      ],
      "metadata": {
        "id": "EgipDikZ4_Yh"
      }
    },
    {
      "cell_type": "code",
      "source": [
        "%%time\n",
        "# 손으로 행렬곱 계산\n",
        "# for loop 사용한 연산은 최대한 피할것 (계산 비용 큼)\n",
        "value = 0\n",
        "for i in range(len(tensor)):\n",
        "  value += tensor[i] * tensor[i]\n",
        "value"
      ],
      "metadata": {
        "id": "gV4IT6Xg5Huh",
        "colab": {
          "base_uri": "https://localhost:8080/"
        },
        "outputId": "14bcc7b8-1d0b-48da-da41-3b9250304f81"
      },
      "execution_count": null,
      "outputs": [
        {
          "output_type": "stream",
          "name": "stdout",
          "text": [
            "CPU times: user 457 µs, sys: 0 ns, total: 457 µs\n",
            "Wall time: 796 µs\n"
          ]
        },
        {
          "output_type": "execute_result",
          "data": {
            "text/plain": [
              "tensor(14)"
            ]
          },
          "metadata": {},
          "execution_count": 34
        }
      ]
    },
    {
      "cell_type": "code",
      "source": [
        "%%time\n",
        "torch.matmul(tensor, tensor)"
      ],
      "metadata": {
        "id": "vRf8b-Ct5Iv6",
        "colab": {
          "base_uri": "https://localhost:8080/"
        },
        "outputId": "26855ad2-a6b1-4c98-c0b6-cca40a48362b"
      },
      "execution_count": null,
      "outputs": [
        {
          "output_type": "stream",
          "name": "stdout",
          "text": [
            "CPU times: user 145 µs, sys: 12 µs, total: 157 µs\n",
            "Wall time: 109 µs\n"
          ]
        },
        {
          "output_type": "execute_result",
          "data": {
            "text/plain": [
              "tensor(14)"
            ]
          },
          "metadata": {},
          "execution_count": 35
        }
      ]
    },
    {
      "cell_type": "markdown",
      "source": [
        "## 1.8. `shape` 오류\n",
        "\n",
        "- 딥러닝에서는 대부분 연산이 행렬 간 곱셈 및 연산으로 이루어져 있음. 형렬에는 연산 가능한 형태(shape)와 크기에 대한 규칙이 존재하기에 shape mismatch 오류가 가장 흔하게 일어남."
      ],
      "metadata": {
        "id": "_tn8tLNH5Ofh"
      }
    },
    {
      "cell_type": "code",
      "source": [
        "# 해당 셀은 오류 난 채로 제출\n",
        "# 텐서의 shape이 맞아야 함\n",
        "tensor_A = torch.tensor([[1, 2],\n",
        "                         [3, 4],\n",
        "                         [5, 6]], dtype=torch.float32)\n",
        "\n",
        "tensor_B = torch.tensor([[7, 10],\n",
        "                         [8, 11],\n",
        "                         [9, 12]], dtype=torch.float32)\n",
        "\n",
        "torch.matmul(tensor_A, tensor_B) # (<- 오류 발생)"
      ],
      "metadata": {
        "id": "G3yD09_M5Jwc",
        "colab": {
          "base_uri": "https://localhost:8080/",
          "height": 216
        },
        "outputId": "f2bc6936-3285-4f50-df34-b8c132dbc4fc"
      },
      "execution_count": null,
      "outputs": [
        {
          "output_type": "error",
          "ename": "RuntimeError",
          "evalue": "mat1 and mat2 shapes cannot be multiplied (3x2 and 3x2)",
          "traceback": [
            "\u001b[0;31m---------------------------------------------------------------------------\u001b[0m",
            "\u001b[0;31mRuntimeError\u001b[0m                              Traceback (most recent call last)",
            "\u001b[0;32m<ipython-input-36-8bac0e67dfcb>\u001b[0m in \u001b[0;36m<cell line: 0>\u001b[0;34m()\u001b[0m\n\u001b[1;32m      9\u001b[0m                          [9, 12]], dtype=torch.float32)\n\u001b[1;32m     10\u001b[0m \u001b[0;34m\u001b[0m\u001b[0m\n\u001b[0;32m---> 11\u001b[0;31m \u001b[0mtorch\u001b[0m\u001b[0;34m.\u001b[0m\u001b[0mmatmul\u001b[0m\u001b[0;34m(\u001b[0m\u001b[0mtensor_A\u001b[0m\u001b[0;34m,\u001b[0m \u001b[0mtensor_B\u001b[0m\u001b[0;34m)\u001b[0m \u001b[0;31m# (<- 오류 발생)\u001b[0m\u001b[0;34m\u001b[0m\u001b[0;34m\u001b[0m\u001b[0m\n\u001b[0m",
            "\u001b[0;31mRuntimeError\u001b[0m: mat1 and mat2 shapes cannot be multiplied (3x2 and 3x2)"
          ]
        }
      ]
    },
    {
      "cell_type": "markdown",
      "source": [
        "`tensor_A`와 `tensor_B` 사이에서 행렬 곱셈을 가능하게 하려면, inner dimension 을 **전치(transpose)**를 통해 일치시켜야 함.\n",
        "\n",
        "- `torch.transpose(input, dim0, dim1)` : 여기서 `input`은 전치하려는 텐서이고, `dim0`, `dim1`은 서로 바꿀 차원임.\n",
        "- `tensor.T` : 여기서 `tensor`는 전치하려는 텐서임."
      ],
      "metadata": {
        "id": "A7Izp9kD5mrr"
      }
    },
    {
      "cell_type": "code",
      "source": [
        "# tensor_A과 tensor_B 확인\n",
        "print(tensor_A)\n",
        "print(tensor_B)"
      ],
      "metadata": {
        "id": "wxuhhBa05jk3",
        "colab": {
          "base_uri": "https://localhost:8080/"
        },
        "outputId": "0582b321-0b34-499b-a18b-d74b52c671e0"
      },
      "execution_count": null,
      "outputs": [
        {
          "output_type": "stream",
          "name": "stdout",
          "text": [
            "tensor([[1., 2.],\n",
            "        [3., 4.],\n",
            "        [5., 6.]])\n",
            "tensor([[ 7., 10.],\n",
            "        [ 8., 11.],\n",
            "        [ 9., 12.]])\n"
          ]
        }
      ]
    },
    {
      "cell_type": "code",
      "source": [
        "# tensor_A과 tensor_B.T 확인\n",
        "print(tensor_A)\n",
        "print(tensor_B.T)"
      ],
      "metadata": {
        "id": "TgISf93_52h0",
        "colab": {
          "base_uri": "https://localhost:8080/"
        },
        "outputId": "1626e456-2e14-4c4a-f507-7df2d9a608d0"
      },
      "execution_count": null,
      "outputs": [
        {
          "output_type": "stream",
          "name": "stdout",
          "text": [
            "tensor([[1., 2.],\n",
            "        [3., 4.],\n",
            "        [5., 6.]])\n",
            "tensor([[ 7.,  8.,  9.],\n",
            "        [10., 11., 12.]])\n"
          ]
        }
      ]
    },
    {
      "cell_type": "code",
      "source": [
        "# tensor_B가 전치되었을 때 연산은 정상적으로 작동함.\n",
        "print(f\"Original shapes: tensor_A = {tensor_A.shape}, tensor_B = {tensor_B.shape}\\n\")\n",
        "print(f\"New shapes: tensor_A = {tensor_A.shape} (same as above), tensor_B.T = {tensor_B.T.shape}\\n\")\n",
        "print(f\"Multiplying: {tensor_A.shape} * {tensor_B.T.shape} <- inner dimensions match\\n\")\n",
        "print(\"Output:\\n\")\n",
        "output = torch.matmul(tensor_A, tensor_B.T)\n",
        "print(output)\n",
        "print(f\"\\nOutput shape: {output.shape}\")"
      ],
      "metadata": {
        "id": "h-KBDHk_53Vr",
        "colab": {
          "base_uri": "https://localhost:8080/"
        },
        "outputId": "a579db99-4ffa-48e0-a70b-90030e66899b"
      },
      "execution_count": null,
      "outputs": [
        {
          "output_type": "stream",
          "name": "stdout",
          "text": [
            "Original shapes: tensor_A = torch.Size([3, 2]), tensor_B = torch.Size([3, 2])\n",
            "\n",
            "New shapes: tensor_A = torch.Size([3, 2]) (same as above), tensor_B.T = torch.Size([2, 3])\n",
            "\n",
            "Multiplying: torch.Size([3, 2]) * torch.Size([2, 3]) <- inner dimensions match\n",
            "\n",
            "Output:\n",
            "\n",
            "tensor([[ 27.,  30.,  33.],\n",
            "        [ 61.,  68.,  75.],\n",
            "        [ 95., 106., 117.]])\n",
            "\n",
            "Output shape: torch.Size([3, 3])\n"
          ]
        }
      ]
    },
    {
      "cell_type": "markdown",
      "source": [
        "![visual demo of matrix multiplication](https://github.com/mrdbourke/pytorch-deep-learning/raw/main/images/00-matrix-multiply-crop.gif)"
      ],
      "metadata": {
        "id": "hQlS_Xu-57I3"
      }
    },
    {
      "cell_type": "markdown",
      "source": [
        "신경망은 **행렬 곱셈(matrix multiplication)** 과 **내적(dot product)** 으로 구성됨.\n",
        "\n",
        "[`torch.nn.Linear()`](https://pytorch.org/docs/1.9.1/generated/torch.nn.Linear.html) 모듈(feed forward layer 혹은 fully connected layer로 지칭됨)은 입력 `x`와 가중치 행렬 `A` 사이의 행렬 곱을 수행함.\n",
        "\n",
        "$$\n",
        "y = x \\cdot A^T + b  \n",
        "$$\n",
        "\n",
        "여기서:\n",
        "\n",
        "* `x`: 해당 층에 입력되는 값\n",
        "* `A`: 층이 생성한 가중치 행렬(weights matrix)로, 처음에는 무작위 숫자로 시작하지만 학습 과정에서 데이터의 패턴을 더 잘 표현할 수 있도록 계속 조정됨.\n",
        "  * `A` 대신 `W`, `X` 등 다른 문자로도 표현되기도 함.\n",
        "* `b`: 편향 항(bias term)\n",
        "* `y`: 최종 출력값\n"
      ],
      "metadata": {
        "id": "3hMdr3QL6vJH"
      }
    },
    {
      "cell_type": "code",
      "source": [
        "# Linear layer은 랜덤 weight으로 시작하므로, 재현가능하도록 시드 서정\n",
        "torch.manual_seed(42)"
      ],
      "metadata": {
        "id": "4QfNnAnQ54QG",
        "colab": {
          "base_uri": "https://localhost:8080/"
        },
        "outputId": "aee8f603-01c4-463a-86e5-61968ba9084f"
      },
      "execution_count": null,
      "outputs": [
        {
          "output_type": "execute_result",
          "data": {
            "text/plain": [
              "<torch._C.Generator at 0x7eeb3c061170>"
            ]
          },
          "metadata": {},
          "execution_count": 40
        }
      ]
    },
    {
      "cell_type": "code",
      "source": [
        "# nn.Linear은 matrix multiplication 적용\n",
        "# in_features = 입력의 inner dimension과 일치\n",
        "# out_features = outer value 설정\n",
        "linear = torch.nn.Linear(in_features=3, out_features=6)"
      ],
      "metadata": {
        "id": "IsKstLWwx-4h"
      },
      "execution_count": null,
      "outputs": []
    },
    {
      "cell_type": "code",
      "source": [
        "x = tensor_A\n",
        "output = linear(x)\n",
        "print(f\"Input shape: {x.shape}\\n\")\n",
        "print(f\"Output:\\n{output}\\n\\nOutput shape: {output.shape}\")"
      ],
      "metadata": {
        "id": "pEZ4PM2gx_AC",
        "colab": {
          "base_uri": "https://localhost:8080/",
          "height": 400
        },
        "outputId": "b79a0daa-9f86-4b3f-8be7-ea0bcce9b41e"
      },
      "execution_count": null,
      "outputs": [
        {
          "output_type": "error",
          "ename": "RuntimeError",
          "evalue": "mat1 and mat2 shapes cannot be multiplied (3x2 and 3x6)",
          "traceback": [
            "\u001b[0;31m---------------------------------------------------------------------------\u001b[0m",
            "\u001b[0;31mRuntimeError\u001b[0m                              Traceback (most recent call last)",
            "\u001b[0;32m<ipython-input-42-f86b168172c5>\u001b[0m in \u001b[0;36m<cell line: 0>\u001b[0;34m()\u001b[0m\n\u001b[1;32m      1\u001b[0m \u001b[0mx\u001b[0m \u001b[0;34m=\u001b[0m \u001b[0mtensor_A\u001b[0m\u001b[0;34m\u001b[0m\u001b[0;34m\u001b[0m\u001b[0m\n\u001b[0;32m----> 2\u001b[0;31m \u001b[0moutput\u001b[0m \u001b[0;34m=\u001b[0m \u001b[0mlinear\u001b[0m\u001b[0;34m(\u001b[0m\u001b[0mx\u001b[0m\u001b[0;34m)\u001b[0m\u001b[0;34m\u001b[0m\u001b[0;34m\u001b[0m\u001b[0m\n\u001b[0m\u001b[1;32m      3\u001b[0m \u001b[0mprint\u001b[0m\u001b[0;34m(\u001b[0m\u001b[0;34mf\"Input shape: {x.shape}\\n\"\u001b[0m\u001b[0;34m)\u001b[0m\u001b[0;34m\u001b[0m\u001b[0;34m\u001b[0m\u001b[0m\n\u001b[1;32m      4\u001b[0m \u001b[0mprint\u001b[0m\u001b[0;34m(\u001b[0m\u001b[0;34mf\"Output:\\n{output}\\n\\nOutput shape: {output.shape}\"\u001b[0m\u001b[0;34m)\u001b[0m\u001b[0;34m\u001b[0m\u001b[0;34m\u001b[0m\u001b[0m\n",
            "\u001b[0;32m/usr/local/lib/python3.11/dist-packages/torch/nn/modules/module.py\u001b[0m in \u001b[0;36m_wrapped_call_impl\u001b[0;34m(self, *args, **kwargs)\u001b[0m\n\u001b[1;32m   1737\u001b[0m             \u001b[0;32mreturn\u001b[0m \u001b[0mself\u001b[0m\u001b[0;34m.\u001b[0m\u001b[0m_compiled_call_impl\u001b[0m\u001b[0;34m(\u001b[0m\u001b[0;34m*\u001b[0m\u001b[0margs\u001b[0m\u001b[0;34m,\u001b[0m \u001b[0;34m**\u001b[0m\u001b[0mkwargs\u001b[0m\u001b[0;34m)\u001b[0m  \u001b[0;31m# type: ignore[misc]\u001b[0m\u001b[0;34m\u001b[0m\u001b[0;34m\u001b[0m\u001b[0m\n\u001b[1;32m   1738\u001b[0m         \u001b[0;32melse\u001b[0m\u001b[0;34m:\u001b[0m\u001b[0;34m\u001b[0m\u001b[0;34m\u001b[0m\u001b[0m\n\u001b[0;32m-> 1739\u001b[0;31m             \u001b[0;32mreturn\u001b[0m \u001b[0mself\u001b[0m\u001b[0;34m.\u001b[0m\u001b[0m_call_impl\u001b[0m\u001b[0;34m(\u001b[0m\u001b[0;34m*\u001b[0m\u001b[0margs\u001b[0m\u001b[0;34m,\u001b[0m \u001b[0;34m**\u001b[0m\u001b[0mkwargs\u001b[0m\u001b[0;34m)\u001b[0m\u001b[0;34m\u001b[0m\u001b[0;34m\u001b[0m\u001b[0m\n\u001b[0m\u001b[1;32m   1740\u001b[0m \u001b[0;34m\u001b[0m\u001b[0m\n\u001b[1;32m   1741\u001b[0m     \u001b[0;31m# torchrec tests the code consistency with the following code\u001b[0m\u001b[0;34m\u001b[0m\u001b[0;34m\u001b[0m\u001b[0m\n",
            "\u001b[0;32m/usr/local/lib/python3.11/dist-packages/torch/nn/modules/module.py\u001b[0m in \u001b[0;36m_call_impl\u001b[0;34m(self, *args, **kwargs)\u001b[0m\n\u001b[1;32m   1748\u001b[0m                 \u001b[0;32mor\u001b[0m \u001b[0m_global_backward_pre_hooks\u001b[0m \u001b[0;32mor\u001b[0m \u001b[0m_global_backward_hooks\u001b[0m\u001b[0;34m\u001b[0m\u001b[0;34m\u001b[0m\u001b[0m\n\u001b[1;32m   1749\u001b[0m                 or _global_forward_hooks or _global_forward_pre_hooks):\n\u001b[0;32m-> 1750\u001b[0;31m             \u001b[0;32mreturn\u001b[0m \u001b[0mforward_call\u001b[0m\u001b[0;34m(\u001b[0m\u001b[0;34m*\u001b[0m\u001b[0margs\u001b[0m\u001b[0;34m,\u001b[0m \u001b[0;34m**\u001b[0m\u001b[0mkwargs\u001b[0m\u001b[0;34m)\u001b[0m\u001b[0;34m\u001b[0m\u001b[0;34m\u001b[0m\u001b[0m\n\u001b[0m\u001b[1;32m   1751\u001b[0m \u001b[0;34m\u001b[0m\u001b[0m\n\u001b[1;32m   1752\u001b[0m         \u001b[0mresult\u001b[0m \u001b[0;34m=\u001b[0m \u001b[0;32mNone\u001b[0m\u001b[0;34m\u001b[0m\u001b[0;34m\u001b[0m\u001b[0m\n",
            "\u001b[0;32m/usr/local/lib/python3.11/dist-packages/torch/nn/modules/linear.py\u001b[0m in \u001b[0;36mforward\u001b[0;34m(self, input)\u001b[0m\n\u001b[1;32m    123\u001b[0m \u001b[0;34m\u001b[0m\u001b[0m\n\u001b[1;32m    124\u001b[0m     \u001b[0;32mdef\u001b[0m \u001b[0mforward\u001b[0m\u001b[0;34m(\u001b[0m\u001b[0mself\u001b[0m\u001b[0;34m,\u001b[0m \u001b[0minput\u001b[0m\u001b[0;34m:\u001b[0m \u001b[0mTensor\u001b[0m\u001b[0;34m)\u001b[0m \u001b[0;34m->\u001b[0m \u001b[0mTensor\u001b[0m\u001b[0;34m:\u001b[0m\u001b[0;34m\u001b[0m\u001b[0;34m\u001b[0m\u001b[0m\n\u001b[0;32m--> 125\u001b[0;31m         \u001b[0;32mreturn\u001b[0m \u001b[0mF\u001b[0m\u001b[0;34m.\u001b[0m\u001b[0mlinear\u001b[0m\u001b[0;34m(\u001b[0m\u001b[0minput\u001b[0m\u001b[0;34m,\u001b[0m \u001b[0mself\u001b[0m\u001b[0;34m.\u001b[0m\u001b[0mweight\u001b[0m\u001b[0;34m,\u001b[0m \u001b[0mself\u001b[0m\u001b[0;34m.\u001b[0m\u001b[0mbias\u001b[0m\u001b[0;34m)\u001b[0m\u001b[0;34m\u001b[0m\u001b[0;34m\u001b[0m\u001b[0m\n\u001b[0m\u001b[1;32m    126\u001b[0m \u001b[0;34m\u001b[0m\u001b[0m\n\u001b[1;32m    127\u001b[0m     \u001b[0;32mdef\u001b[0m \u001b[0mextra_repr\u001b[0m\u001b[0;34m(\u001b[0m\u001b[0mself\u001b[0m\u001b[0;34m)\u001b[0m \u001b[0;34m->\u001b[0m \u001b[0mstr\u001b[0m\u001b[0;34m:\u001b[0m\u001b[0;34m\u001b[0m\u001b[0;34m\u001b[0m\u001b[0m\n",
            "\u001b[0;31mRuntimeError\u001b[0m: mat1 and mat2 shapes cannot be multiplied (3x2 and 3x6)"
          ]
        }
      ]
    },
    {
      "cell_type": "markdown",
      "source": [
        "> **실습과제:** 1. 위에서 `in_features` 값을 `2`에서 `3`으로 변경하시오. 에러가 발생하는가?\n",
        "> 2. `in_features=3`일 때, 에러를 해결하기 위해 입력값(`x`)의 형태(shape)를 어떻게 바꿔야 하는가?\n"
      ],
      "metadata": {
        "id": "qur_ituk7cWS"
      }
    },
    {
      "cell_type": "code",
      "source": [
        "x = tensor_A\n",
        "x = x.T\n",
        "output = linear(x)\n",
        "print(f\"Input shape: {x.shape}\\n\")\n",
        "print(f\"Output:\\n{output}\\n\\nOutput shape: {output.shape}\")"
      ],
      "metadata": {
        "colab": {
          "base_uri": "https://localhost:8080/"
        },
        "id": "LgC9RgL7WbeX",
        "outputId": "bc6b770d-de00-454e-d119-8ce9710e613f"
      },
      "execution_count": null,
      "outputs": [
        {
          "output_type": "stream",
          "name": "stdout",
          "text": [
            "Input shape: torch.Size([2, 3])\n",
            "\n",
            "Output:\n",
            "tensor([[0.9332, 0.8805, 3.0149, 1.5545, 1.8186, 2.0634],\n",
            "        [1.7186, 1.4009, 3.5818, 1.7408, 2.6017, 2.5123]],\n",
            "       grad_fn=<AddmmBackward0>)\n",
            "\n",
            "Output shape: torch.Size([2, 6])\n"
          ]
        }
      ]
    },
    {
      "cell_type": "markdown",
      "source": [
        "> **답:**\n",
        "1. 에러가 발생한다.\n",
        "2. x의 차원을 2*3으로 전치시켜서 곱에 사용해야함"
      ],
      "metadata": {
        "id": "7VE9EovFFBjd"
      }
    },
    {
      "cell_type": "markdown",
      "source": [
        "## 1.9. 텐서의 min, max, mean, sum 등"
      ],
      "metadata": {
        "id": "NGWP-eREFDu6"
      }
    },
    {
      "cell_type": "code",
      "source": [
        "# 텐서 생성\n",
        "x = torch.arange(0, 100, 10)\n",
        "x"
      ],
      "metadata": {
        "id": "x-g5VPNtFBGp",
        "colab": {
          "base_uri": "https://localhost:8080/"
        },
        "outputId": "a3748a0f-e46c-43f1-e7f4-4ec1a15a58bd"
      },
      "execution_count": null,
      "outputs": [
        {
          "output_type": "execute_result",
          "data": {
            "text/plain": [
              "tensor([ 0, 10, 20, 30, 40, 50, 60, 70, 80, 90])"
            ]
          },
          "metadata": {},
          "execution_count": 44
        }
      ]
    },
    {
      "cell_type": "code",
      "source": [
        "print(f\"Minimum: {x.min()}\")\n",
        "print(f\"Maximum: {x.max()}\")\n",
        "# print(f\"Mean: {x.mean()}\") # <- 에러 발생\n",
        "print(f\"Mean: {x.type(torch.float32).mean()}\") # float 데이터 타입이 아니면 작동하지 않음\n",
        "print(f\"Sum: {x.sum()}\")"
      ],
      "metadata": {
        "id": "46RVBJnF7WhG",
        "colab": {
          "base_uri": "https://localhost:8080/"
        },
        "outputId": "6d17cb73-ec6f-4802-e935-ac99af05b863"
      },
      "execution_count": null,
      "outputs": [
        {
          "output_type": "stream",
          "name": "stdout",
          "text": [
            "Minimum: 0\n",
            "Maximum: 90\n",
            "Mean: 45.0\n",
            "Sum: 450\n"
          ]
        }
      ]
    },
    {
      "cell_type": "code",
      "source": [
        "torch.max(x), torch.min(x), torch.mean(x.type(torch.float32)), torch.sum(x)"
      ],
      "metadata": {
        "id": "NVlt0LMmFTem",
        "colab": {
          "base_uri": "https://localhost:8080/"
        },
        "outputId": "01586e3e-317a-41d3-92fc-2d064be23cfa"
      },
      "execution_count": null,
      "outputs": [
        {
          "output_type": "execute_result",
          "data": {
            "text/plain": [
              "(tensor(90), tensor(0), tensor(45.), tensor(450))"
            ]
          },
          "metadata": {},
          "execution_count": 46
        }
      ]
    },
    {
      "cell_type": "markdown",
      "source": [
        "**Positional min/max**\n",
        "\n",
        "- [`torch.argmax()`](https://pytorch.org/docs/stable/generated/torch.argmax.html)와 [`torch.argmin()`](https://pytorch.org/docs/stable/generated/torch.argmin.html)을 통해 텐서 내에서 최댓값 또는 최솟값이 발생하는 인덱스(위치)를 찾을 수 있음.\n",
        "\n",
        " - 실제 값 자체가 아니라, 최고값/최저값이 어디에 위치해 있는지 알고싶을 때 유용함.\n",
        " - softmax 활성화 함수에서 사용함."
      ],
      "metadata": {
        "id": "qn-4G1qQFULG"
      }
    },
    {
      "cell_type": "code",
      "source": [
        "# 텐서 생성\n",
        "tensor = torch.arange(10, 100, 10)\n",
        "print(f\"Tensor: {tensor}\")\n",
        "\n",
        "# min/max의 인덱스를 반환\n",
        "print(f\"Index where max value occurs: {tensor.argmax()}\")\n",
        "print(f\"Index where min value occurs: {tensor.argmin()}\")"
      ],
      "metadata": {
        "id": "Uot25D43FTqw",
        "colab": {
          "base_uri": "https://localhost:8080/"
        },
        "outputId": "2e7ff4d0-40ed-4d70-aff5-27c96fa32254"
      },
      "execution_count": null,
      "outputs": [
        {
          "output_type": "stream",
          "name": "stdout",
          "text": [
            "Tensor: tensor([10, 20, 30, 40, 50, 60, 70, 80, 90])\n",
            "Index where max value occurs: 8\n",
            "Index where min value occurs: 0\n"
          ]
        }
      ]
    },
    {
      "cell_type": "markdown",
      "source": [
        "## 1.10. 텐서의 데이터 타입 변경"
      ],
      "metadata": {
        "id": "26gY72f0GJu_"
      }
    },
    {
      "cell_type": "code",
      "source": [
        "# 텐서 생성 후 데이터 타입 확인\n",
        "tensor = torch.arange(10., 100., 10.)\n",
        "tensor.dtype"
      ],
      "metadata": {
        "id": "Gb6KrtaUFwkj",
        "colab": {
          "base_uri": "https://localhost:8080/"
        },
        "outputId": "da8e006e-fc9d-4f03-b914-5e45ddf4a33d"
      },
      "execution_count": null,
      "outputs": [
        {
          "output_type": "execute_result",
          "data": {
            "text/plain": [
              "torch.float32"
            ]
          },
          "metadata": {},
          "execution_count": 48
        }
      ]
    },
    {
      "cell_type": "code",
      "source": [
        "# float16 텐서 생성\n",
        "tensor_float16 = tensor.type(torch.float16)\n",
        "tensor_float16"
      ],
      "metadata": {
        "id": "S8V7ndOMGUXf",
        "colab": {
          "base_uri": "https://localhost:8080/"
        },
        "outputId": "8de1eba9-7bb4-4a32-d63c-0bfc2bbbac46"
      },
      "execution_count": null,
      "outputs": [
        {
          "output_type": "execute_result",
          "data": {
            "text/plain": [
              "tensor([10., 20., 30., 40., 50., 60., 70., 80., 90.], dtype=torch.float16)"
            ]
          },
          "metadata": {},
          "execution_count": 49
        }
      ]
    },
    {
      "cell_type": "code",
      "source": [
        "# int8 텐서 생성\n",
        "tensor_int8 = tensor.type(torch.int8)\n",
        "tensor_int8"
      ],
      "metadata": {
        "id": "QpOZ_KaQGVNS",
        "colab": {
          "base_uri": "https://localhost:8080/"
        },
        "outputId": "8e556a85-c12c-4fef-f41e-3bf4656f0e40"
      },
      "execution_count": null,
      "outputs": [
        {
          "output_type": "execute_result",
          "data": {
            "text/plain": [
              "tensor([10, 20, 30, 40, 50, 60, 70, 80, 90], dtype=torch.int8)"
            ]
          },
          "metadata": {},
          "execution_count": 50
        }
      ]
    },
    {
      "cell_type": "markdown",
      "source": [
        "## 1.11. 텐서의 모양 변경\n",
        "딥러닝 훈련 과정에서 행렬 곱셈의 규칙 상 형태가 맞지 않으면 에러가 발생함. 이 때, 텐서 내부의 값은 그대로 두고, 차원이나 형태만 변경할 수 있음.\n",
        "\n",
        "자주 사용하는 주요 메서드는 다음과 같음:\n",
        "\n",
        "| 메서드 | 설명|\n",
        "| ----------------------------------------------------------------------------------------------------------- | -------------------------------------------------------------------------------- |\n",
        "| [`torch.reshape(input, shape)`](https://pytorch.org/docs/stable/generated/torch.reshape.html#torch.reshape) | 호환되는 경우 `input` 텐서를 지정한 `shape`으로 재구성함. `torch.Tensor.reshape()` 형태로도 사용 가능. |\n",
        "| [`Tensor.view(shape)`](https://pytorch.org/docs/stable/generated/torch.Tensor.view.html)                    | 원본 텐서와 데이터를 **공유**하지만 다른 `shape`으로 보여주는 뷰(view)를 반환함.                          |\n",
        "| [`torch.stack(tensors, dim=0)`](https://pytorch.org/docs/1.9.1/generated/torch.stack.html)                  | 여러 개의 `tensors`를 새로운 차원(`dim`)으로 이어붙임. 모든 텐서는 동일한 크기여야 함.                |\n",
        "| [`torch.squeeze(input)`](https://pytorch.org/docs/stable/generated/torch.squeeze.html)                      | 차원 크기가 `1`인 모든 차원을 제거함.                                                        |\n",
        "| [`torch.unsqueeze(input, dim)`](https://pytorch.org/docs/1.9.1/generated/torch.unsqueeze.html)              | 지정한 `dim` 위치에 크기 `1`인 차원을 추가함.                                                 |\n",
        "| [`torch.permute(input, dims)`](https://pytorch.org/docs/stable/generated/torch.permute.html)                | `input`의 차원을 `dims` 순서대로 재배열한 뷰(view)를 반환함.                           |\n"
      ],
      "metadata": {
        "id": "Neg9nzASGZze"
      }
    },
    {
      "cell_type": "code",
      "source": [
        "# 텐서 생성\n",
        "x = torch.arange(1., 8.)\n",
        "x, x.shape"
      ],
      "metadata": {
        "id": "WS-jQT-XGWLZ",
        "colab": {
          "base_uri": "https://localhost:8080/"
        },
        "outputId": "48953313-9a38-44a8-d6b3-e6ab0685b44c"
      },
      "execution_count": null,
      "outputs": [
        {
          "output_type": "execute_result",
          "data": {
            "text/plain": [
              "(tensor([1., 2., 3., 4., 5., 6., 7.]), torch.Size([7]))"
            ]
          },
          "metadata": {},
          "execution_count": 51
        }
      ]
    },
    {
      "cell_type": "code",
      "source": [
        "# 디멘션 추가\n",
        "x_reshaped = x.reshape(1, 7)\n",
        "x_reshaped, x_reshaped.shape"
      ],
      "metadata": {
        "id": "tazcoxtxHeks",
        "colab": {
          "base_uri": "https://localhost:8080/"
        },
        "outputId": "5fe74908-77cb-4f38-de9e-ae6ae97d832d"
      },
      "execution_count": null,
      "outputs": [
        {
          "output_type": "execute_result",
          "data": {
            "text/plain": [
              "(tensor([[1., 2., 3., 4., 5., 6., 7.]]), torch.Size([1, 7]))"
            ]
          },
          "metadata": {},
          "execution_count": 52
        }
      ]
    },
    {
      "cell_type": "code",
      "source": [
        "# view 변경(원본과 동일한 데이터를 유지하지만 보이는 형태만 변경함)\n",
        "z = x.view(1, 7)\n",
        "z, z.shape"
      ],
      "metadata": {
        "id": "o0stJIP9HfaT",
        "colab": {
          "base_uri": "https://localhost:8080/"
        },
        "outputId": "ea92abe7-e96e-42f8-d1c3-838673290ca8"
      },
      "execution_count": null,
      "outputs": [
        {
          "output_type": "execute_result",
          "data": {
            "text/plain": [
              "(tensor([[1., 2., 3., 4., 5., 6., 7.]]), torch.Size([1, 7]))"
            ]
          },
          "metadata": {},
          "execution_count": 53
        }
      ]
    },
    {
      "cell_type": "code",
      "source": [
        "# z를 변경하는 것은 x를 변경함\n",
        "z[:, 0] = 5\n",
        "z, x"
      ],
      "metadata": {
        "id": "SqPXlMVZHgjG",
        "colab": {
          "base_uri": "https://localhost:8080/"
        },
        "outputId": "9e46f139-048a-4071-9126-2e719f8edc26"
      },
      "execution_count": null,
      "outputs": [
        {
          "output_type": "execute_result",
          "data": {
            "text/plain": [
              "(tensor([[5., 2., 3., 4., 5., 6., 7.]]), tensor([5., 2., 3., 4., 5., 6., 7.]))"
            ]
          },
          "metadata": {},
          "execution_count": 54
        }
      ]
    },
    {
      "cell_type": "code",
      "source": [
        "# 텐서를 위에 쌓기\n",
        "x_stacked = torch.stack([x, x, x, x], dim=0) # dim=1로 변경하고 어떻게 변하나 확인해보기\n",
        "x_stacked"
      ],
      "metadata": {
        "id": "TniySvqpHh7K",
        "colab": {
          "base_uri": "https://localhost:8080/"
        },
        "outputId": "81430588-7057-49c0-b072-8e1929f287f6"
      },
      "execution_count": null,
      "outputs": [
        {
          "output_type": "execute_result",
          "data": {
            "text/plain": [
              "tensor([[5., 2., 3., 4., 5., 6., 7.],\n",
              "        [5., 2., 3., 4., 5., 6., 7.],\n",
              "        [5., 2., 3., 4., 5., 6., 7.],\n",
              "        [5., 2., 3., 4., 5., 6., 7.]])"
            ]
          },
          "metadata": {},
          "execution_count": 55
        }
      ]
    },
    {
      "cell_type": "code",
      "source": [
        "# dim=1로 변경하고 어떻게 변하나 확인해보기\n",
        "x_stacked = torch.stack([x, x, x, x], dim=1) # dim=1로 변경하고 어떻게 변하나 확인해보기\n",
        "x_stacked"
      ],
      "metadata": {
        "id": "rJ-0TnjByriA",
        "colab": {
          "base_uri": "https://localhost:8080/"
        },
        "outputId": "b17cc635-ed17-46f6-c489-651a6e8555c2"
      },
      "execution_count": null,
      "outputs": [
        {
          "output_type": "execute_result",
          "data": {
            "text/plain": [
              "tensor([[5., 5., 5., 5.],\n",
              "        [2., 2., 2., 2.],\n",
              "        [3., 3., 3., 3.],\n",
              "        [4., 4., 4., 4.],\n",
              "        [5., 5., 5., 5.],\n",
              "        [6., 6., 6., 6.],\n",
              "        [7., 7., 7., 7.]])"
            ]
          },
          "metadata": {},
          "execution_count": 56
        }
      ]
    },
    {
      "cell_type": "code",
      "source": [
        "print(f\"Previous tensor: {x_reshaped}\")\n",
        "print(f\"Previous shape: {x_reshaped.shape}\")\n",
        "\n",
        "# 불필요한 디멘션 제거\n",
        "x_squeezed = x_reshaped.squeeze()\n",
        "\n",
        "print(f\"\\nNew tensor: {x_squeezed}\")\n",
        "print(f\"New shape: {x_squeezed.shape}\")"
      ],
      "metadata": {
        "id": "bPDZJcz_Hjc5",
        "colab": {
          "base_uri": "https://localhost:8080/"
        },
        "outputId": "be419d58-b065-4cb1-b4ef-0cacd3bd1caa"
      },
      "execution_count": null,
      "outputs": [
        {
          "output_type": "stream",
          "name": "stdout",
          "text": [
            "Previous tensor: tensor([[5., 2., 3., 4., 5., 6., 7.]])\n",
            "Previous shape: torch.Size([1, 7])\n",
            "\n",
            "New tensor: tensor([5., 2., 3., 4., 5., 6., 7.])\n",
            "New shape: torch.Size([7])\n"
          ]
        }
      ]
    },
    {
      "cell_type": "code",
      "source": [
        "print(f\"Previous tensor: {x_squeezed}\")\n",
        "print(f\"Previous shape: {x_squeezed.shape}\")\n",
        "\n",
        "# 차원 하나 추가\n",
        "x_unsqueezed = x_squeezed.unsqueeze(dim=0)\n",
        "print(f\"\\nNew tensor: {x_unsqueezed}\")\n",
        "print(f\"New shape: {x_unsqueezed.shape}\")"
      ],
      "metadata": {
        "id": "icJ4yQ4oHlBG",
        "colab": {
          "base_uri": "https://localhost:8080/"
        },
        "outputId": "e2bcd435-98dc-41e9-cf79-bb137ac7329a"
      },
      "execution_count": null,
      "outputs": [
        {
          "output_type": "stream",
          "name": "stdout",
          "text": [
            "Previous tensor: tensor([5., 2., 3., 4., 5., 6., 7.])\n",
            "Previous shape: torch.Size([7])\n",
            "\n",
            "New tensor: tensor([[5., 2., 3., 4., 5., 6., 7.]])\n",
            "New shape: torch.Size([1, 7])\n"
          ]
        }
      ]
    },
    {
      "cell_type": "code",
      "source": [
        "# 특정 shape인 텐서 생성\n",
        "x_original = torch.rand(size=(224, 224, 3))\n",
        "\n",
        "# 원본 텐서의 축 순서를 재배열\n",
        "x_permuted = x_original.permute(2, 0, 1) # 축을 다음과 같이 이동함: 0->1, 1->2, 2->0\n",
        "\n",
        "print(f\"Previous shape: {x_original.shape}\")\n",
        "print(f\"New shape: {x_permuted.shape}\")"
      ],
      "metadata": {
        "id": "AQ_zc9GVHmxC",
        "colab": {
          "base_uri": "https://localhost:8080/"
        },
        "outputId": "bdcec911-c18e-490e-adee-ed792c747ecd"
      },
      "execution_count": null,
      "outputs": [
        {
          "output_type": "stream",
          "name": "stdout",
          "text": [
            "Previous shape: torch.Size([224, 224, 3])\n",
            "New shape: torch.Size([3, 224, 224])\n"
          ]
        }
      ]
    },
    {
      "cell_type": "markdown",
      "source": [
        "# 2. GPU 사용\n",
        "\n",
        "- GPU는 딥러닝 모델이 필요로 하는 행렬 곱셈과 같은 특정 연산에 있어서 CPU보다 훨씬 더 빠르게 연산을 수행할 수 있음.\n",
        "\n",
        "- 딥러닝 모델을 훈련시킬 때에는 가능한 GPU를 사용하는 것이 좋음.\n",
        "\n",
        "- 본 실습에서 'GPU`라는 표현은 CUDA가 활성화된 Nvidia GPU을 기본적으로 지칭함."
      ],
      "metadata": {
        "id": "NUoWh3UGH4a6"
      }
    },
    {
      "cell_type": "code",
      "source": [
        "# GPU 프로세스 확인\n",
        "!nvidia-smi"
      ],
      "metadata": {
        "id": "ijJZJOUDHoFQ",
        "colab": {
          "base_uri": "https://localhost:8080/"
        },
        "outputId": "3b982317-b0fb-44ba-bd62-34f3665fdd90"
      },
      "execution_count": null,
      "outputs": [
        {
          "output_type": "stream",
          "name": "stdout",
          "text": [
            "Thu Jun  5 13:51:44 2025       \n",
            "+-----------------------------------------------------------------------------------------+\n",
            "| NVIDIA-SMI 550.54.15              Driver Version: 550.54.15      CUDA Version: 12.4     |\n",
            "|-----------------------------------------+------------------------+----------------------+\n",
            "| GPU  Name                 Persistence-M | Bus-Id          Disp.A | Volatile Uncorr. ECC |\n",
            "| Fan  Temp   Perf          Pwr:Usage/Cap |           Memory-Usage | GPU-Util  Compute M. |\n",
            "|                                         |                        |               MIG M. |\n",
            "|=========================================+========================+======================|\n",
            "|   0  Tesla T4                       Off |   00000000:00:04.0 Off |                    0 |\n",
            "| N/A   40C    P8              9W /   70W |       0MiB /  15360MiB |      0%      Default |\n",
            "|                                         |                        |                  N/A |\n",
            "+-----------------------------------------+------------------------+----------------------+\n",
            "                                                                                         \n",
            "+-----------------------------------------------------------------------------------------+\n",
            "| Processes:                                                                              |\n",
            "|  GPU   GI   CI        PID   Type   Process name                              GPU Memory |\n",
            "|        ID   ID                                                               Usage      |\n",
            "|=========================================================================================|\n",
            "|  No running processes found                                                             |\n",
            "+-----------------------------------------------------------------------------------------+\n"
          ]
        }
      ]
    },
    {
      "cell_type": "markdown",
      "source": [
        "## 2.1. PyTorch를 GPU에서 돌리기\n",
        "\n",
        "- `torch.cuda.is_available()`의 출력이 `True`라면 PyTorch가 GPU를 인식하고 사용할 수 있는 상태임. `False`라면 GPU를 인식하지 못하는 상태임."
      ],
      "metadata": {
        "id": "cDtg1h5MIejo"
      }
    },
    {
      "cell_type": "code",
      "source": [
        "# GPU 사용 가능한지 확인\n",
        "torch.cuda.is_available()"
      ],
      "metadata": {
        "id": "kHqdbnyTIWUI",
        "colab": {
          "base_uri": "https://localhost:8080/"
        },
        "outputId": "aaf12714-4c37-47b3-f13b-3d16acc97938"
      },
      "execution_count": null,
      "outputs": [
        {
          "output_type": "execute_result",
          "data": {
            "text/plain": [
              "True"
            ]
          },
          "metadata": {},
          "execution_count": 61
        }
      ]
    },
    {
      "cell_type": "markdown",
      "source": [
        "- 코드가 CPU에서든 GPU에서든 자동으로 작동하도록 설정\n",
        " - 출력이 `\"cuda\"`라면, PyTorch 코드 전체를 사용 가능한 CUDA 디바이스(GPU) 에서 실행할 수 있다는 의미\n",
        " - 출력이 `\"cpu\"`라면, PyTorch 코드는 CPU에서 실행되게 됨.\n",
        " - PyTorch에서는 [디바이스 독립적인 코드(device agnostic code)](https://pytorch.org/docs/master/notes/cuda.html#device-agnostic-code)를 작성하는 것이 모범적임. 즉, 항상 사용 가능한 CPU 또는, 가능할 경우 GPU에서도 잘 작동하는 코드를 작성하는 것이 좋음."
      ],
      "metadata": {
        "id": "xQuqVdlDI2ur"
      }
    },
    {
      "cell_type": "code",
      "source": [
        "# device type 설정\n",
        "device = \"cuda\" if torch.cuda.is_available() else \"cpu\"\n",
        "device"
      ],
      "metadata": {
        "id": "oiCbSazIIkiK",
        "colab": {
          "base_uri": "https://localhost:8080/",
          "height": 36
        },
        "outputId": "93504454-087f-4142-bbd7-193f38fe431f"
      },
      "execution_count": null,
      "outputs": [
        {
          "output_type": "execute_result",
          "data": {
            "text/plain": [
              "'cuda'"
            ],
            "application/vnd.google.colaboratory.intrinsic+json": {
              "type": "string"
            }
          },
          "metadata": {},
          "execution_count": 62
        }
      ]
    },
    {
      "cell_type": "markdown",
      "source": [
        "- PyTorch가 접근 가능한 GPU의 개수는 [`torch.cuda.device_count()`](https://pytorch.org/docs/stable/generated/torch.cuda.device_count.html#torch.cuda.device_count)로 확인."
      ],
      "metadata": {
        "id": "KEzTx0VeJVCW"
      }
    },
    {
      "cell_type": "code",
      "source": [
        "# 사용가능한 GPU 개수 확인\n",
        "torch.cuda.device_count()"
      ],
      "metadata": {
        "id": "MQGkhNmTI8Wm",
        "colab": {
          "base_uri": "https://localhost:8080/"
        },
        "outputId": "2121b126-793d-42ae-c905-50ecbe68bde4"
      },
      "execution_count": null,
      "outputs": [
        {
          "output_type": "execute_result",
          "data": {
            "text/plain": [
              "1"
            ]
          },
          "metadata": {},
          "execution_count": 63
        }
      ]
    },
    {
      "cell_type": "markdown",
      "source": [
        "## 2.2. GPU에 텐서 올리기\n",
        "\n",
        "- `to(device)` 메소드를 통해 텐서 혹은 모델을 device에 올릴 수 있음.\n",
        "\n",
        "- 텐서를 GPU에 올리면 해당 텐서의 복사본이 GPU에 생성됨. 즉, 동일한 텐서가 CPU와 GPU에 동시에 존재할 수 있게 됨.\n",
        " - 이를 방지하기 위해서는 텐서를 다음과 같이 재할당 해야함. `some_tensor = some_tensor.to(device)`\n"
      ],
      "metadata": {
        "id": "dbqlNzXHJbar"
      }
    },
    {
      "cell_type": "code",
      "source": [
        "# 텐서 생성(CPU 기본)\n",
        "tensor = torch.tensor([1, 2, 3])\n",
        "\n",
        "# GPU에 텐서 없음\n",
        "print(tensor, tensor.device)\n",
        "\n",
        "# GPU로 텐서 이동\n",
        "tensor_on_gpu = tensor.to(device)\n",
        "tensor_on_gpu"
      ],
      "metadata": {
        "id": "FNY2hU_aJZEn",
        "colab": {
          "base_uri": "https://localhost:8080/"
        },
        "outputId": "4d815a63-17f3-4ba9-ef8a-1683ac415df4"
      },
      "execution_count": null,
      "outputs": [
        {
          "output_type": "stream",
          "name": "stdout",
          "text": [
            "tensor([1, 2, 3]) cpu\n"
          ]
        },
        {
          "output_type": "execute_result",
          "data": {
            "text/plain": [
              "tensor([1, 2, 3], device='cuda:0')"
            ]
          },
          "metadata": {},
          "execution_count": 64
        }
      ]
    },
    {
      "cell_type": "markdown",
      "source": [
        "## 2.3. 텐서를 CPU로 옮기기\n",
        "\n",
        "- 텐서를 `NumPy`와 같이 사용하고자 할 때 이런 작업이 필요함."
      ],
      "metadata": {
        "id": "wV-mCwpvKIkM"
      }
    },
    {
      "cell_type": "code",
      "source": [
        "# 아래 셀은 오류가 일어난 채로 제출\n",
        "# 텐서가 GPU에 올라가 있는 경우, NumPy로 변환할 수 없음\n",
        "# (현재 코랩 런타임이 GPU에 연결되어 있는 경우 오류 발생, CPU라면 오류 발생하지 않음)\n",
        "tensor_on_gpu.numpy()"
      ],
      "metadata": {
        "id": "XzQ2GoHfJ8gL",
        "colab": {
          "base_uri": "https://localhost:8080/",
          "height": 251
        },
        "outputId": "e5dc5d55-7739-492f-fb3e-4c93006875c6"
      },
      "execution_count": null,
      "outputs": [
        {
          "output_type": "error",
          "ename": "TypeError",
          "evalue": "can't convert cuda:0 device type tensor to numpy. Use Tensor.cpu() to copy the tensor to host memory first.",
          "traceback": [
            "\u001b[0;31m---------------------------------------------------------------------------\u001b[0m",
            "\u001b[0;31mTypeError\u001b[0m                                 Traceback (most recent call last)",
            "\u001b[0;32m<ipython-input-65-16f94716b396>\u001b[0m in \u001b[0;36m<cell line: 0>\u001b[0;34m()\u001b[0m\n\u001b[1;32m      2\u001b[0m \u001b[0;31m# 텐서가 GPU에 올라가 있는 경우, NumPy로 변환할 수 없음\u001b[0m\u001b[0;34m\u001b[0m\u001b[0;34m\u001b[0m\u001b[0m\n\u001b[1;32m      3\u001b[0m \u001b[0;31m# (현재 코랩 런타임이 GPU에 연결되어 있는 경우 오류 발생, CPU라면 오류 발생하지 않음)\u001b[0m\u001b[0;34m\u001b[0m\u001b[0;34m\u001b[0m\u001b[0m\n\u001b[0;32m----> 4\u001b[0;31m \u001b[0mtensor_on_gpu\u001b[0m\u001b[0;34m.\u001b[0m\u001b[0mnumpy\u001b[0m\u001b[0;34m(\u001b[0m\u001b[0;34m)\u001b[0m\u001b[0;34m\u001b[0m\u001b[0;34m\u001b[0m\u001b[0m\n\u001b[0m",
            "\u001b[0;31mTypeError\u001b[0m: can't convert cuda:0 device type tensor to numpy. Use Tensor.cpu() to copy the tensor to host memory first."
          ]
        }
      ]
    },
    {
      "cell_type": "code",
      "source": [
        "# 텐서를 다시 CPU로 이동\n",
        "tensor_back_on_cpu = tensor_on_gpu.cpu().numpy()\n",
        "tensor_back_on_cpu"
      ],
      "metadata": {
        "id": "NTiurrMCKcYd",
        "colab": {
          "base_uri": "https://localhost:8080/"
        },
        "outputId": "e469b047-cc90-4102-a7b2-768dab90ff54"
      },
      "execution_count": null,
      "outputs": [
        {
          "output_type": "execute_result",
          "data": {
            "text/plain": [
              "array([1, 2, 3])"
            ]
          },
          "metadata": {},
          "execution_count": 66
        }
      ]
    },
    {
      "cell_type": "code",
      "source": [
        "# 위 코드는 GPU에 있던 텐서의 복사본을 CPU 메모리로 반환함.\n",
        "# 원래 텐서는 GPU에 남아있음.\n",
        "tensor_on_gpu"
      ],
      "metadata": {
        "id": "30AqtuV3KdlK",
        "colab": {
          "base_uri": "https://localhost:8080/"
        },
        "outputId": "b0992ac5-f2f7-45d0-9e6d-3d1e614538ca"
      },
      "execution_count": null,
      "outputs": [
        {
          "output_type": "execute_result",
          "data": {
            "text/plain": [
              "tensor([1, 2, 3], device='cuda:0')"
            ]
          },
          "metadata": {},
          "execution_count": 67
        }
      ]
    },
    {
      "cell_type": "markdown",
      "source": [
        "# 3. Linear Regression\n",
        "\n",
        "- 선형 데이터에 대해 PyTorch로 선형 회귀 모델을 만들어 경사 하강법으로 모델을 훈련하는 과정을 구현해봄.\n",
        "\n",
        "<img src=\"https://raw.githubusercontent.com/mrdbourke/pytorch-deep-learning/main/images/01_a_pytorch_workflow.png\" width=900 alt=\"a pytorch workflow flowchat\"/>"
      ],
      "metadata": {
        "id": "G2pq5UrcKu_I"
      }
    },
    {
      "cell_type": "code",
      "source": [
        "from torch import nn # nn 은 PyTorch의 신경망 구성 요소들이 모두 포함된 모듈임\n",
        "import matplotlib.pyplot as plt"
      ],
      "metadata": {
        "id": "K8TvKiZeKsUW"
      },
      "execution_count": null,
      "outputs": []
    },
    {
      "cell_type": "markdown",
      "source": [
        "## 3.1. 데이터 준비하기\n",
        "\n",
        "- 가장 기초적인 직선 형태의 데이터를 사용하여 PyTorch의 workflow를 구현해볼 것임."
      ],
      "metadata": {
        "id": "yYfnGdj3LGMM"
      }
    },
    {
      "cell_type": "code",
      "source": [
        "# 이미 알려진 파라미터로 weight&bias 설정\n",
        "weight = 0.7\n",
        "bias = 0.3\n",
        "\n",
        "# 데이터 생성\n",
        "start = 0\n",
        "end = 1\n",
        "step = 0.02\n",
        "X = torch.arange(start, end, step).unsqueeze(dim=1)\n",
        "y = weight * X + bias\n",
        "\n",
        "X[:10], y[:10]"
      ],
      "metadata": {
        "id": "tFQG33CcLHJu",
        "colab": {
          "base_uri": "https://localhost:8080/"
        },
        "outputId": "dedbc3a5-bd97-405f-e212-2baf6dfbf408"
      },
      "execution_count": null,
      "outputs": [
        {
          "output_type": "execute_result",
          "data": {
            "text/plain": [
              "(tensor([[0.0000],\n",
              "         [0.0200],\n",
              "         [0.0400],\n",
              "         [0.0600],\n",
              "         [0.0800],\n",
              "         [0.1000],\n",
              "         [0.1200],\n",
              "         [0.1400],\n",
              "         [0.1600],\n",
              "         [0.1800]]),\n",
              " tensor([[0.3000],\n",
              "         [0.3140],\n",
              "         [0.3280],\n",
              "         [0.3420],\n",
              "         [0.3560],\n",
              "         [0.3700],\n",
              "         [0.3840],\n",
              "         [0.3980],\n",
              "         [0.4120],\n",
              "         [0.4260]]))"
            ]
          },
          "metadata": {},
          "execution_count": 69
        }
      ]
    },
    {
      "cell_type": "markdown",
      "source": [
        "- 모델을 만들기 전 데이터를 나눠야 함.\n",
        " - training set, test set, 필요하다면 validation set 데이터를 구성함.\n",
        "\n",
        "| 구분          | 목적                                                         | 전체 데이터 중 비율 | 사용 빈도           |\n",
        "| ----------- | ---------------------------------------------------------- | ----------- | --------------- |\n",
        "| Training Data | 모델이 학습하는 데 사용| 약 60–80%    | 항상 사용           |\n",
        "| Validation Data | 모델의 하이퍼파라미터를 조정하는 데 사용 | 약 10–20%    | 자주 사용되지만 항상은 아님 |\n",
        "| Test Data | 모델이 실제로 얼마나 잘 학습했는지 평가하는 데 사용 | 약 10–20%    | 항상 사용           |"
      ],
      "metadata": {
        "id": "o9eMYEiXL-2i"
      }
    },
    {
      "cell_type": "code",
      "source": [
        "# train/test split 생성\n",
        "train_split = int(0.8 * len(X)) # 80% 훈련 데이터, 20% 테스트 데이터\n",
        "X_train, y_train = X[:train_split], y[:train_split]\n",
        "X_test, y_test = X[train_split:], y[train_split:]\n",
        "\n",
        "len(X_train), len(y_train), len(X_test), len(y_test)"
      ],
      "metadata": {
        "id": "IHBLhVP9Ls3F",
        "colab": {
          "base_uri": "https://localhost:8080/"
        },
        "outputId": "33be0c8f-834b-4e62-b4eb-11eebf6c15e6"
      },
      "execution_count": null,
      "outputs": [
        {
          "output_type": "execute_result",
          "data": {
            "text/plain": [
              "(40, 40, 10, 10)"
            ]
          },
          "metadata": {},
          "execution_count": 70
        }
      ]
    },
    {
      "cell_type": "code",
      "source": [
        "# 시각화\n",
        "def plot_predictions(train_data=X_train,\n",
        "                     train_labels=y_train,\n",
        "                     test_data=X_test,\n",
        "                     test_labels=y_test,\n",
        "                     predictions=None):\n",
        "  \"\"\"\n",
        "  Plots training data, test data and compares predictions.\n",
        "  \"\"\"\n",
        "  plt.figure(figsize=(10, 7))\n",
        "\n",
        "  # 훈련 데이터는 파란색\n",
        "  plt.scatter(train_data, train_labels, c=\"b\", s=4, label=\"Training data\")\n",
        "\n",
        "  # 테스트 데이터는 초록색\n",
        "  plt.scatter(test_data, test_labels, c=\"g\", s=4, label=\"Testing data\")\n",
        "\n",
        "  if predictions is not None:\n",
        "    # 테스트 데이터에 대해 예측된 값을 빨간색으로 표시\n",
        "    plt.scatter(test_data, predictions, c=\"r\", s=4, label=\"Predictions\")\n",
        "\n",
        "  plt.legend(prop={\"size\": 14});"
      ],
      "metadata": {
        "id": "0aoW2axDMdHg"
      },
      "execution_count": null,
      "outputs": []
    },
    {
      "cell_type": "code",
      "source": [
        "plot_predictions();"
      ],
      "metadata": {
        "id": "4FmMiZ4yMdfB",
        "colab": {
          "base_uri": "https://localhost:8080/",
          "height": 459
        },
        "outputId": "a08041f6-d7fb-4fa4-d92c-2bb70159ee23"
      },
      "execution_count": null,
      "outputs": [
        {
          "output_type": "display_data",
          "data": {
            "text/plain": [
              "<Figure size 1000x700 with 1 Axes>"
            ],
            "image/png": "[encoded data removed]"
          },
          "metadata": {}
        }
      ]
    },
    {
      "cell_type": "markdown",
      "source": [
        "## 3.2. 모델 구성하기\n",
        "\n",
        "- 기본 선형 회귀(linear regression) 모델을 PyTorch 로 구현해봄.\n",
        "\n",
        "- `nn.Module`을 상속한 객체에는 반드시 `forward()` 메서드가 정의되어야 함."
      ],
      "metadata": {
        "id": "KGuCe-3LMlwW"
      }
    },
    {
      "cell_type": "code",
      "source": [
        "# 위 설명을 읽어보며 모델 생성 코드 작성:\n",
        "class LinearRegressionModel(nn.Module): # <- PyTorch에서 거의 모든 것은 nn.Module임\n",
        "    def __init__(self):\n",
        "        super().__init__()\n",
        "        self.weights = nn.Parameter(torch.randn(1, # <- 무작위 weight으로 시작, 모델이 학습하며 이 값은 점점 조정됨.\n",
        "                                                dtype=torch.float), # <- 기본값은 float32\n",
        "                                   requires_grad=True) # <- 경사 하강법을 통해 이 값을 업데이트하도록 표시\n",
        "\n",
        "        self.bias = nn.Parameter(torch.randn(1, # <- 무작위 bias로 시작, 마찬가지로 모델이 학습하며 값을 조정함.\n",
        "                                            dtype=torch.float), # <- 기본값은 float32\n",
        "                                requires_grad=True) # <- 경사 하강법을 통해 이 값을 업데이트하도록 표시\n",
        "\n",
        "    # Forward은 모델의 연산을 정의함.\n",
        "    def forward(self, x: torch.Tensor) -> torch.Tensor: # <- \"x\"는 입력 데이터\n",
        "        return self.weights * x + self.bias # <- 이 코드가 선형 회귀 공식 (y = m*x + b)"
      ],
      "metadata": {
        "id": "fPHoWh0rMiOs"
      },
      "execution_count": null,
      "outputs": []
    },
    {
      "cell_type": "markdown",
      "source": [
        "| PyTorch 모듈                                                                                                    | 역할                                                                                                                          |\n",
        "| ------------------------------------------------------------------------------------------------------------- | --------------------------------------------------------------------------------------------------------------------------- |\n",
        "| [`torch.nn`](https://pytorch.org/docs/stable/nn.html)                                                         | Computational graph를 구성하는 모든 구성 요소들을 포함. (Computational graph란, 특정 방식으로 연산이 실행되는 구조를 말함.)                                                         |\n",
        "| [`torch.nn.Parameter`](https://pytorch.org/docs/stable/generated/torch.nn.parameter.Parameter.html#parameter) | `nn.Module`과 함께 사용할 수 있는 텐서를 저장함. `requires_grad=True`로 설정되면 **자동 미분(autograd)** 을 통해 기울기가 자동 계산되어 모델 파라미터가 갱신됨.   |\n",
        "| [`torch.nn.Module`](https://pytorch.org/docs/stable/generated/torch.nn.Module.html#torch.nn.Module)           | 모든 신경망 모듈의 기본 클래스. 신경망을 구성하는 모든 레이어는 이 클래스를 상속하여 구현됨. PyTorch로 신경망을 만들 때는 반드시 이 클래스를 상속하고 `forward()` 메서드를 정의해야 함.   |\n",
        "| [`torch.optim`](https://pytorch.org/docs/stable/optim.html)                                                   | 다양한 최적화 알고리즘이 구현되어 있으며, 이 알고리즘들은 `nn.Parameter`에 저장된 파라미터를 어떻게 변경하면 손실(loss)을 줄이고, 경사 하강법을 더 잘 수행할 수 있는지 알려줌.     |\n",
        "| `def forward()`                                                                                               | 모든 `nn.Module`의 하위 클래스는 `forward()` 메서드를 필수로 정의해야 함. 이 메서드는 해당 모듈에 전달된 데이터에 대해 어떤 계산이 수행될지를 명시함 (예: 위에서 다룬 선형 회귀 계산 등). |"
      ],
      "metadata": {
        "id": "nFDFelZNPNnn"
      }
    },
    {
      "cell_type": "markdown",
      "source": [
        "## 3.3. PyTorch 모델 내용 확인하기\n",
        "\n",
        "- 모델 훈련 전이라 예측 능력이 낮은 상태이지만, 아래 코드를 사용하여 모델의 파라미터를 확인할 수 있음."
      ],
      "metadata": {
        "id": "PT_u5943Q89c"
      }
    },
    {
      "cell_type": "code",
      "source": [
        "# nn.Parameter은 랜덤으로 초기화되므로 수동 시드 설정\n",
        "torch.manual_seed(42)\n",
        "\n",
        "# 모델 인스턴스 생성 (해당 객체는 nn.Parameter들을 포함한 nn.Module의 서브클래스임)\n",
        "model_0 = LinearRegressionModel()\n",
        "\n",
        "# nn.Module 서브클래스 안에 있는 nn.Parameter들 확인\n",
        "list(model_0.parameters())"
      ],
      "metadata": {
        "id": "evG7Wi6CPIBS",
        "colab": {
          "base_uri": "https://localhost:8080/"
        },
        "outputId": "3305ae4f-1ee4-40ac-a990-5cb9b32f8bc1"
      },
      "execution_count": null,
      "outputs": [
        {
          "output_type": "execute_result",
          "data": {
            "text/plain": [
              "[Parameter containing:\n",
              " tensor([0.3367], requires_grad=True),\n",
              " Parameter containing:\n",
              " tensor([0.1288], requires_grad=True)]"
            ]
          },
          "metadata": {},
          "execution_count": 74
        }
      ]
    },
    {
      "cell_type": "code",
      "source": [
        "# 파라미터 출력\n",
        "model_0.state_dict()"
      ],
      "metadata": {
        "id": "fnbk0MrMRDkX",
        "colab": {
          "base_uri": "https://localhost:8080/"
        },
        "outputId": "91218b9e-e3ba-4043-97ed-6f6c47b71888"
      },
      "execution_count": null,
      "outputs": [
        {
          "output_type": "execute_result",
          "data": {
            "text/plain": [
              "OrderedDict([('weights', tensor([0.3367])), ('bias', tensor([0.1288]))])"
            ]
          },
          "metadata": {},
          "execution_count": 75
        }
      ]
    },
    {
      "cell_type": "markdown",
      "source": [
        "## 3.4. PyTorch 모델로 예측하기\n",
        "\n",
        "- 테스트 데이터인 `X_test`를 모델에 입력해\n",
        "예측값이 실제 값 `y_test`와 얼마나 비슷한지 살펴볼 수 있음.\n",
        "\n",
        "- 데이터를 모델에  입력하면, 모델은 내부의 `forward()` 메서드를 통해\n",
        "정의한 연산을 수행하고 결과를 출력함.\n",
        "\n",
        "- `torch.inference_mode()`는 모델을 추론(inference) 용도(예측을 수행할 때)로 전환함.\n",
        "\n",
        "- 이는 순전파(forward-pass)를 더 빠르게 수행할 수 있도록 여러 기능들을 비활성화함. 예를 들어, 학습 시에는 필요한 gradient tracking도\n",
        "추론 시에는 불필요하므로 자동으로 꺼짐.\n",
        "\n",
        "> **참고:** 이전 버전의 PyTorch 코드에서는 `torch.no_grad()`도 사용하나 `torch.inference_mode()`가 더 최신이고 더 빠르며, 권장되는 방법임."
      ],
      "metadata": {
        "id": "KxmxAq-XRH1B"
      }
    },
    {
      "cell_type": "code",
      "source": [
        "# 예측 수행\n",
        "with torch.inference_mode():\n",
        "    y_preds = model_0(X_test)\n",
        "\n",
        "# Note: 이전 버전의 PyTorch에서는 아래와 같이 no_grad 사용됨\n",
        "# with torch.no_grad():\n",
        "#   y_preds = model_0(X_test)"
      ],
      "metadata": {
        "id": "JwtFxzaLRZwv"
      },
      "execution_count": null,
      "outputs": []
    },
    {
      "cell_type": "code",
      "source": [
        "# 예측 확인\n",
        "print(f\"Number of testing samples: {len(X_test)}\")\n",
        "print(f\"Number of predictions made: {len(y_preds)}\")\n",
        "print(f\"Predicted values:\\n{y_preds}\")"
      ],
      "metadata": {
        "id": "PiEcPTDbSKYU",
        "colab": {
          "base_uri": "https://localhost:8080/"
        },
        "outputId": "c0fd688a-9202-43a2-d9a6-82a0358863ec"
      },
      "execution_count": null,
      "outputs": [
        {
          "output_type": "stream",
          "name": "stdout",
          "text": [
            "Number of testing samples: 10\n",
            "Number of predictions made: 10\n",
            "Predicted values:\n",
            "tensor([[0.3982],\n",
            "        [0.4049],\n",
            "        [0.4116],\n",
            "        [0.4184],\n",
            "        [0.4251],\n",
            "        [0.4318],\n",
            "        [0.4386],\n",
            "        [0.4453],\n",
            "        [0.4520],\n",
            "        [0.4588]])\n"
          ]
        }
      ]
    },
    {
      "cell_type": "code",
      "source": [
        "plot_predictions(predictions=y_preds)"
      ],
      "metadata": {
        "id": "kBK8Jcq2SMFI",
        "colab": {
          "base_uri": "https://localhost:8080/",
          "height": 459
        },
        "outputId": "56182b1e-b27b-4292-f9a1-9a31e6132451"
      },
      "execution_count": null,
      "outputs": [
        {
          "output_type": "display_data",
          "data": {
            "text/plain": [
              "<Figure size 1000x700 with 1 Axes>"
            ],
            "image/png": "[encoded data removed]"
          },
          "metadata": {}
        }
      ]
    },
    {
      "cell_type": "code",
      "source": [
        "y_test - y_preds"
      ],
      "metadata": {
        "id": "dbj9mSW0SQ8x",
        "colab": {
          "base_uri": "https://localhost:8080/"
        },
        "outputId": "212fbac0-c469-4353-ff53-ad825b74466d"
      },
      "execution_count": null,
      "outputs": [
        {
          "output_type": "execute_result",
          "data": {
            "text/plain": [
              "tensor([[0.4618],\n",
              "        [0.4691],\n",
              "        [0.4764],\n",
              "        [0.4836],\n",
              "        [0.4909],\n",
              "        [0.4982],\n",
              "        [0.5054],\n",
              "        [0.5127],\n",
              "        [0.5200],\n",
              "        [0.5272]])"
            ]
          },
          "metadata": {},
          "execution_count": 80
        }
      ]
    },
    {
      "cell_type": "markdown",
      "source": [
        "## 3.5. 모델 훈련하기\n",
        "\n",
        "- 대부분 우리는 모델의 이상적인 파라미터가 무엇인지 알지 못함.\n",
        "\n",
        "- 모델 내부의 파라미터를 최적화를 통해 업데이트시켜 정확한 예측을 하도록 모델을 훈련함.\n",
        "\n",
        "- 모델이 스스로 파라미터를 업데이트하도록 **손실 함수(loss function)**와 **옵티마이저(optimizer)**을 정의함.\n",
        "\n",
        "**손실 함수(loss function)**\n",
        "\n",
        "- 모델의 예측값(`y_preds`)이 실제 정답(`y_test`)와 얼마나 다른지 측정함. 손실이 클수록 모델의 성능이 나쁘다는 것을 의미함.\n",
        "\n",
        "- PyTorch 다큐멘테이션에서는 손실 함수를 'criterion' 혹은 'loss criterion'이라고 지칭하기도 하며, 모두 같은 의미임.\n",
        "\n",
        "- PyTorch: [`torch.nn`](https://pytorch.org/docs/stable/nn.html#loss-functions)에 다양한 손실 함수가 구현되어 있음.\n",
        "\n",
        "- 자주 사용되는 예시:\n",
        " - 회귀: MAE ([`torch.nn.L1Loss()`](https://pytorch.org/docs/stable/generated/torch.nn.L1Loss.html))\n",
        " - 분류: Binary Cross Entropy ([`torch.nn.BCELoss()`](https://pytorch.org/docs/stable/generated/torch.nn.BCELoss.html))\n",
        "\n",
        "\n",
        "**옵티마이저(optimizer)**\n",
        "\n",
        "- 손실을 줄이기 위해 모델의 내부 파라미터를 어떻게 업데이트할지 결정함.\n",
        "\n",
        "- PyTorch: [`torch.optim`](https://pytorch.org/docs/stable/optim.html)에서 확인 가능\n",
        "\n",
        "- 자주 사용되는 예시:\n",
        " - Stochastic Gradient Descent(SGD): [`torch.optim.SGD()`](https://pytorch.org/docs/stable/generated/torch.optim.SGD.html)\n",
        " - Adam : [`torch.optim.Adam()`](https://pytorch.org/docs/stable/generated/torch.optim.Adam.html)"
      ],
      "metadata": {
        "id": "G-Zu14JFSSf7"
      }
    },
    {
      "cell_type": "code",
      "source": [
        "# 손실 함수 생성\n",
        "loss_fn = nn.L1Loss() # MAE loss = L1Loss\n",
        "\n",
        "# 옵티마이저 생성\n",
        "optimizer = torch.optim.SGD(params=model_0.parameters(), # 최적화할 대상 모델의 파라미터들\n",
        "                            lr=0.01) # 학습률(optimizer가 각 단계마다 파라미터를 얼마나 변경할지 결정함)"
      ],
      "metadata": {
        "id": "ykrak00bSUWX"
      },
      "execution_count": null,
      "outputs": []
    },
    {
      "cell_type": "markdown",
      "source": [
        "**Training Loop 정의:**\n",
        "\n",
        "1. 순전파(forward pass): 모델이 학습 데이터를 한번 전체 통과하여 `forward()` 함수의 계산을 수행함.\n",
        "> `model(x_train)`\n",
        "2. 손실 계산: 모델의 출력값을 정답 레이블과 비교하여, 얼마나 틀렸는지 평가함.\n",
        "> `loss = loss_fn(y_pred, y_train)`\n",
        "3. 그래디언트 초기화: 옵티마이저의 그래디언트를 0으로 초기화함. (PyTorch에서는 기본적으로 그래디언트가 누적되기 때문에, 매 스텝마다 초기화해야함.)\n",
        "> `optimizer.zero_grad()`\n",
        "4. 역전파(backpropagation): 손실을 기준으로 각 파라미터에 대한 그래디언트를 계산함. (`requires_grad=True`인 모든 파라미터가 대상임.)\n",
        "> `loss.backward()`\n",
        "5. 옵티마이저 업데이트: 역전파로 계산된 그래디언트를 기반으로 파라미터를 업데이트\n",
        "> `optimizer.step()`"
      ],
      "metadata": {
        "id": "npS3NUbVVQTb"
      }
    },
    {
      "cell_type": "code",
      "source": [
        "torch.manual_seed(42)\n",
        "\n",
        "# 에폭 수 설정 (모델이 학습 데이터를 몇번 반복해서 학습할지 결정)\n",
        "epochs = 100\n",
        "\n",
        "# loss 값을 추정하기 위한 리스트 생성\n",
        "train_loss_values = []\n",
        "test_loss_values = []\n",
        "epoch_count = []\n",
        "\n",
        "for epoch in range(epochs):\n",
        "    ### Training Loop\n",
        "\n",
        "    # 모델을 학습 모드로 설정 (default 상태)\n",
        "    model_0.train()\n",
        "\n",
        "    # 1. forward 사용하여 학습 데이터에 대해 순전파 수행\n",
        "    y_pred = model_0(X_train)\n",
        "\n",
        "    # 2. loss 계산 (모델의 예측값이 실제값과 얼마나 다른지 측정)\n",
        "    loss = loss_fn(y_pred, y_train)\n",
        "\n",
        "    # 3. 옵티마이저 그래디언트 초기화\n",
        "    optimizer.zero_grad()\n",
        "\n",
        "    # 4. Loss 역전파\n",
        "    loss.backward()\n",
        "\n",
        "    # 5. 모델 파라미터 업데이트\n",
        "    optimizer.step()\n",
        "\n",
        "    ### 테스팅\n",
        "\n",
        "    # 모델을 평가 모드로 설정\n",
        "    model_0.eval()\n",
        "\n",
        "    with torch.inference_mode():\n",
        "      # 1. 테스트 데이터에 순전파\n",
        "      test_pred = model_0(X_test)\n",
        "\n",
        "      # 2. 테스트 데이터에 대해 loss 계산\n",
        "      test_loss = loss_fn(test_pred, y_test.type(torch.float)) # 예측값은 float 데이터 타입으로 출력되므로, 비교 연산은 같은 타입의 텐서로 수행\n",
        "\n",
        "      # 진행상황 출력\n",
        "      if epoch % 10 == 0:\n",
        "            epoch_count.append(epoch)\n",
        "            train_loss_values.append(loss.detach().numpy())\n",
        "            test_loss_values.append(test_loss.detach().numpy())\n",
        "            print(f\"Epoch: {epoch} | MAE Train Loss: {loss} | MAE Test Loss: {test_loss} \")"
      ],
      "metadata": {
        "id": "-yfbceqYU_Yt",
        "colab": {
          "base_uri": "https://localhost:8080/"
        },
        "outputId": "d80279fd-f61a-463f-a69d-6a8ef7d4e8f7"
      },
      "execution_count": null,
      "outputs": [
        {
          "output_type": "stream",
          "name": "stdout",
          "text": [
            "Epoch: 0 | MAE Train Loss: 0.31288138031959534 | MAE Test Loss: 0.48106518387794495 \n",
            "Epoch: 10 | MAE Train Loss: 0.1976713240146637 | MAE Test Loss: 0.3463551998138428 \n",
            "Epoch: 20 | MAE Train Loss: 0.08908725529909134 | MAE Test Loss: 0.21729660034179688 \n",
            "Epoch: 30 | MAE Train Loss: 0.053148526698350906 | MAE Test Loss: 0.14464017748832703 \n",
            "Epoch: 40 | MAE Train Loss: 0.04543796554207802 | MAE Test Loss: 0.11360953003168106 \n",
            "Epoch: 50 | MAE Train Loss: 0.04167863354086876 | MAE Test Loss: 0.09919948130846024 \n",
            "Epoch: 60 | MAE Train Loss: 0.03818932920694351 | MAE Test Loss: 0.08886633068323135 \n",
            "Epoch: 70 | MAE Train Loss: 0.03476089984178543 | MAE Test Loss: 0.0805937647819519 \n",
            "Epoch: 80 | MAE Train Loss: 0.03132382780313492 | MAE Test Loss: 0.07232122868299484 \n",
            "Epoch: 90 | MAE Train Loss: 0.02788739837706089 | MAE Test Loss: 0.06473556160926819 \n"
          ]
        }
      ]
    },
    {
      "cell_type": "code",
      "source": [
        "# loss curve 시각화\n",
        "plt.plot(epoch_count, train_loss_values, label=\"Train loss\")\n",
        "plt.plot(epoch_count, test_loss_values, label=\"Test loss\")\n",
        "plt.title(\"Training and test loss curves\")\n",
        "plt.ylabel(\"Loss\")\n",
        "plt.xlabel(\"Epochs\")\n",
        "plt.legend();"
      ],
      "metadata": {
        "id": "psLp4fZQWap5",
        "colab": {
          "base_uri": "https://localhost:8080/",
          "height": 472
        },
        "outputId": "731acbf1-39f3-4b1d-a541-c95df107a776"
      },
      "execution_count": null,
      "outputs": [
        {
          "output_type": "display_data",
          "data": {
            "text/plain": [
              "<Figure size 640x480 with 1 Axes>"
            ],
            "image/png": "[encoded data removed]"
          },
          "metadata": {}
        }
      ]
    },
    {
      "cell_type": "code",
      "source": [
        "# 학습된 모델 파라미터 출력\n",
        "print(\"The model learned the following values for weights and bias:\")\n",
        "print(model_0.state_dict())\n",
        "print(\"\\nAnd the original values for weights and bias are:\")\n",
        "print(f\"weights: {weight}, bias: {bias}\")"
      ],
      "metadata": {
        "id": "oRA0A4z0Wcvn",
        "colab": {
          "base_uri": "https://localhost:8080/"
        },
        "outputId": "143b9a81-54e6-4d31-a4af-a5454523b6c7"
      },
      "execution_count": null,
      "outputs": [
        {
          "output_type": "stream",
          "name": "stdout",
          "text": [
            "The model learned the following values for weights and bias:\n",
            "OrderedDict([('weights', tensor([0.5784])), ('bias', tensor([0.3513]))])\n",
            "\n",
            "And the original values for weights and bias are:\n",
            "weights: 0.7, bias: 0.3\n"
          ]
        }
      ]
    },
    {
      "cell_type": "markdown",
      "source": [
        "> **실습과제:** 3. 위에서 `epochs` 값을 `200`으로 바꿔보시오. Loss curve와 모델의 `weight`, `bias`가 어떻게 바뀌는지 아레 셀에 코드를 작성하여 확인하시오."
      ],
      "metadata": {
        "id": "uI7xAuEJW71q"
      }
    },
    {
      "cell_type": "code",
      "source": [
        "# 답:\n",
        "torch.manual_seed(42)\n",
        "\n",
        "# 에폭 수 설정 (모델이 학습 데이터를 몇번 반복해서 학습할지 결정)\n",
        "epochs = 200\n",
        "\n",
        "# loss 값을 추정하기 위한 리스트 생성\n",
        "train_loss_values = []\n",
        "test_loss_values = []\n",
        "epoch_count = []\n",
        "\n",
        "for epoch in range(epochs):\n",
        "    ### Training Loop\n",
        "\n",
        "    # 모델을 학습 모드로 설정 (default 상태)\n",
        "    model_0.train()\n",
        "\n",
        "    # 1. forward 사용하여 학습 데이터에 대해 순전파 수행\n",
        "    y_pred = model_0(X_train)\n",
        "\n",
        "    # 2. loss 계산 (모델의 예측값이 실제값과 얼마나 다른지 측정)\n",
        "    loss = loss_fn(y_pred, y_train)\n",
        "\n",
        "    # 3. 옵티마이저 그래디언트 초기화\n",
        "    optimizer.zero_grad()\n",
        "\n",
        "    # 4. Loss 역전파\n",
        "    loss.backward()\n",
        "\n",
        "    # 5. 모델 파라미터 업데이트\n",
        "    optimizer.step()\n",
        "\n",
        "    ### 테스팅\n",
        "\n",
        "    # 모델을 평가 모드로 설정\n",
        "    model_0.eval()\n",
        "\n",
        "    with torch.inference_mode():\n",
        "      # 1. 테스트 데이터에 순전파\n",
        "      test_pred = model_0(X_test)\n",
        "\n",
        "      # 2. 테스트 데이터에 대해 loss 계산\n",
        "      test_loss = loss_fn(test_pred, y_test.type(torch.float)) # 예측값은 float 데이터 타입으로 출력되므로, 비교 연산은 같은 타입의 텐서로 수행\n",
        "\n",
        "      # 진행상황 출력\n",
        "      if epoch % 10 == 0:\n",
        "            epoch_count.append(epoch)\n",
        "            train_loss_values.append(loss.detach().numpy())\n",
        "            test_loss_values.append(test_loss.detach().numpy())\n",
        "            print(f\"Epoch: {epoch} | MAE Train Loss: {loss} | MAE Test Loss: {test_loss} \")"
      ],
      "metadata": {
        "id": "wMYws2M4W4Oy",
        "colab": {
          "base_uri": "https://localhost:8080/"
        },
        "outputId": "2e41529c-82dc-420f-c286-39bb4e9a06aa"
      },
      "execution_count": null,
      "outputs": [
        {
          "output_type": "stream",
          "name": "stdout",
          "text": [
            "Epoch: 0 | MAE Train Loss: 0.024458957836031914 | MAE Test Loss: 0.05646304413676262 \n",
            "Epoch: 10 | MAE Train Loss: 0.021020207554101944 | MAE Test Loss: 0.04819049686193466 \n",
            "Epoch: 20 | MAE Train Loss: 0.01758546568453312 | MAE Test Loss: 0.04060482233762741 \n",
            "Epoch: 30 | MAE Train Loss: 0.014155393466353416 | MAE Test Loss: 0.03233227878808975 \n",
            "Epoch: 40 | MAE Train Loss: 0.010716589167714119 | MAE Test Loss: 0.024059748277068138 \n",
            "Epoch: 50 | MAE Train Loss: 0.0072835334576666355 | MAE Test Loss: 0.016474086791276932 \n",
            "Epoch: 60 | MAE Train Loss: 0.0038517764769494534 | MAE Test Loss: 0.008201557211577892 \n",
            "Epoch: 70 | MAE Train Loss: 0.008932482451200485 | MAE Test Loss: 0.005023092031478882 \n",
            "Epoch: 80 | MAE Train Loss: 0.008932482451200485 | MAE Test Loss: 0.005023092031478882 \n",
            "Epoch: 90 | MAE Train Loss: 0.008932482451200485 | MAE Test Loss: 0.005023092031478882 \n",
            "Epoch: 100 | MAE Train Loss: 0.008932482451200485 | MAE Test Loss: 0.005023092031478882 \n",
            "Epoch: 110 | MAE Train Loss: 0.008932482451200485 | MAE Test Loss: 0.005023092031478882 \n",
            "Epoch: 120 | MAE Train Loss: 0.008932482451200485 | MAE Test Loss: 0.005023092031478882 \n",
            "Epoch: 130 | MAE Train Loss: 0.008932482451200485 | MAE Test Loss: 0.005023092031478882 \n",
            "Epoch: 140 | MAE Train Loss: 0.008932482451200485 | MAE Test Loss: 0.005023092031478882 \n",
            "Epoch: 150 | MAE Train Loss: 0.008932482451200485 | MAE Test Loss: 0.005023092031478882 \n",
            "Epoch: 160 | MAE Train Loss: 0.008932482451200485 | MAE Test Loss: 0.005023092031478882 \n",
            "Epoch: 170 | MAE Train Loss: 0.008932482451200485 | MAE Test Loss: 0.005023092031478882 \n",
            "Epoch: 180 | MAE Train Loss: 0.008932482451200485 | MAE Test Loss: 0.005023092031478882 \n",
            "Epoch: 190 | MAE Train Loss: 0.008932482451200485 | MAE Test Loss: 0.005023092031478882 \n"
          ]
        }
      ]
    },
    {
      "cell_type": "code",
      "source": [
        "# 답\n",
        "# loss curve 시각화\n",
        "plt.plot(epoch_count, train_loss_values, label=\"Train loss\")\n",
        "plt.plot(epoch_count, test_loss_values, label=\"Test loss\")\n",
        "plt.title(\"Training and test loss curves\")\n",
        "plt.ylabel(\"Loss\")\n",
        "plt.xlabel(\"Epochs\")\n",
        "plt.legend();"
      ],
      "metadata": {
        "colab": {
          "base_uri": "https://localhost:8080/",
          "height": 472
        },
        "id": "kGPy7kNl2BcN",
        "outputId": "9b741022-6128-4afc-8b09-b931ca49e60a"
      },
      "execution_count": null,
      "outputs": [
        {
          "output_type": "display_data",
          "data": {
            "text/plain": [
              "<Figure size 640x480 with 1 Axes>"
            ],
            "image/png": "[encoded data removed]"
          },
          "metadata": {}
        }
      ]
    },
    {
      "cell_type": "code",
      "source": [
        "# 답\n",
        "# 학습된 모델 파라미터 출력\n",
        "print(\"The model learned the following values for weights and bias:\")\n",
        "print(model_0.state_dict())\n",
        "print(\"\\nAnd the original values for weights and bias are:\")\n",
        "print(f\"weights: {weight}, bias: {bias}\")"
      ],
      "metadata": {
        "colab": {
          "base_uri": "https://localhost:8080/"
        },
        "id": "Z_NmFD8d2CGV",
        "outputId": "4a9e219a-828b-41f0-f5bb-09dcade29b13"
      },
      "execution_count": null,
      "outputs": [
        {
          "output_type": "stream",
          "name": "stdout",
          "text": [
            "The model learned the following values for weights and bias:\n",
            "OrderedDict([('weights', tensor([0.6990])), ('bias', tensor([0.3093]))])\n",
            "\n",
            "And the original values for weights and bias are:\n",
            "weights: 0.7, bias: 0.3\n"
          ]
        }
      ]
    },
    {
      "cell_type": "markdown",
      "source": [
        "3.\n",
        "original values for weights and bias\n",
        "\n",
        "weight : 0.7\n",
        "bias : 0.3\n",
        "\n",
        "**epochs = 100**)\n",
        "\n",
        "'weights', tensor([0.5784])), ('bias', tensor([0.3513])\n",
        "\n",
        "**epochs = 200**)\n",
        "\n",
        "'weights', tensor([0.6990])), ('bias', tensor([0.3093])\n",
        "\n",
        "epochs 값을 200으로 두었을 때가 100으로 두었을 때보다 original value에 가까워지는 모습을 보인다.\n",
        "\n"
      ],
      "metadata": {
        "id": "kxeLQPDlX56G"
      }
    },
    {
      "cell_type": "markdown",
      "source": [
        "## 3.6. 학습 완료된 모델로 예측하기 (추론, inference)\n",
        "\n",
        "**Inference Loop**\n",
        "\n",
        "1. 모델을 평가 모드로 설정함.\n",
        "> `model.eval()`\n",
        "2. `torch.inference_mode()`를 통해 예측을 수행함.\n",
        "\n",
        "3. 모델과 입력 데이터는 반드시 동일한 device에 있어야 함."
      ],
      "metadata": {
        "id": "ZAG-Tu40XJgB"
      }
    },
    {
      "cell_type": "code",
      "source": [
        "# 모델을 평가 모드로 설정\n",
        "model_0.eval()\n",
        "\n",
        "with torch.inference_mode():\n",
        "  y_preds = model_0(X_test)\n",
        "y_preds"
      ],
      "metadata": {
        "id": "SFNYF0CSYvob",
        "colab": {
          "base_uri": "https://localhost:8080/"
        },
        "outputId": "a784df97-d92c-422d-fa23-a3e3e64178fb"
      },
      "execution_count": null,
      "outputs": [
        {
          "output_type": "execute_result",
          "data": {
            "text/plain": [
              "tensor([[0.8685],\n",
              "        [0.8825],\n",
              "        [0.8965],\n",
              "        [0.9105],\n",
              "        [0.9245],\n",
              "        [0.9384],\n",
              "        [0.9524],\n",
              "        [0.9664],\n",
              "        [0.9804],\n",
              "        [0.9944]])"
            ]
          },
          "metadata": {},
          "execution_count": 88
        }
      ]
    },
    {
      "cell_type": "code",
      "source": [
        "plot_predictions(predictions=y_preds)"
      ],
      "metadata": {
        "id": "28iqQ-DnZFAC",
        "colab": {
          "base_uri": "https://localhost:8080/",
          "height": 459
        },
        "outputId": "bc366aae-fb89-434a-e697-5dcf20a035f2"
      },
      "execution_count": null,
      "outputs": [
        {
          "output_type": "display_data",
          "data": {
            "text/plain": [
              "<Figure size 1000x700 with 1 Axes>"
            ],
            "image/png": "[encoded data removed]"
          },
          "metadata": {}
        }
      ]
    },
    {
      "cell_type": "markdown",
      "source": [
        "# 4. Classification\n",
        "\n",
        "분류 문제의 종류:\n",
        "\n",
        "<div align=\"center\">\n",
        "<img src=\"https://raw.githubusercontent.com/mrdbourke/pytorch-deep-learning/main/images/02-different-classification-problems.png\" alt=\"various different classification in machine learning such as binary classification, multiclass classification and multilabel classification\" width=900/>\n",
        "\n",
        "| 문제 종류 | 설명 | 예시 |\n",
        "| ----- | ----- | ----- |\n",
        "| 이진 분류 (Binary classification) | 타깃이 두 가지 중 하나일 수 있음 (예: 예 / 아니오) | 건강 정보를 기반으로 해당 사람이 심장 질환이 있는지 여부를 예측 |\n",
        "| 다중 분류 (Multi-class classification) | 타깃이 두 가지를 초과하는 여러 선택지 중 하나일 수 있음 | 사진이 음식, 사람, 개 중 무엇인지 분류 |\n",
        "| 다중 레이블 분류 (Multi-label classification) | 타깃에 둘 이상의 레이블이 할당될 수 있음 | 위키피디아 문서에 어떤 카테고리를 부여할지 예측 (예: 수학, 과학, 철학 등) |"
      ],
      "metadata": {
        "id": "scDMkz-CajTF"
      }
    },
    {
      "cell_type": "markdown",
      "source": [
        "분류 모델의 구성 요소:\n",
        "\n",
        "| **하이퍼파라미터** | **Binary Classification** | **Multiclass classification** |\n",
        "| --- | --- | --- |\n",
        "| **입력층 형태** (`in_features`) | 특성 수와 동일 (예: 심장 질환 예측에서 나이, 성별, 키, 몸무게, 흡연 여부 = 5개) | 이진 분류와 동일 |\n",
        "| **은닉층** | 문제에 따라 다름, 최소 1개, 최대 제한 없음 | 이진 분류와 동일 |\n",
        "| **은닉층당 뉴런 수** | 문제에 따라 다름, 일반적으로 10\\~512개 | 이진 분류와 동일 |\n",
        "| **출력층 형태** (`out_features`) | 1 (두 클래스 중 하나) | 클래스당 1개 (예: 음식, 사람, 개 사진 분류의 경우 3개) |\n",
        "| **은닉층 활성화 함수** | 일반적으로 [ReLU](https://pytorch.org/docs/stable/generated/torch.nn.ReLU.html) 사용, 하지만 [다른 여러 가지도 가능](https://en.wikipedia.org/wiki/Activation_function#Table_of_activation_functions) | 이진 분류와 동일 |\n",
        "| **출력층 활성화 함수** | [시그모이드(Sigmoid)](https://en.wikipedia.org/wiki/Sigmoid_function) ([`torch.sigmoid`](https://pytorch.org/docs/stable/generated/torch.sigmoid.html)) | [소프트맥스(Softmax)](https://en.wikipedia.org/wiki/Softmax_function) ([`torch.softmax`](https://pytorch.org/docs/stable/generated/torch.nn.Softmax.html)) |\n",
        "| **손실 함수** | [이진 크로스엔트로피(Binary crossentropy)](https://en.wikipedia.org/wiki/Cross_entropy#Cross-entropy_loss_function_and_logistic_regression) ([`torch.nn.BCELoss`](https://pytorch.org/docs/stable/generated/torch.nn.BCELoss.html)) | 크로스엔트로피(Cross entropy) ([`torch.nn.CrossEntropyLoss`](https://pytorch.org/docs/stable/generated/torch.nn.CrossEntropyLoss.html)) |\n",
        "| **옵티마이저** | [SGD](https://pytorch.org/docs/stable/generated/torch.optim.SGD.html) (확률적 경사 하강법), [Adam](https://pytorch.org/docs/stable/generated/torch.optim.Adam.html) ([`torch.optim`](https://pytorch.org/docs/stable/optim.html)에서 더 많은 옵션 확인 가능) | 이진 분류와 동일 |"
      ],
      "metadata": {
        "id": "69dFbR2gbUX6"
      }
    },
    {
      "cell_type": "markdown",
      "source": [
        "## 4.1. 분류 데이터 생성"
      ],
      "metadata": {
        "id": "neIeQY90bs1X"
      }
    },
    {
      "cell_type": "code",
      "source": [
        "from sklearn.datasets import make_circles\n",
        "\n",
        "n_samples = 1000\n",
        "\n",
        "X, y = make_circles(n_samples,\n",
        "                    noise=0.03, # 노이즈 추가\n",
        "                    random_state=42) # 시드값 설정"
      ],
      "metadata": {
        "id": "XHS8bZpoYbmZ"
      },
      "execution_count": null,
      "outputs": []
    },
    {
      "cell_type": "code",
      "source": [
        "# shape 확인\n",
        "X.shape, y.shape"
      ],
      "metadata": {
        "id": "RbB08vFtcRcm",
        "colab": {
          "base_uri": "https://localhost:8080/"
        },
        "outputId": "0ea8e290-8ff5-4dec-a8dc-a70fefef1657"
      },
      "execution_count": null,
      "outputs": [
        {
          "output_type": "execute_result",
          "data": {
            "text/plain": [
              "((1000, 2), (1000,))"
            ]
          },
          "metadata": {},
          "execution_count": 91
        }
      ]
    },
    {
      "cell_type": "code",
      "source": [
        "# 레이블 개수 확인\n",
        "import numpy as np\n",
        "np.unique(y, return_counts=True)"
      ],
      "metadata": {
        "id": "RjCerCkjbwMn",
        "colab": {
          "base_uri": "https://localhost:8080/"
        },
        "outputId": "dea99027-82af-48f4-8d6a-d7249f6441e6"
      },
      "execution_count": null,
      "outputs": [
        {
          "output_type": "execute_result",
          "data": {
            "text/plain": [
              "(array([0, 1]), array([500, 500]))"
            ]
          },
          "metadata": {},
          "execution_count": 92
        }
      ]
    },
    {
      "cell_type": "code",
      "source": [
        "# 데이터 시각화\n",
        "import matplotlib.pyplot as plt\n",
        "plt.scatter(x=X[:, 0],\n",
        "            y=X[:, 1],\n",
        "            c=y,\n",
        "            cmap=plt.cm.RdYlBu);"
      ],
      "metadata": {
        "id": "fgkmwib6b7MY",
        "colab": {
          "base_uri": "https://localhost:8080/",
          "height": 430
        },
        "outputId": "d2cd2eea-d606-41c9-e170-e7290db8c6b7"
      },
      "execution_count": null,
      "outputs": [
        {
          "output_type": "display_data",
          "data": {
            "text/plain": [
              "<Figure size 640x480 with 1 Axes>"
            ],
            "image/png": "[encoded data removed]"
          },
          "metadata": {}
        }
      ]
    },
    {
      "cell_type": "code",
      "source": [
        "# 데이터 텐서로 변환\n",
        "X = torch.from_numpy(X).type(torch.float)\n",
        "y = torch.from_numpy(y).type(torch.float)"
      ],
      "metadata": {
        "id": "9ii-p6pIcWk3"
      },
      "execution_count": null,
      "outputs": []
    },
    {
      "cell_type": "code",
      "source": [
        "# train/test split\n",
        "from sklearn.model_selection import train_test_split\n",
        "\n",
        "X_train, X_test, y_train, y_test = train_test_split(X,\n",
        "                                                    y,\n",
        "                                                    test_size=0.2, # 20% 테스트, 80% 훈련\n",
        "                                                    random_state=42) # 시드 설정\n",
        "\n",
        "len(X_train), len(X_test), len(y_train), len(y_test)"
      ],
      "metadata": {
        "id": "P5DwHa3DcgWE",
        "colab": {
          "base_uri": "https://localhost:8080/"
        },
        "outputId": "781003b3-5ea8-4065-84a3-e326d4dc2ae3"
      },
      "execution_count": null,
      "outputs": [
        {
          "output_type": "execute_result",
          "data": {
            "text/plain": [
              "(800, 200, 800, 200)"
            ]
          },
          "metadata": {},
          "execution_count": 95
        }
      ]
    },
    {
      "cell_type": "code",
      "source": [
        "# 데이터 GPU로 이동\n",
        "X_train, y_train = X_train.to(device), y_train.to(device)\n",
        "X_test, y_test = X_test.to(device), y_test.to(device)"
      ],
      "metadata": {
        "id": "_b5zl6H8cxUc"
      },
      "execution_count": null,
      "outputs": []
    },
    {
      "cell_type": "markdown",
      "source": [
        "## 4.2. 분류 모델 생성\n",
        "\n",
        "- `X` 데이터를 입력으로 받아 `y` 형태로 출력하는 모델 필요\n",
        "\n"
      ],
      "metadata": {
        "id": "EK1H6Jukc9kw"
      }
    },
    {
      "cell_type": "code",
      "source": [
        "# 1. nn.Module를 상속받는 모델 클래스 구성\n",
        "class CircleModelV1(nn.Module):\n",
        "    def __init__(self):\n",
        "        super().__init__()\n",
        "        # 2. X와 y의 입력 및 출력 형태를 처리할 수 있는 nn.Linear 레이어 2개 생성\n",
        "        self.layer_1 = nn.Linear(in_features=2, out_features=5) # 2개의 입력 특성(X)을 받아 5개의 출력 특성을 생성\n",
        "        self.layer_2 = nn.Linear(in_features=5, out_features=1) # 5개 특성을 받아 1개의 특성(y) 생성\n",
        "\n",
        "    # 3. 순전파 연산을 포함하는 forward 메서드 정의\n",
        "    def forward(self, x):\n",
        "        # layer_2의 출력을 반환.\n",
        "        return self.layer_2(self.layer_1(x)) # 계산은 먼저 layer_1을 거친 후, layer_1의 출력이 layer_2를 통과함.\n",
        "\n",
        "# 4. 모델 인스턴스를 생성하고 GPU로 이동\n",
        "model_1 = CircleModelV1().to(device)\n",
        "model_1"
      ],
      "metadata": {
        "id": "42D5rMpWc5yn",
        "colab": {
          "base_uri": "https://localhost:8080/"
        },
        "outputId": "d9a3f775-fc88-4fb5-80f6-d178fafb0686"
      },
      "execution_count": null,
      "outputs": [
        {
          "output_type": "execute_result",
          "data": {
            "text/plain": [
              "CircleModelV1(\n",
              "  (layer_1): Linear(in_features=2, out_features=5, bias=True)\n",
              "  (layer_2): Linear(in_features=5, out_features=1, bias=True)\n",
              ")"
            ]
          },
          "metadata": {},
          "execution_count": 97
        }
      ]
    },
    {
      "cell_type": "markdown",
      "source": [
        "[TensorFlow Playground website](https://playground.tensorflow.org/)을 통해 시각화한 모델의 레이어 구조:\n",
        "\n",
        "![A visual example of what a classification neural network with linear activation looks like on the tensorflow playground](https://raw.githubusercontent.com/mrdbourke/pytorch-deep-learning/main/images/02-tensorflow-playground-linear-activation.png)"
      ],
      "metadata": {
        "id": "QE5Faq4CjFql"
      }
    },
    {
      "cell_type": "markdown",
      "source": [
        "## 4.3. 손실 함수, optimizer, 평가 지표\n",
        "\n",
        "- 문제 유형에 따라 손실 함수가 달라짐\n",
        " - 회귀: MAE 등을 손실 함수로 사용할 수 있음.\n",
        " - 분류: 이진 분류 문제인 경우 Binary Cross Entropy를 손실 함수로 사용함.\n",
        "\n",
        "| 손실 함수 / 옵티마이저          | 문제 유형     | PyTorch 코드                                                                                                                                                                                       |\n",
        "| ---------------------- | --------- | ------------------------------------------------------------------------------------------------------------------------------------------------------------------------------------------------ |\n",
        "| 확률적 경사 하강법(SGD)        | 분류, 회귀 등  | [`torch.optim.SGD()`](https://pytorch.org/docs/stable/generated/torch.optim.SGD.html)                                                                                                            |\n",
        "| Adam 옵티마이저             | 분류, 회귀 등  | [`torch.optim.Adam()`](https://pytorch.org/docs/stable/generated/torch.optim.Adam.html)                                                                                                          |\n",
        "| 이진 크로스 엔트로피 손실         | 이진 분류     | [`torch.nn.BCEWithLogitsLoss`](https://pytorch.org/docs/stable/generated/torch.nn.BCEWithLogitsLoss.html), [`torch.nn.BCELoss`](https://pytorch.org/docs/stable/generated/torch.nn.BCELoss.html) |\n",
        "| 크로스 엔트로피 손실            | 다중 클래스 분류 | [`torch.nn.CrossEntropyLoss`](https://pytorch.org/docs/stable/generated/torch.nn.CrossEntropyLoss.html)                                                                                          |\n",
        "| 평균 절대 오차(MAE, L1 Loss) | 회귀        | [`torch.nn.L1Loss`](https://pytorch.org/docs/stable/generated/torch.nn.L1Loss.html)                                                                                                              |\n",
        "| 평균 제곱 오차(MSE, L2 Loss) | 회귀        | [`torch.nn.MSELoss`](https://pytorch.org/docs/stable/generated/torch.nn.MSELoss.html)                                                                                                            |\n",
        "\n",
        "- PyTorch에는 두가지 Binary Cross Entropy 손실 함수가 구현되어 있음.\n",
        " 1. [`torch.nn.BCELoss()`](https://pytorch.org/docs/stable/generated/torch.nn.BCELoss.html) : 입력값과 타깃 값 사이의 BCE를 계산 (시그모이드 함수 미포함)\n",
        " 2. [`torch.nn.BCEWithLogitsLoss()`](https://pytorch.org/docs/stable/generated/torch.nn.BCEWithLogitsLoss.html) : 내부적으로 `nn.Sigmoid`가 포함되어 있어 수치적으로 더 안정적\n"
      ],
      "metadata": {
        "id": "nUoFxsT2jY2_"
      }
    },
    {
      "cell_type": "markdown",
      "source": [
        "본 실습에서는 손실 함수와 옵티마이터를 다음으로 설정함.\n",
        "- 손실 함수: `torch.nn.BCEWithLogitsLoss()`\n",
        "- 옵티마이저: `torch.optim.SGD()`"
      ],
      "metadata": {
        "id": "5vOOYTajkrOl"
      }
    },
    {
      "cell_type": "code",
      "source": [
        "# 손실 함수 생성\n",
        "loss_fn = nn.BCEWithLogitsLoss()\n",
        "\n",
        "# 옵티마이저 생성\n",
        "optimizer = torch.optim.SGD(params=model_1.parameters(),\n",
        "                            lr=0.1)"
      ],
      "metadata": {
        "id": "fZ6jOvL-i-v_"
      },
      "execution_count": null,
      "outputs": []
    },
    {
      "cell_type": "markdown",
      "source": [
        "**평가 지표(evaluation metric)**\n",
        "\n",
        "- 정말 간단하게, 손실 함수는 모델이 얼마나 틀렸는지 측정한다면 평가 지표는 모델이 얼마나 맞았는지를 측정함.\n",
        "\n",
        "- 본 실습에서는 분류 모델의 성능 지표로 정확도(accuracy)를 사용함. 이는 전체 예측 중 정답을 맞춘 개수의 비율임."
      ],
      "metadata": {
        "id": "-XtQ_mAslRt6"
      }
    },
    {
      "cell_type": "code",
      "source": [
        "# 정확도 계간 함수\n",
        "def accuracy_fn(y_true, y_pred):\n",
        "    correct = torch.eq(y_true, y_pred).sum().item() # torch.eq() 두 텐서가 동일한 위치를 계산\n",
        "    acc = (correct / len(y_pred)) * 100\n",
        "    return acc"
      ],
      "metadata": {
        "id": "FNQK-6OvlG2k"
      },
      "execution_count": null,
      "outputs": []
    },
    {
      "cell_type": "markdown",
      "source": [
        "## 4.4. 모델 출력값에서 예측 레이블로 변환되는 과정 이해하기"
      ],
      "metadata": {
        "id": "s_HBlkFGnQLM"
      }
    },
    {
      "cell_type": "code",
      "source": [
        "# 1. 순전파에서 무엇이 출력되는지 확인하기\n",
        "y_logits = model_1(X_test.to(device))[:5]\n",
        "y_logits"
      ],
      "metadata": {
        "id": "N3pPPVYSne8j",
        "colab": {
          "base_uri": "https://localhost:8080/"
        },
        "outputId": "9484fd4e-baba-423a-9c52-fa2af203e848"
      },
      "execution_count": null,
      "outputs": [
        {
          "output_type": "execute_result",
          "data": {
            "text/plain": [
              "tensor([[-0.1269],\n",
              "        [-0.0967],\n",
              "        [-0.1908],\n",
              "        [-0.1089],\n",
              "        [-0.1667]], device='cuda:0', grad_fn=<SliceBackward0>)"
            ]
          },
          "metadata": {},
          "execution_count": 100
        }
      ]
    },
    {
      "cell_type": "markdown",
      "source": [
        "- 위 셀의 값은 모델의 `forward()` 메서드의 출력임.\n",
        "\n",
        "- 해당 메서드는 두개의 `nn.Linear()` 층을 포함하며, 내부적으로는 다음 수식을 계산함.\n",
        "\n",
        "$$\n",
        "\\mathbf{y} = x \\cdot \\mathbf{Weights}^T  + \\mathbf{bias}\n",
        "$$\n",
        "\n",
        "\n",
        "- 이 수식의 가공되지 않은 출력값들은 일반적으로 로짓(logit)이라고 불림.\n",
        "\n",
        "- 이 출력값들을 정답 레이블과 비교 가능한 값으로 변환하기 위해 시그모이드 활성화 함수(activation function)을 사용함."
      ],
      "metadata": {
        "id": "ffsDPwEzn2Z6"
      }
    },
    {
      "cell_type": "code",
      "source": [
        "# 모델 로짓에 시그모이드 적용\n",
        "y_pred_probs = torch.sigmoid(y_logits)\n",
        "y_pred_probs"
      ],
      "metadata": {
        "id": "9gsCndxRnuwC",
        "colab": {
          "base_uri": "https://localhost:8080/"
        },
        "outputId": "06384076-5425-49a3-9b65-c6cf25a5a7aa"
      },
      "execution_count": null,
      "outputs": [
        {
          "output_type": "execute_result",
          "data": {
            "text/plain": [
              "tensor([[0.4683],\n",
              "        [0.4758],\n",
              "        [0.4524],\n",
              "        [0.4728],\n",
              "        [0.4584]], device='cuda:0', grad_fn=<SigmoidBackward0>)"
            ]
          },
          "metadata": {},
          "execution_count": 101
        }
      ]
    },
    {
      "cell_type": "markdown",
      "source": [
        "- 위 값들은 **예측 확률**의 형태를 가지며, 해당 데이터 포인트가 어느 클래스에 속할 가능성이 얼마나 되는지 나타냄.\n",
        "\n",
        "- 해당 실습에서는 이진 분류를 다루기 때문에, 이상적인 출력값은 0 또는 1임.\n",
        "\n",
        "- 따라서 이 값들은 일종의 결정 경계(decision boundary)로 볼 수 있음.\n",
        "\n",
        " - 0에 가까울 수록, 모델은 해당 데이터 포인트가 클래스 0에 속할 가능성이 높다고 예측한 것이며,\n",
        " - 1에 가까울 수록, 모델은 클래스 1에 속할 가능성이 높다고 예측한 것임.\n",
        "\n",
        "- 따라서,\n",
        " - `y_pred_probs ≥ 0.5`이면, `y = 1` (클래스 1)\n",
        " - `y_pred_probs < 0.5`이면, `y = 0` (클래스 0)\n",
        "\n",
        "- 예측 확률을 예측 레이블로 변환하려면, 시그모이드 함수의 출력값을 반올림함.\n"
      ],
      "metadata": {
        "id": "JBBYYvT0oVx7"
      }
    },
    {
      "cell_type": "code",
      "source": [
        "# 예측 확률 반올림\n",
        "y_preds = torch.round(y_pred_probs)"
      ],
      "metadata": {
        "id": "d6_i2LSHpxGf"
      },
      "execution_count": null,
      "outputs": []
    },
    {
      "cell_type": "code",
      "source": [
        "# 전체 코드로 통합\n",
        "y_pred_labels = torch.round(torch.sigmoid(model_1(X_test.to(device))[:5]))\n",
        "\n",
        "# 예측값과 실제 출력이 같은지 확인\n",
        "print(torch.eq(y_preds.squeeze(), y_pred_labels.squeeze()))\n",
        "\n",
        "# 추가 디멘션 삭제\n",
        "y_preds.squeeze()"
      ],
      "metadata": {
        "id": "5WmWOacvpOIz",
        "colab": {
          "base_uri": "https://localhost:8080/"
        },
        "outputId": "5bf9d682-f9e2-48e9-db8d-c92eb46e1820"
      },
      "execution_count": null,
      "outputs": [
        {
          "output_type": "stream",
          "name": "stdout",
          "text": [
            "tensor([True, True, True, True, True], device='cuda:0')\n"
          ]
        },
        {
          "output_type": "execute_result",
          "data": {
            "text/plain": [
              "tensor([0., 0., 0., 0., 0.], device='cuda:0', grad_fn=<SqueezeBackward0>)"
            ]
          },
          "metadata": {},
          "execution_count": 103
        }
      ]
    },
    {
      "cell_type": "code",
      "source": [
        "# 실제 레이블과 비교\n",
        "y_test[:5]"
      ],
      "metadata": {
        "id": "svqy-TwCpTU1",
        "colab": {
          "base_uri": "https://localhost:8080/"
        },
        "outputId": "941a079d-91d9-434f-bcd2-9fa0d6fbfb38"
      },
      "execution_count": null,
      "outputs": [
        {
          "output_type": "execute_result",
          "data": {
            "text/plain": [
              "tensor([1., 0., 1., 0., 1.], device='cuda:0')"
            ]
          },
          "metadata": {},
          "execution_count": 104
        }
      ]
    },
    {
      "cell_type": "markdown",
      "source": [
        "- 이러한 형태로 모델의 예측값과 실제 테스트 데이터의 레이블을 비교하여 모델이 얼마나 잘 작동하는지 측정하여 평가할 수 있게 됨.\n",
        "\n",
        "- 정리: 원시 출력값(로짓) -> [시그모이드 함수] -> 예측 확률 -> [반올림] -> 예측 라벨"
      ],
      "metadata": {
        "id": "Fp7k3Qx5pUz-"
      }
    },
    {
      "cell_type": "markdown",
      "source": [
        "## 4.5. 분류 모델 훈련하기"
      ],
      "metadata": {
        "id": "iMcMXXwjmEoA"
      }
    },
    {
      "cell_type": "code",
      "source": [
        "epochs = 100\n",
        "\n",
        "for epoch in range(epochs):\n",
        "  ### Training\n",
        "  model_1.train()\n",
        "\n",
        "  # 1. 순전파\n",
        "  y_logits = model_1(X_train).squeeze() # 불필요한 1 차원을 제거하기 위해 squeeze를 사용\n",
        "  y_pred = torch.round(torch.sigmoid(y_logits)) # turn logits -> pred probs -> pred labls\n",
        "\n",
        "  # 2. 손실/정확도 계산\n",
        "  loss = loss_fn(y_logits, # 손실 함수로 nn.BCEWithLogitsLoss을 사용할 경우 raw logit으로 계산\n",
        "                  y_train)\n",
        "  acc = accuracy_fn(y_true=y_train,\n",
        "                    y_pred=y_pred)\n",
        "\n",
        "  # 3. Optimizer 그라디언트 초기화\n",
        "  optimizer.zero_grad()\n",
        "\n",
        "  # 4. 역전파\n",
        "  loss.backward()\n",
        "\n",
        "  # 5. 업데이트\n",
        "  optimizer.step()\n",
        "\n",
        "  ### Testing\n",
        "  model_1.eval()\n",
        "  with torch.inference_mode():\n",
        "      # 1. 순전파\n",
        "      test_logits = model_1(X_test).squeeze()\n",
        "      test_pred = torch.round(torch.sigmoid(test_logits))\n",
        "      # 2. 손실/정확도 계산\n",
        "      test_loss = loss_fn(test_logits,\n",
        "                          y_test)\n",
        "      test_acc = accuracy_fn(y_true=y_test,\n",
        "                              y_pred=test_pred)\n",
        "\n",
        "  # 10 epochs 마다 출력\n",
        "  if epoch % 10 == 0:\n",
        "      print(f\"Epoch: {epoch} | Loss: {loss:.5f}, Accuracy: {acc:.2f}% | Test loss: {test_loss:.5f}, Test acc: {test_acc:.2f}%\")"
      ],
      "metadata": {
        "id": "Ox54X_B9mDGU",
        "colab": {
          "base_uri": "https://localhost:8080/"
        },
        "outputId": "81f9cf92-fea8-4736-d0a1-34a3f44388c8"
      },
      "execution_count": null,
      "outputs": [
        {
          "output_type": "stream",
          "name": "stdout",
          "text": [
            "Epoch: 0 | Loss: 0.69569, Accuracy: 50.00% | Test loss: 0.69721, Test acc: 50.00%\n",
            "Epoch: 10 | Loss: 0.69403, Accuracy: 50.00% | Test loss: 0.69615, Test acc: 50.00%\n",
            "Epoch: 20 | Loss: 0.69343, Accuracy: 46.00% | Test loss: 0.69585, Test acc: 48.50%\n",
            "Epoch: 30 | Loss: 0.69321, Accuracy: 49.00% | Test loss: 0.69577, Test acc: 47.50%\n",
            "Epoch: 40 | Loss: 0.69312, Accuracy: 49.50% | Test loss: 0.69573, Test acc: 46.50%\n",
            "Epoch: 50 | Loss: 0.69308, Accuracy: 50.38% | Test loss: 0.69569, Test acc: 46.50%\n",
            "Epoch: 60 | Loss: 0.69306, Accuracy: 50.50% | Test loss: 0.69564, Test acc: 46.50%\n",
            "Epoch: 70 | Loss: 0.69305, Accuracy: 50.50% | Test loss: 0.69559, Test acc: 46.50%\n",
            "Epoch: 80 | Loss: 0.69304, Accuracy: 50.75% | Test loss: 0.69553, Test acc: 46.50%\n",
            "Epoch: 90 | Loss: 0.69303, Accuracy: 50.38% | Test loss: 0.69547, Test acc: 46.50%\n"
          ]
        }
      ]
    },
    {
      "cell_type": "markdown",
      "source": [
        "## 4.6. 예측 및 모델 평가"
      ],
      "metadata": {
        "id": "B6QLBiR0q_qT"
      }
    },
    {
      "cell_type": "code",
      "source": [
        "import requests\n",
        "from pathlib import Path\n",
        "\n",
        "if Path(\"helper_functions.py\").is_file():\n",
        "  print(\"helper_functions.py already exists, skipping download\")\n",
        "else:\n",
        "  print(\"Downloading helper_functions.py\")\n",
        "  request = requests.get(\"https://raw.githubusercontent.com/mrdbourke/pytorch-deep-learning/main/helper_functions.py\")\n",
        "  with open(\"helper_functions.py\", \"wb\") as f:\n",
        "    f.write(request.content)\n",
        "\n",
        "from helper_functions import plot_predictions, plot_decision_boundary"
      ],
      "metadata": {
        "id": "3W47zLOtmTeg",
        "colab": {
          "base_uri": "https://localhost:8080/"
        },
        "outputId": "3213c1a1-3797-47ce-b297-0bfbc38e5667"
      },
      "execution_count": null,
      "outputs": [
        {
          "output_type": "stream",
          "name": "stdout",
          "text": [
            "Downloading helper_functions.py\n"
          ]
        }
      ]
    },
    {
      "cell_type": "code",
      "source": [
        "# 전체 데이터에 대해 결정 경계 시각화\n",
        "plt.figure(figsize=(12, 6))\n",
        "plt.subplot(1, 2, 1)\n",
        "plt.title(\"Train\")\n",
        "plot_decision_boundary(model_1, X_train, y_train)\n",
        "plt.subplot(1, 2, 2)\n",
        "plt.title(\"Test\")\n",
        "plot_decision_boundary(model_1, X_test, y_test)"
      ],
      "metadata": {
        "id": "7R5qIOQTrEct",
        "colab": {
          "base_uri": "https://localhost:8080/",
          "height": 351
        },
        "outputId": "1eaadfe4-ffa1-4ea1-ee02-67b974c63558"
      },
      "execution_count": null,
      "outputs": [
        {
          "output_type": "display_data",
          "data": {
            "text/plain": [
              "<Figure size 1200x600 with 2 Axes>"
            ],
            "image/png": "[encoded data removed]"
          },
          "metadata": {}
        }
      ]
    },
    {
      "cell_type": "markdown",
      "source": [
        "## 4.7. 모델 개선: non-linearity 추가\n",
        "\n",
        "- 이전 모델은 선형(직선) 함수만을 사용함. 그러나 위 데이터는 원형 구조로, 비선형적임.\n",
        "\n",
        "- 모델에 비선형 활성화 함수를 추가하여 이를 개선함.\n",
        "\n",
        "- 가장 흔하게 사용되는 함수는 [ReLU](https://en.wikipedia.org/wiki/Rectifier_(neural_networks)) (rectified linear-unit, [`torch.nn.ReLU()`](https://pytorch.org/docs/stable/generated/torch.nn.ReLU.html))임.\n",
        "\n",
        "- PyTorch에서 이미 구현해놓은 [비선형 함수](https://pytorch.org/docs/stable/nn.html#non-linear-activations-weighted-sum-nonlinearity)들도 참고"
      ],
      "metadata": {
        "id": "0K2ChD5treVO"
      }
    },
    {
      "cell_type": "code",
      "source": [
        "# 비선형 함수를 추가하여 모델 재구성\n",
        "class CircleModelV2(nn.Module):\n",
        "    def __init__(self):\n",
        "        super().__init__()\n",
        "        self.layer_1 = nn.Linear(in_features=2, out_features=10)\n",
        "        self.layer_2 = nn.Linear(in_features=10, out_features=10)\n",
        "        self.layer_3 = nn.Linear(in_features=10, out_features=1)\n",
        "        self.relu = nn.ReLU() # <- ReLU activation function 추가\n",
        "\n",
        "    def forward(self, x):\n",
        "      # 레이어 사이에 ReLU 활성화 함수 넣기\n",
        "       return self.layer_3(self.relu(self.layer_2(self.relu(self.layer_1(x)))))\n",
        "\n",
        "model_2 = CircleModelV2().to(device)\n",
        "print(model_2)"
      ],
      "metadata": {
        "id": "wr49phurrjPC",
        "colab": {
          "base_uri": "https://localhost:8080/"
        },
        "outputId": "3f48bd20-2490-47da-d19e-38c7f2093344"
      },
      "execution_count": null,
      "outputs": [
        {
          "output_type": "stream",
          "name": "stdout",
          "text": [
            "CircleModelV2(\n",
            "  (layer_1): Linear(in_features=2, out_features=10, bias=True)\n",
            "  (layer_2): Linear(in_features=10, out_features=10, bias=True)\n",
            "  (layer_3): Linear(in_features=10, out_features=1, bias=True)\n",
            "  (relu): ReLU()\n",
            ")\n"
          ]
        }
      ]
    },
    {
      "cell_type": "code",
      "source": [
        "# 손실 함수, 옵티마이저\n",
        "loss_fn = nn.BCEWithLogitsLoss()\n",
        "optimizer = torch.optim.SGD(model_2.parameters(), lr=0.1)"
      ],
      "metadata": {
        "id": "L31SDqO1sevP"
      },
      "execution_count": null,
      "outputs": []
    },
    {
      "cell_type": "code",
      "source": [
        "# 모델 훈련\n",
        "epochs = 1000\n",
        "\n",
        "for epoch in range(epochs):\n",
        "    # 1. 순전파\n",
        "    y_logits = model_2(X_train).squeeze()\n",
        "    y_pred = torch.round(torch.sigmoid(y_logits)) # 로짓 -> 예측 확률 -> 예측 레이블\n",
        "\n",
        "    # 2. 손실/정확도 계산\n",
        "    loss = loss_fn(y_logits, y_train)\n",
        "    acc = accuracy_fn(y_true=y_train,\n",
        "                      y_pred=y_pred)\n",
        "\n",
        "    # 3. Optimizer 그라디언트 초기화\n",
        "    optimizer.zero_grad()\n",
        "\n",
        "    # 4. 역전파\n",
        "    loss.backward()\n",
        "\n",
        "    # 5. 업데이트\n",
        "    optimizer.step()\n",
        "\n",
        "    ### Testing\n",
        "    model_2.eval()\n",
        "    with torch.inference_mode():\n",
        "      # 1. 순전파\n",
        "      test_logits = model_2(X_test).squeeze()\n",
        "      test_pred = torch.round(torch.sigmoid(test_logits)) # 로짓 -> 예측 확률 -> 예측 레이블\n",
        "      # 2. 손실/정확도 계산\n",
        "      test_loss = loss_fn(test_logits, y_test)\n",
        "      test_acc = accuracy_fn(y_true=y_test,\n",
        "                             y_pred=test_pred)\n",
        "\n",
        "    # 훈련 상태 출력\n",
        "    if epoch % 100 == 0:\n",
        "        print(f\"Epoch: {epoch} | Loss: {loss:.5f}, Accuracy: {acc:.2f}% | Test Loss: {test_loss:.5f}, Test Accuracy: {test_acc:.2f}%\")"
      ],
      "metadata": {
        "id": "QptYyJSNsk-O",
        "colab": {
          "base_uri": "https://localhost:8080/"
        },
        "outputId": "5714010d-1895-4dbb-b47d-968d7a603a4a"
      },
      "execution_count": null,
      "outputs": [
        {
          "output_type": "stream",
          "name": "stdout",
          "text": [
            "Epoch: 0 | Loss: 0.69335, Accuracy: 50.00% | Test Loss: 0.69233, Test Accuracy: 50.00%\n",
            "Epoch: 100 | Loss: 0.68944, Accuracy: 62.25% | Test Loss: 0.68966, Test Accuracy: 68.00%\n",
            "Epoch: 200 | Loss: 0.68515, Accuracy: 69.75% | Test Loss: 0.68761, Test Accuracy: 67.00%\n",
            "Epoch: 300 | Loss: 0.67838, Accuracy: 60.50% | Test Loss: 0.68440, Test Accuracy: 51.50%\n",
            "Epoch: 400 | Loss: 0.66968, Accuracy: 63.12% | Test Loss: 0.67916, Test Accuracy: 53.50%\n",
            "Epoch: 500 | Loss: 0.65562, Accuracy: 68.38% | Test Loss: 0.66784, Test Accuracy: 60.50%\n",
            "Epoch: 600 | Loss: 0.63156, Accuracy: 82.38% | Test Loss: 0.64616, Test Accuracy: 78.00%\n",
            "Epoch: 700 | Loss: 0.58692, Accuracy: 92.50% | Test Loss: 0.60456, Test Accuracy: 89.00%\n",
            "Epoch: 800 | Loss: 0.50680, Accuracy: 96.50% | Test Loss: 0.52957, Test Accuracy: 93.50%\n",
            "Epoch: 900 | Loss: 0.38962, Accuracy: 97.88% | Test Loss: 0.41861, Test Accuracy: 94.00%\n"
          ]
        }
      ]
    },
    {
      "cell_type": "markdown",
      "source": [
        "## 4.8. 개선된 모델 확인"
      ],
      "metadata": {
        "id": "ni_GRuKLs0w-"
      }
    },
    {
      "cell_type": "code",
      "source": [
        "model_2.eval()\n",
        "with torch.inference_mode():\n",
        "    y_preds = torch.round(torch.sigmoid(model_2(X_test))).squeeze()\n",
        "y_preds[:10], y[:10]"
      ],
      "metadata": {
        "id": "1ep_p1gXs29w",
        "colab": {
          "base_uri": "https://localhost:8080/"
        },
        "outputId": "9d4b8065-00f5-4daa-c247-c898a66f8469"
      },
      "execution_count": null,
      "outputs": [
        {
          "output_type": "execute_result",
          "data": {
            "text/plain": [
              "(tensor([1., 0., 1., 0., 1., 1., 0., 0., 1., 0.], device='cuda:0'),\n",
              " tensor([1., 1., 1., 1., 0., 1., 1., 1., 1., 0.]))"
            ]
          },
          "metadata": {},
          "execution_count": 122
        }
      ]
    },
    {
      "cell_type": "code",
      "source": [
        "# 데이터 전체에 결정 경계 시각화\n",
        "plt.figure(figsize=(12, 6))\n",
        "plt.subplot(1, 2, 1)\n",
        "plt.title(\"Train\")\n",
        "plot_decision_boundary(model_1, X_train, y_train) # model_1 = 선형 분류 모델\n",
        "plt.subplot(1, 2, 2)\n",
        "plt.title(\"Test\")\n",
        "plot_decision_boundary(model_2, X_test, y_test) # model_2 = 비선형 분류 모델"
      ],
      "metadata": {
        "id": "5EyDOUios3j_",
        "colab": {
          "base_uri": "https://localhost:8080/",
          "height": 351
        },
        "outputId": "9009c7a7-644d-41ac-b1ff-48fe5e5c2528"
      },
      "execution_count": null,
      "outputs": [
        {
          "output_type": "display_data",
          "data": {
            "text/plain": [
              "<Figure size 1200x600 with 2 Axes>"
            ],
            "image/png": "[encoded data removed]"
          },
          "metadata": {}
        }
      ]
    },
    {
      "cell_type": "code",
      "source": [],
      "metadata": {
        "id": "rqacUS_Es7h4"
      },
      "execution_count": null,
      "outputs": []
    }
  ]
}