{
  "nbformat": 4,
  "nbformat_minor": 0,
  "metadata": {
    "colab": {
      "provenance": []
    },
    "kernelspec": {
      "name": "python3",
      "display_name": "Python 3"
    },
    "language_info": {
      "name": "python"
    }
  },
  "cells": [
    {
      "cell_type": "markdown",
      "source": [
        "## 목차\n",
        "\n",
        "1. Best-first search\n",
        "2. Breadth-first search\n",
        "3. Uniform-cost search\n",
        "4. Depth-first search\n",
        "5. Depth limited and Iterative deepening search\n",
        "6. Greedy best-first search\n",
        "7. A* search\n",
        "8. Weighted A* search"
      ],
      "metadata": {
        "id": "ZUyT7DU7Qbff"
      }
    },
    {
      "cell_type": "code",
      "execution_count": null,
      "metadata": {
        "id": "nClmbmD2P0PO"
      },
      "outputs": [],
      "source": [
        "%matplotlib inline\n",
        "import matplotlib.pyplot as plt\n",
        "import random\n",
        "import heapq\n",
        "import math\n",
        "import sys\n",
        "from collections import defaultdict, deque, Counter\n",
        "from itertools import combinations"
      ]
    },
    {
      "cell_type": "markdown",
      "source": [
        "# 1. Problem, Node, PriorityQueue Class"
      ],
      "metadata": {
        "id": "xT47-f7-QeiG"
      }
    },
    {
      "cell_type": "code",
      "source": [
        "class Problem(object):\n",
        "    \"\"\"The abstract class for a formal problem. A new domain subclasses this,\n",
        "    overriding `actions` and `results`, and perhaps other methods.\n",
        "    The default heuristic is 0 and the default action cost is 1 for all states.\n",
        "    When yiou create an instance of a subclass, specify `initial`, and `goal` states\n",
        "    (or give an `is_goal` method) and perhaps other keyword args for the subclass.\"\"\"\n",
        "\n",
        "    def __init__(self, initial=None, goal=None, **kwargs):\n",
        "      \"\"\"The constructor specifies the initial state, and possibly a goal\n",
        "      state, if there is a unique goal. Your subclass's constructor can add\n",
        "      other arguments.\"\"\"\n",
        "      self.__dict__.update(initial=initial, goal=goal, **kwargs)\n",
        "\n",
        "    def actions(self, state):\n",
        "      raise NotImplementedError\n",
        "\n",
        "    def result(self, state, action):\n",
        "      raise NotImplementedError\n",
        "\n",
        "    def is_goal(self, state):\n",
        "      return state == self.goal\n",
        "\n",
        "    def action_cost(self, s, a, s1):\n",
        "      return 1\n",
        "\n",
        "    def h(self, node):\n",
        "      return 0\n",
        "\n",
        "    def __str__(self):\n",
        "        return '{}({!r}, {!r})'.format(\n",
        "            type(self).__name__, self.initial, self.goal)"
      ],
      "metadata": {
        "id": "iEMDqBEEQc2R"
      },
      "execution_count": null,
      "outputs": []
    },
    {
      "cell_type": "markdown",
      "source": [
        "*   `__init__(self, initial, goal)` : 생성자(constructor)라고 불리며, 클래스의 객체(instance)를 생성할 때 처음 호출되는 메소드이다. 예를 들어 `Problem(initial, goal)`로 클래스의 객체를 만들 때 사용된다. 변수 initial은 탐색 문제의 초기 상태를 지정하며, start state을 나타낸다.\n",
        "\n",
        "*   `actions(self, state)` : 주어진 상태에서 에이전트가 실행할 수 있는 모든 가능한 동작(액션)을 반환한다.\n",
        "\n",
        "*   `result(self, state, action)` :  주어진 상태에서 주어진 동작을 실행했을 때의 결과 상태를 반환한다.\n",
        "\n",
        "*   `is_goal(self, state)` : 주어진 상태가 goal state인지 여부를 판단하여 Boolean 값을 반환한다. Goal state인 경우 True를 반환하고, 그렇지 않은 경우 False를 반환한다.\n",
        "\n",
        "*   `action_cost(self, s, a, s1)` : State `s`에서 action `a`를 취하여 state `s1`로 도달하는 경로의 비용을 반환한다.\n",
        "\n",
        "*    `h(self, node)` : 주어진 노드에 대한 휴리스틱 값을 반환한다.\n",
        "\n",
        "*   `__str__(self)` : 표준 파이썬 기능을 오버라이드하여 해당 클래스의 객체를 문자열로 표현한다.\n",
        "\n"
      ],
      "metadata": {
        "id": "174_xBbuQhfk"
      }
    },
    {
      "cell_type": "code",
      "source": [
        "class Node:\n",
        "    \"A Node in a search tree.\"\n",
        "    def __init__(self, state, parent=None, action=None, path_cost=0):\n",
        "        self.state = state\n",
        "        self.parent = parent\n",
        "        self.action = action\n",
        "        self.path_cost = path_cost\n",
        "\n",
        "    def __repr__(self):\n",
        "      return '<{}>'.format(self.state)\n",
        "\n",
        "    def __len__(self):\n",
        "      return 0 if self.parent is None else (1 + len(self.parent))\n",
        "\n",
        "    def __lt__(self, other):\n",
        "      return self.path_cost < other.path_cost"
      ],
      "metadata": {
        "id": "CGYqQ9LWQh38"
      },
      "execution_count": null,
      "outputs": []
    },
    {
      "cell_type": "markdown",
      "source": [
        "*   `__init__(self, state, parent, action, path_cost)` : `Node` 클래스의 객체를 생성하는 생성자이다. `parent`는 현재 노드의 이전 노드를 나타내며, `action`은 부모 노드에서 현재 노드로 이동하는 데 필요한 행동이다. `path_cost`는 부모 노드로부터 현재 노드에 도달하는 비용이다.\n",
        "\n",
        "*   `__repr__(self)` : 노드를 나타내는 문자열을 반환한다.\n",
        "\n",
        "*   `__len__(self, other)` : 노드에서 부모 노드까지의 경로의 길이를 반환한다.\n",
        "\n",
        "*   `__lt__(self, node)` : 현재 노드의 경로 비용이 다른 노드의 경로 비용보다 작은지 여부를 판단한다."
      ],
      "metadata": {
        "id": "0e2aZjBBQkey"
      }
    },
    {
      "cell_type": "code",
      "source": [
        "failure = Node('failure', path_cost=math.inf) # Indicates an algorithm couldn't find a solution.\n",
        "cutoff  = Node('cutoff',  path_cost=math.inf) # Indicates iterative deepening search was cut off.\n",
        "\n",
        "def path_actions(node):\n",
        "    \"The sequence of actions to get to this node.\"\n",
        "    if node.parent is None:\n",
        "        return []\n",
        "    return path_actions(node.parent) + [node.action]\n",
        "\n",
        "def path_states(node):\n",
        "    \"The sequence of states to get to this node.\"\n",
        "    if node in (cutoff, failure, None):\n",
        "        return []\n",
        "    return path_states(node.parent) + [node.state]"
      ],
      "metadata": {
        "id": "H-wNUfZ4QjY3"
      },
      "execution_count": null,
      "outputs": []
    },
    {
      "cell_type": "code",
      "source": [
        "FIFOQueue = deque\n",
        "\n",
        "LIFOQueue = list\n",
        "\n",
        "class PriorityQueue:\n",
        "    \"\"\"A queue in which the item with minimum f(item) is always popped first.\"\"\"\n",
        "\n",
        "    def __init__(self, items=(), key=lambda x: x):\n",
        "        self.key = key\n",
        "        self.items = [] # a heap of (score, item) pairs\n",
        "        for item in items:\n",
        "            self.add(item)\n",
        "\n",
        "    def add(self, item):\n",
        "        \"\"\"Add item to the queue.\"\"\"\n",
        "        pair = (self.key(item), item)\n",
        "        heapq.heappush(self.items, pair)\n",
        "\n",
        "    def pop(self):\n",
        "        \"\"\"Pop and return the item with min f(item) value.\"\"\"\n",
        "        return heapq.heappop(self.items)[1]\n",
        "\n",
        "    def top(self):\n",
        "      return self.items[0][1]\n",
        "\n",
        "    def __len__(self):\n",
        "      return len(self.items)"
      ],
      "metadata": {
        "id": "LmU6GMiDQmvs"
      },
      "execution_count": null,
      "outputs": []
    },
    {
      "cell_type": "markdown",
      "source": [
        "# 2. RouteProblem"
      ],
      "metadata": {
        "id": "u0V1rRqMQvgG"
      }
    },
    {
      "cell_type": "markdown",
      "source": [
        "<img src='https://wikidocs.net/images/page/189097/Fig_03_01.PNG' width=700px>"
      ],
      "metadata": {
        "id": "9A5QgWxZQxWV"
      }
    },
    {
      "cell_type": "code",
      "source": [
        "def straight_line_distance(A, B):\n",
        "    \"Straight-line distance between two points.\"\n",
        "    return sum(abs(a - b)**2 for (a, b) in zip(A, B)) ** 0.5"
      ],
      "metadata": {
        "id": "I8XP1qciQwz6"
      },
      "execution_count": null,
      "outputs": []
    },
    {
      "cell_type": "code",
      "source": [
        "class RouteProblem(Problem):\n",
        "    \"\"\"A problem to find a route between locations on a `Map`.\n",
        "    Create a problem with RouteProblem(start, goal, map=Map(...)}).\n",
        "    States are the vertexes in the Map graph; actions are destination states.\"\"\"\n",
        "\n",
        "    def __init__(self, initial=None, goal=None, **kwargs):\n",
        "      super().__init__(initial=initial, goal=goal, **kwargs)\n",
        "\n",
        "    def actions(self, state):\n",
        "        \"\"\"The places neighboring `state`.\"\"\"\n",
        "        return self.map.neighbors[state]\n",
        "\n",
        "    def result(self, state, action):\n",
        "        \"\"\"Go to the `action` place, if the map says that is possible.\"\"\"\n",
        "        return action if action in self.map.neighbors[state] else state\n",
        "\n",
        "    def action_cost(self, s, action, s1):\n",
        "        \"\"\"The distance (cost) to go from s to s1.\"\"\"\n",
        "        return self.map.distances[s, s1]\n",
        "\n",
        "    def h(self, node):\n",
        "        \"Straight-line distance between state and the goal.\"\n",
        "        locs = self.map.locations\n",
        "        return straight_line_distance(locs[node.state], locs[self.goal])"
      ],
      "metadata": {
        "id": "tDEZJdeRQnD_"
      },
      "execution_count": null,
      "outputs": []
    },
    {
      "cell_type": "code",
      "source": [
        "class Map:\n",
        "    \"\"\"A map of places in a 2D world: a graph with vertexes and links between them.\n",
        "    In `Map(links, locations)`, `links` can be either [(v1, v2)...] pairs,\n",
        "    or a {(v1, v2): distance...} dict. Optional `locations` can be {v1: (x, y)}\n",
        "    If `directed=False` then for every (v1, v2) link, we add a (v2, v1) link.\"\"\"\n",
        "\n",
        "    def __init__(self, links, locations=None, directed=False):\n",
        "        if not hasattr(links, 'items'): # Distances are 1 by default\n",
        "            links = {link: 1 for link in links}\n",
        "        if not directed:\n",
        "            for (v1, v2) in list(links):\n",
        "                links[v2, v1] = links[v1, v2]\n",
        "        self.distances = links\n",
        "        self.neighbors = self.multimap(links)\n",
        "        self.locations = locations or defaultdict(lambda: (0, 0))\n",
        "\n",
        "\n",
        "    def multimap(self, pairs) -> dict:\n",
        "        \"Given (key, val) pairs, make a dict of {key: [val,...]}.\"\n",
        "        result = defaultdict(list)\n",
        "        for key, val in pairs:\n",
        "            result[key].append(val)\n",
        "        return result"
      ],
      "metadata": {
        "id": "jvuGDknVQzsR"
      },
      "execution_count": null,
      "outputs": []
    },
    {
      "cell_type": "code",
      "source": [
        "romania = Map(\n",
        "    {('O', 'Z'):  71, ('O', 'S'): 151, ('A', 'Z'): 75, ('A', 'S'): 140, ('A', 'T'): 118,\n",
        "     ('L', 'T'): 111, ('L', 'M'):  70, ('D', 'M'): 75, ('C', 'D'): 120, ('C', 'R'): 146,\n",
        "     ('C', 'P'): 138, ('R', 'S'):  80, ('F', 'S'): 99, ('B', 'F'): 211, ('B', 'P'): 101,\n",
        "     ('B', 'G'):  90, ('B', 'U'):  85, ('H', 'U'): 98, ('E', 'H'):  86, ('U', 'V'): 142,\n",
        "     ('I', 'V'):  92, ('I', 'N'):  87, ('P', 'R'): 97},\n",
        "    {'A': ( 76, 497), 'B': (400, 327), 'C': (246, 285), 'D': (160, 296), 'E': (558, 294),\n",
        "     'F': (285, 460), 'G': (368, 257), 'H': (548, 355), 'I': (488, 535), 'L': (162, 379),\n",
        "     'M': (160, 343), 'N': (407, 561), 'O': (117, 580), 'P': (311, 372), 'R': (227, 412),\n",
        "     'S': (187, 463), 'T': ( 83, 414), 'U': (471, 363), 'V': (535, 473), 'Z': (92, 539)})\n",
        "\n",
        "\n",
        "r0 = RouteProblem('A', 'A', map=romania)\n",
        "r1 = RouteProblem('A', 'B', map=romania)\n",
        "r2 = RouteProblem('N', 'L', map=romania)\n",
        "r3 = RouteProblem('E', 'T', map=romania)\n",
        "r4 = RouteProblem('O', 'M', map=romania)"
      ],
      "metadata": {
        "id": "nMcVU_EJQ4Y1"
      },
      "execution_count": null,
      "outputs": []
    },
    {
      "cell_type": "code",
      "source": [
        "route = r1 # Arad to Bucharest"
      ],
      "metadata": {
        "id": "CA_pIvNzQ5Ym"
      },
      "execution_count": null,
      "outputs": []
    },
    {
      "cell_type": "markdown",
      "source": [
        "# 3. Uninformed Search Algorithms"
      ],
      "metadata": {
        "id": "KVm1xyNdQ8MV"
      }
    },
    {
      "cell_type": "markdown",
      "source": [
        "## Best-first search"
      ],
      "metadata": {
        "id": "mqrTwRmCQ94C"
      }
    },
    {
      "cell_type": "code",
      "source": [
        "def best_first_search(problem, f):\n",
        "    \"Search nodes with minimum f(node) value first.\"\n",
        "    node = Node(problem.initial)\n",
        "    frontier = PriorityQueue([node], key=f)\n",
        "    reached = {problem.initial: node}\n",
        "    while frontier:\n",
        "        node = frontier.pop()\n",
        "        if problem.is_goal(node.state):\n",
        "            return node\n",
        "        for child in expand(problem, node):\n",
        "            s = child.state\n",
        "            if s not in reached or child.path_cost < reached[s].path_cost:\n",
        "                reached[s] = child\n",
        "                frontier.add(child)\n",
        "    return failure"
      ],
      "metadata": {
        "id": "ECk2D4VvQ61p"
      },
      "execution_count": null,
      "outputs": []
    },
    {
      "cell_type": "code",
      "source": [
        "def expand(problem, node):\n",
        "    \"Expand a node, generating the children nodes.\"\n",
        "    s = node.state\n",
        "    for action in problem.actions(s):\n",
        "        s1 = problem.result(s, action)\n",
        "        cost = node.path_cost + problem.action_cost(s, action, s1)\n",
        "        yield Node(s1, node, action, cost)"
      ],
      "metadata": {
        "id": "NDq9bJbWQ--C"
      },
      "execution_count": null,
      "outputs": []
    },
    {
      "cell_type": "markdown",
      "source": [
        "## Breadth-first search"
      ],
      "metadata": {
        "id": "t_-K-dshRByI"
      }
    },
    {
      "cell_type": "code",
      "source": [
        "# TODO 1\n",
        "def breadth_first_search(problem):\n",
        "    \"Search shallowest nodes in the search tree first.\"\n",
        "    node = Node(problem.initial)\n",
        "    if problem.is_goal(problem.initial):\n",
        "        return node\n",
        "    frontier = FIFOQueue([node])\n",
        "    reached = {problem.initial}\n",
        "    while frontier:\n",
        "        node = frontier.pop()\n",
        "        for child in expand(problem, node):\n",
        "            s = child.state\n",
        "            if problem.is_goal(s):\n",
        "                return child\n",
        "            if s not in reached:\n",
        "                reached.add(s)\n",
        "                frontier.appendleft(child)\n",
        "    return failure"
      ],
      "metadata": {
        "id": "l2W4R5a4RAOo"
      },
      "execution_count": null,
      "outputs": []
    },
    {
      "cell_type": "code",
      "source": [
        "# TODO 2\n",
        "solution = breadth_first_search(route)\n",
        "print(path_states(solution))\n",
        "print('path cost: {:.1f}'.format(solution.path_cost))"
      ],
      "metadata": {
        "id": "wkgrN8pjRC6S",
        "colab": {
          "base_uri": "https://localhost:8080/"
        },
        "outputId": "7345a8de-3b72-4230-af91-85af560226ff"
      },
      "execution_count": null,
      "outputs": [
        {
          "output_type": "stream",
          "name": "stdout",
          "text": [
            "['A', 'S', 'F', 'B']\n",
            "path cost: 450.0\n"
          ]
        }
      ]
    },
    {
      "cell_type": "markdown",
      "source": [
        "## Uniform-cost search"
      ],
      "metadata": {
        "id": "he2joNTpRFzd"
      }
    },
    {
      "cell_type": "code",
      "source": [
        "# TODO 3\n",
        "def g(n): return n.path_cost\n",
        "\n",
        "def uniform_cost_search(problem):\n",
        "    \"Search nodes with minimum path cost first.\"\n",
        "    return best_first_search(problem, f=g)\n"
      ],
      "metadata": {
        "id": "gDcBCLWbRD4D"
      },
      "execution_count": null,
      "outputs": []
    },
    {
      "cell_type": "code",
      "source": [
        "# TODO 4\n",
        "solution = uniform_cost_search(route)\n",
        "print(path_states(solution))\n",
        "print('path cost: {:.1f}'.format(solution.path_cost))"
      ],
      "metadata": {
        "id": "rWyi3GaOn5Kj",
        "colab": {
          "base_uri": "https://localhost:8080/"
        },
        "outputId": "997367db-809a-4ea3-d75f-2e9542a29101"
      },
      "execution_count": null,
      "outputs": [
        {
          "output_type": "stream",
          "name": "stdout",
          "text": [
            "['A', 'S', 'R', 'P', 'B']\n",
            "path cost: 418.0\n"
          ]
        }
      ]
    },
    {
      "cell_type": "markdown",
      "source": [
        "## Depth-first search"
      ],
      "metadata": {
        "id": "dqzERRqVn6MC"
      }
    },
    {
      "cell_type": "code",
      "source": [
        "# TODO 5\n",
        "def depth_first_bfs(problem):\n",
        "    \"Search deepest nodes in the search tree first; using best-first.\"\n",
        "    return best_first_search(problem, f=lambda n: -len(n))\n"
      ],
      "metadata": {
        "id": "gBZmZ8ynn8CL"
      },
      "execution_count": null,
      "outputs": []
    },
    {
      "cell_type": "code",
      "source": [
        "# TODO 6\n",
        "solution = depth_first_bfs(route)\n",
        "print(path_states(solution))\n",
        "print('path cost: {:.1f}'.format(solution.path_cost))"
      ],
      "metadata": {
        "id": "-DWbd5P-n9LE",
        "colab": {
          "base_uri": "https://localhost:8080/"
        },
        "outputId": "ab00fa83-2225-4025-ebed-a1f348a912b5"
      },
      "execution_count": null,
      "outputs": [
        {
          "output_type": "stream",
          "name": "stdout",
          "text": [
            "['A', 'T', 'L', 'M', 'D', 'C', 'P', 'B']\n",
            "path cost: 733.0\n"
          ]
        }
      ]
    },
    {
      "cell_type": "markdown",
      "source": [
        "## Depth-limited and Iterative deepening search"
      ],
      "metadata": {
        "id": "XqGxojSrn_lm"
      }
    },
    {
      "cell_type": "code",
      "source": [
        "def is_cycle(node, k=30):\n",
        "    \"Does this node form a cycle of length k or less?\"\n",
        "    def find_cycle(ancestor, k):\n",
        "        return (ancestor is not None and k > 0 and\n",
        "                (ancestor.state == node.state or find_cycle(ancestor.parent, k - 1)))\n",
        "    return find_cycle(node.parent, k)"
      ],
      "metadata": {
        "id": "JHCP402HoEtp"
      },
      "execution_count": null,
      "outputs": []
    },
    {
      "cell_type": "code",
      "source": [
        "# TODO 7\n",
        "def depth_limited_search(problem, limit=10):\n",
        "    \"Search deepest nodes in the search tree first.\"\n",
        "    frontier = LIFOQueue([Node(problem.initial)])\n",
        "    result = failure\n",
        "    while frontier:\n",
        "        node = frontier.pop()\n",
        "        if problem.is_goal(node.state):\n",
        "            return node\n",
        "        elif len(node) >= limit:\n",
        "            result = cutoff\n",
        "        elif not is_cycle(node):\n",
        "            for child in expand(problem, node):\n",
        "                frontier.append(child)\n",
        "    return result\n"
      ],
      "metadata": {
        "id": "FyER7Nhjn_3B"
      },
      "execution_count": null,
      "outputs": []
    },
    {
      "cell_type": "markdown",
      "source": [
        "*   *depth*: `sys.maxsize`"
      ],
      "metadata": {
        "id": "TpiQD8bnoDZ6"
      }
    },
    {
      "cell_type": "code",
      "source": [
        "# TODO 8\n",
        "def iterative_deepening_search(problem):\n",
        "    \"Do depth-limited search with increasing depth limits.\"\n",
        "    for limit in range(1, sys.maxsize):\n",
        "        result = depth_limited_search(problem, limit)\n",
        "        if result != cutoff:\n",
        "            return result\n"
      ],
      "metadata": {
        "id": "9TrgfmyXoBt7"
      },
      "execution_count": null,
      "outputs": []
    },
    {
      "cell_type": "code",
      "source": [
        "# TODO 9\n",
        "solution = depth_limited_search(route)\n",
        "print(path_states(solution))\n",
        "print('path cost: {:.1f}'.format(solution.path_cost))"
      ],
      "metadata": {
        "id": "TPsJRTQWoDtU",
        "colab": {
          "base_uri": "https://localhost:8080/"
        },
        "outputId": "fcd7fd4f-9624-4c7c-8878-7eb4666c8d87"
      },
      "execution_count": null,
      "outputs": [
        {
          "output_type": "stream",
          "name": "stdout",
          "text": [
            "['A', 'T', 'L', 'M', 'D', 'C', 'P', 'B']\n",
            "path cost: 733.0\n"
          ]
        }
      ]
    },
    {
      "cell_type": "code",
      "source": [
        "# TODO 10\n",
        "solution = iterative_deepening_search(route)\n",
        "print(path_states(solution))\n",
        "print('path cost: {:.1f}'.format(solution.path_cost))"
      ],
      "metadata": {
        "id": "scDrJjNwoGsR",
        "colab": {
          "base_uri": "https://localhost:8080/"
        },
        "outputId": "7f121caf-6aa4-48ac-e7b5-41ead747b6aa"
      },
      "execution_count": null,
      "outputs": [
        {
          "output_type": "stream",
          "name": "stdout",
          "text": [
            "['A', 'S', 'F', 'B']\n",
            "path cost: 450.0\n"
          ]
        }
      ]
    },
    {
      "cell_type": "markdown",
      "source": [
        "# 4. Informed search algorithms"
      ],
      "metadata": {
        "id": "W41mgMl2oHEl"
      }
    },
    {
      "cell_type": "markdown",
      "source": [
        "## Greedy best-first search"
      ],
      "metadata": {
        "id": "F0vERVW49ccx"
      }
    },
    {
      "cell_type": "code",
      "source": [
        "# TODO 11\n",
        "def greedy_bfs(problem, h=None):\n",
        "    \"\"\"Search nodes with minimum h(n).\"\"\"\n",
        "    h = h or problem.h\n",
        "    return best_first_search(problem, f=h)\n"
      ],
      "metadata": {
        "id": "PbNyGduHoIi7"
      },
      "execution_count": null,
      "outputs": []
    },
    {
      "cell_type": "code",
      "source": [
        "# TODO 12\n",
        "solution = greedy_bfs(route)\n",
        "print(path_states(solution))\n",
        "print('path cost: {:.1f}'.format(solution.path_cost))"
      ],
      "metadata": {
        "id": "bUwK4oUsoJeI",
        "colab": {
          "base_uri": "https://localhost:8080/"
        },
        "outputId": "2d77a780-a9c9-4119-9482-e8861bd2b2fd"
      },
      "execution_count": null,
      "outputs": [
        {
          "output_type": "stream",
          "name": "stdout",
          "text": [
            "['A', 'S', 'F', 'B']\n",
            "path cost: 450.0\n"
          ]
        }
      ]
    },
    {
      "cell_type": "markdown",
      "source": [
        "## A* search"
      ],
      "metadata": {
        "id": "9W5o-KEOoMIg"
      }
    },
    {
      "cell_type": "code",
      "source": [
        "# TODO 13\n",
        "def astar_search(problem, h=None):\n",
        "    \"\"\"Search nodes with minimum f(n) = g(n) + h(n).\"\"\"\n",
        "    h = h or problem.h\n",
        "    return best_first_search(problem, f=lambda n: g(n) + h(n))"
      ],
      "metadata": {
        "id": "SKC86RVxoMbz"
      },
      "execution_count": null,
      "outputs": []
    },
    {
      "cell_type": "code",
      "source": [
        "# TODO 14\n",
        "solution = astar_search(route)\n",
        "print(path_states(solution))\n",
        "print('path cost: {:.1f}'.format(solution.path_cost))"
      ],
      "metadata": {
        "id": "WIkIzszioKYs",
        "colab": {
          "base_uri": "https://localhost:8080/"
        },
        "outputId": "789176da-0f84-4d36-e4d6-eb55f75cc7c7"
      },
      "execution_count": null,
      "outputs": [
        {
          "output_type": "stream",
          "name": "stdout",
          "text": [
            "['A', 'S', 'R', 'P', 'B']\n",
            "path cost: 418.0\n"
          ]
        }
      ]
    },
    {
      "cell_type": "markdown",
      "source": [
        "## Weighted A* search"
      ],
      "metadata": {
        "id": "P8Xe2onGoQpW"
      }
    },
    {
      "cell_type": "code",
      "source": [
        "# TODO 15\n",
        "def weighted_astar_search(problem, h=None, weight=1.4):\n",
        "    \"\"\"Search nodes with minimum f(n) = g(n) + weight * h(n).\"\"\"\n",
        "    h = h or problem.h\n",
        "    return best_first_search(problem, f=lambda n: g(n) + weight * h(n))\n"
      ],
      "metadata": {
        "id": "Qq6-8QJSoQJz"
      },
      "execution_count": null,
      "outputs": []
    },
    {
      "cell_type": "code",
      "source": [
        "# TODO 16\n",
        "solution = weighted_astar_search(route)\n",
        "print(path_states(solution))\n",
        "print('path cost: {:.1f}'.format(solution.path_cost))"
      ],
      "metadata": {
        "id": "GPJXw3eHoS-p",
        "colab": {
          "base_uri": "https://localhost:8080/"
        },
        "outputId": "057c8bea-8420-4ae5-981d-3be883d6e299"
      },
      "execution_count": null,
      "outputs": [
        {
          "output_type": "stream",
          "name": "stdout",
          "text": [
            "['A', 'S', 'F', 'B']\n",
            "path cost: 450.0\n"
          ]
        }
      ]
    },
    {
      "cell_type": "markdown",
      "source": [
        "# 5. Reporting Summary Statistics on Search Algorithms"
      ],
      "metadata": {
        "id": "W3FHpJs_oUQ0"
      }
    },
    {
      "cell_type": "code",
      "source": [
        "class CountCalls:\n",
        "    \"\"\"Delegate all attribute gets to the object, and count them in ._counts\"\"\"\n",
        "    def __init__(self, obj):\n",
        "        self._object = obj\n",
        "        self._counts = Counter()\n",
        "\n",
        "    def __getattr__(self, attr):\n",
        "        \"Delegate to the original object, after incrementing a counter.\"\n",
        "        self._counts[attr] += 1\n",
        "        return getattr(self._object, attr)\n",
        "\n",
        "\n",
        "def report(searchers, problems, verbose=True):\n",
        "    \"\"\"Show summary statistics for each searcher (and on each problem unless verbose is false).\"\"\"\n",
        "    for searcher in searchers:\n",
        "        print(searcher.__name__ + ':')\n",
        "        total_counts = Counter()\n",
        "        for p in problems:\n",
        "            prob   = CountCalls(p)\n",
        "            soln   = searcher(prob)\n",
        "            counts = prob._counts;\n",
        "            counts.update(actions=len(soln), cost=soln.path_cost)\n",
        "            total_counts += counts\n",
        "            if verbose: report_counts(counts, str(p)[:40])\n",
        "        report_counts(total_counts, 'TOTAL\\n')\n",
        "\n",
        "def report_counts(counts, name):\n",
        "    \"\"\"Print one line of the counts report.\"\"\"\n",
        "    print('{:9,d} nodes |{:9,d} goal |{:5.0f} cost |{:8,d} actions | {}'.format(\n",
        "          counts['result'], counts['is_goal'], counts['cost'], counts['actions'], name))"
      ],
      "metadata": {
        "id": "EgIrhkt1oUjx"
      },
      "execution_count": null,
      "outputs": []
    },
    {
      "cell_type": "markdown",
      "source": [
        "*   Search algorithms: `breadth_first_search, uniform_cost_search, depth_first_bfs, iterative_deepening_search, depth_limited_search, greedy_bfs, astar_search, weighted_astar_search`\n",
        "*   RouteProblems: `r1, r2, r3, r4`"
      ],
      "metadata": {
        "id": "8OTw1Kwk9s__"
      }
    },
    {
      "cell_type": "code",
      "source": [
        "# TODO 17\n",
        "report([breadth_first_search, uniform_cost_search, depth_first_bfs,\n",
        "        iterative_deepening_search, depth_limited_search, greedy_bfs, astar_search,\n",
        "        weighted_astar_search], [r1, r2, r3, r4])"
      ],
      "metadata": {
        "id": "cjTlWJ5NoWIt",
        "colab": {
          "base_uri": "https://localhost:8080/"
        },
        "outputId": "578061c8-38ee-4d37-d8dc-c1cdb1cc234f"
      },
      "execution_count": null,
      "outputs": [
        {
          "output_type": "stream",
          "name": "stdout",
          "text": [
            "breadth_first_search:\n",
            "       18 nodes |       19 goal |  450 cost |      10 actions | RouteProblem('A', 'B')\n",
            "       42 nodes |       43 goal | 1085 cost |      27 actions | RouteProblem('N', 'L')\n",
            "       36 nodes |       37 goal |  837 cost |      22 actions | RouteProblem('E', 'T')\n",
            "       30 nodes |       31 goal |  445 cost |      16 actions | RouteProblem('O', 'M')\n",
            "      126 nodes |      130 goal | 2817 cost |      75 actions | TOTAL\n",
            "\n",
            "uniform_cost_search:\n",
            "       30 nodes |       13 goal |  418 cost |      16 actions | RouteProblem('A', 'B')\n",
            "       42 nodes |       19 goal |  910 cost |      27 actions | RouteProblem('N', 'L')\n",
            "       44 nodes |       20 goal |  805 cost |      27 actions | RouteProblem('E', 'T')\n",
            "       30 nodes |       12 goal |  445 cost |      16 actions | RouteProblem('O', 'M')\n",
            "      146 nodes |       64 goal | 2578 cost |      86 actions | TOTAL\n",
            "\n",
            "depth_first_bfs:\n",
            "       21 nodes |       10 goal |  733 cost |      16 actions | RouteProblem('A', 'B')\n",
            "       30 nodes |       13 goal | 1053 cost |      22 actions | RouteProblem('N', 'L')\n",
            "       26 nodes |       11 goal |  805 cost |      18 actions | RouteProblem('E', 'T')\n",
            "       11 nodes |        6 goal |  445 cost |      10 actions | RouteProblem('O', 'M')\n",
            "       88 nodes |       40 goal | 3036 cost |      66 actions | TOTAL\n",
            "\n",
            "iterative_deepening_search:\n",
            "       27 nodes |       25 goal |  450 cost |      13 actions | RouteProblem('A', 'B')\n",
            "      167 nodes |      173 goal |  910 cost |      82 actions | RouteProblem('N', 'L')\n",
            "      117 nodes |      120 goal |  837 cost |      56 actions | RouteProblem('E', 'T')\n",
            "      108 nodes |      109 goal |  572 cost |      44 actions | RouteProblem('O', 'M')\n",
            "      419 nodes |      427 goal | 2769 cost |     195 actions | TOTAL\n",
            "\n",
            "depth_limited_search:\n",
            "       17 nodes |        8 goal |  733 cost |      14 actions | RouteProblem('A', 'B')\n",
            "       40 nodes |       38 goal |  910 cost |      26 actions | RouteProblem('N', 'L')\n",
            "       29 nodes |       23 goal |  992 cost |      20 actions | RouteProblem('E', 'T')\n",
            "       35 nodes |       29 goal |  895 cost |      22 actions | RouteProblem('O', 'M')\n",
            "      121 nodes |       98 goal | 3530 cost |      82 actions | TOTAL\n",
            "\n",
            "greedy_bfs:\n",
            "        9 nodes |        4 goal |  450 cost |       6 actions | RouteProblem('A', 'B')\n",
            "       28 nodes |       12 goal | 1207 cost |      22 actions | RouteProblem('N', 'L')\n",
            "       19 nodes |        8 goal |  837 cost |      14 actions | RouteProblem('E', 'T')\n",
            "       14 nodes |        6 goal |  572 cost |      10 actions | RouteProblem('O', 'M')\n",
            "       70 nodes |       30 goal | 3066 cost |      52 actions | TOTAL\n",
            "\n",
            "astar_search:\n",
            "       15 nodes |        6 goal |  418 cost |       9 actions | RouteProblem('A', 'B')\n",
            "       34 nodes |       15 goal |  910 cost |      23 actions | RouteProblem('N', 'L')\n",
            "       33 nodes |       14 goal |  805 cost |      21 actions | RouteProblem('E', 'T')\n",
            "       20 nodes |        9 goal |  445 cost |      13 actions | RouteProblem('O', 'M')\n",
            "      102 nodes |       44 goal | 2578 cost |      66 actions | TOTAL\n",
            "\n",
            "weighted_astar_search:\n",
            "        9 nodes |        4 goal |  450 cost |       6 actions | RouteProblem('A', 'B')\n",
            "       32 nodes |       14 goal |  910 cost |      22 actions | RouteProblem('N', 'L')\n",
            "       28 nodes |       11 goal |  805 cost |      18 actions | RouteProblem('E', 'T')\n",
            "       18 nodes |        8 goal |  445 cost |      12 actions | RouteProblem('O', 'M')\n",
            "       87 nodes |       37 goal | 2610 cost |      58 actions | TOTAL\n",
            "\n"
          ]
        }
      ]
    },
    {
      "cell_type": "markdown",
      "source": [
        "# 6. GridProblem: Comparing reached states"
      ],
      "metadata": {
        "id": "pSGVBa0NoX7t"
      }
    },
    {
      "cell_type": "code",
      "source": [
        "class GridProblem(Problem):\n",
        "    \"\"\"Finding a path on sa 2D grid with obtacles. Obstacles are (x, y) cells.\"\"\"\n",
        "\n",
        "    def __init__(self, initial=(15, 30), goal=(130, 30), obstacles=(), **kwargs):\n",
        "        Problem.__init__(self, initial=initial, goal=goal,\n",
        "                         obstacles=set(obstacles) - {initial, goal}, **kwargs)\n",
        "\n",
        "        self.directions = [(-1, -1), (0, -1), (1, -1),\n",
        "                           (-1, 0),           (1,  0),\n",
        "                           (-1, +1), (0, +1), (1, +1)]\n",
        "\n",
        "    def action_cost(self, s, action, s1):\n",
        "      return straight_line_distance(s, s1)\n",
        "\n",
        "    def h(self, node):\n",
        "      return straight_line_distance(node.state, self.goal)\n",
        "\n",
        "    def result(self, state, action):\n",
        "        \"Both states and actions are represented by (x, y) pairs.\"\n",
        "        return action if action not in self.obstacles else state\n",
        "\n",
        "    def actions(self, state):\n",
        "        \"\"\"You can move one cell in any of `directions` to a non-obstacle cell.\"\"\"\n",
        "        x, y = state\n",
        "        return {(x + dx, y + dy) for (dx, dy) in self.directions} - self.obstacles"
      ],
      "metadata": {
        "id": "DXN-s8mcoYKO"
      },
      "execution_count": null,
      "outputs": []
    },
    {
      "cell_type": "code",
      "source": [
        "def random_lines(X=range(15, 130), Y=range(60), N=150, lengths=range(6, 12)):\n",
        "    \"\"\"The set of cells in N random lines of the given lengths.\"\"\"\n",
        "    result = set()\n",
        "    for _ in range(N):\n",
        "        x, y = random.choice(X), random.choice(Y)\n",
        "        dx, dy = random.choice(((0, 1), (1, 0)))\n",
        "        result |= line(x, y, dx, dy, random.choice(lengths))\n",
        "    return result\n",
        "\n",
        "def line(x, y, dx, dy, length):\n",
        "    \"\"\"A line of `length` cells starting at (x, y) and going in (dx, dy) direction.\"\"\"\n",
        "    return {(x + i * dx, y + i * dy) for i in range(length)}"
      ],
      "metadata": {
        "id": "G2s67t_JoZx1"
      },
      "execution_count": null,
      "outputs": []
    },
    {
      "cell_type": "code",
      "source": [
        "def plot_grid_problem(grid, solution, reached, title='Search'):\n",
        "    \"\"\"\n",
        "    Use matplotlib to plot the grid, obstacles, solution, and reached.\n",
        "    \"\"\"\n",
        "    plt.figure(figsize=(16, 10))\n",
        "    plt.axis('off'); plt.axis('equal')\n",
        "    plt.scatter(*transpose(grid.obstacles), marker='s', color='darkgrey')\n",
        "    plt.scatter(*transpose([grid.initial]), 9**2, marker='D', c='green')\n",
        "    plt.scatter(*transpose([grid.goal]), 9**2, marker='8', c='red')\n",
        "    if solution != None:\n",
        "      plt.scatter(*transpose(path_states(solution)), marker='s', c='blue')\n",
        "      print('{} search: {:.1f} path cost'.format(title, solution.path_cost))\n",
        "    if reached != None:\n",
        "      reached = list(reached)\n",
        "      plt.scatter(*transpose(reached), 1**2, marker='.', c='blue')\n",
        "      print('{:,d} states reached'.format(len(reached)))\n",
        "    plt.show()\n",
        "\n",
        "def transpose(matrix): return list(zip(*matrix))"
      ],
      "metadata": {
        "id": "-Fd6F-NFoaBn"
      },
      "execution_count": null,
      "outputs": []
    },
    {
      "cell_type": "code",
      "source": [
        "random.seed(42) # To make this reproducible\n",
        "\n",
        "frame = line(-10, 20, 0, 1, 20) | line(150, 20, 0, 1, 20)\n",
        "cup = line(102, 44, -1, 0, 15) | line(102, 20, -1, 0, 20) | line(102, 44, 0, -1, 24)\n",
        "\n",
        "d1 = GridProblem(obstacles=random_lines(N=100) | frame)\n",
        "d2 = GridProblem(obstacles=random_lines(N=150) | frame)\n",
        "d3 = GridProblem(obstacles=random_lines(N=200) | frame)\n",
        "d4 = GridProblem(obstacles=random_lines(N=250) | frame)\n",
        "d5 = GridProblem(obstacles=random_lines(N=300) | frame)\n",
        "d6 = GridProblem(obstacles=cup | frame)\n",
        "d7 = GridProblem(obstacles=cup | frame | line(50, 35, 0, -1, 10) | line(60, 37, 0, -1, 17) | line(70, 31, 0, -1, 19))"
      ],
      "metadata": {
        "id": "E6biPjp7oa_X"
      },
      "execution_count": null,
      "outputs": []
    },
    {
      "cell_type": "code",
      "source": [
        "plot_grid_problem(d3, solution=None, reached=None)"
      ],
      "metadata": {
        "id": "wk0SS8cBoc5r",
        "colab": {
          "base_uri": "https://localhost:8080/",
          "height": 651
        },
        "outputId": "13252ec7-8923-4887-b2bf-bb81ae74ef1c"
      },
      "execution_count": null,
      "outputs": [
        {
          "output_type": "display_data",
          "data": {
            "text/plain": [
              "<Figure size 1600x1000 with 1 Axes>"
            ],
            "image/png": "[encoded data removed]"
          },
          "metadata": {}
        }
      ]
    },
    {
      "cell_type": "code",
      "source": [
        "def best_first_search(problem, f):\n",
        "    \"Search nodes with minimum f(node) value first.\"\n",
        "    global reached\n",
        "    node = Node(problem.initial)\n",
        "    frontier = PriorityQueue([node], key=f)\n",
        "    reached = {problem.initial: node}\n",
        "    while frontier:\n",
        "        node = frontier.pop()\n",
        "        if problem.is_goal(node.state):\n",
        "            return node\n",
        "        for child in expand(problem, node):\n",
        "            s = child.state\n",
        "            if s not in reached or child.path_cost < reached[s].path_cost:\n",
        "                reached[s] = child\n",
        "                frontier.add(child)\n",
        "    return failure"
      ],
      "metadata": {
        "id": "vz5NR0tPodGc"
      },
      "execution_count": null,
      "outputs": []
    },
    {
      "cell_type": "markdown",
      "source": [
        "위의 `best_first_search` 함수에서 `reached` 변수 `global`로 변경 후 아래 알고리즘의 결과 시각화:\n",
        "\n",
        "*   `uniform_cost_search`\n",
        "*   `greedy_bfs`\n",
        "*   `astar_search`\n",
        "*   `weighted_astar_search`"
      ],
      "metadata": {
        "id": "wotjkY8gofCg"
      }
    },
    {
      "cell_type": "code",
      "source": [
        "# TODO 18\n",
        "solution = uniform_cost_search(d3)\n",
        "plot_grid_problem(d3, solution, reached=None, title='Uniform cost search')"
      ],
      "metadata": {
        "id": "N2esx_T6ofUi",
        "colab": {
          "base_uri": "https://localhost:8080/",
          "height": 669
        },
        "outputId": "c7200734-16c1-4bf9-952f-33ae302b4bed"
      },
      "execution_count": null,
      "outputs": [
        {
          "output_type": "stream",
          "name": "stdout",
          "text": [
            "Uniform cost search search: 154.2 path cost\n"
          ]
        },
        {
          "output_type": "display_data",
          "data": {
            "text/plain": [
              "<Figure size 1600x1000 with 1 Axes>"
            ],
            "image/png": "[encoded data removed]"
          },
          "metadata": {}
        }
      ]
    },
    {
      "cell_type": "code",
      "source": [
        "# TODO 19\n",
        "solution = greedy_bfs(d3)\n",
        "plot_grid_problem(d3, solution, reached, 'Greedy BFS')"
      ],
      "metadata": {
        "id": "h0nJoOzRogfr",
        "colab": {
          "base_uri": "https://localhost:8080/",
          "height": 688
        },
        "outputId": "167cb6e6-5a0f-46a5-b27c-0ae685decc19"
      },
      "execution_count": null,
      "outputs": [
        {
          "output_type": "stream",
          "name": "stdout",
          "text": [
            "Greedy BFS search: 164.5 path cost\n",
            "448 states reached\n"
          ]
        },
        {
          "output_type": "display_data",
          "data": {
            "text/plain": [
              "<Figure size 1600x1000 with 1 Axes>"
            ],
            "image/png": "[encoded data removed]"
          },
          "metadata": {}
        }
      ]
    },
    {
      "cell_type": "code",
      "source": [
        "# TODO 20\n",
        "solution = astar_search(d3)\n",
        "plot_grid_problem(d3, solution, reached, 'A* search')"
      ],
      "metadata": {
        "id": "0St74CBLokVw",
        "colab": {
          "base_uri": "https://localhost:8080/",
          "height": 688
        },
        "outputId": "e895fa0b-a0a7-4926-9550-31b245e741ac"
      },
      "execution_count": null,
      "outputs": [
        {
          "output_type": "stream",
          "name": "stdout",
          "text": [
            "A* search search: 154.2 path cost\n",
            "7,418 states reached\n"
          ]
        },
        {
          "output_type": "display_data",
          "data": {
            "text/plain": [
              "<Figure size 1600x1000 with 1 Axes>"
            ],
            "image/png": "[encoded data removed]"
          },
          "metadata": {}
        }
      ]
    },
    {
      "cell_type": "code",
      "source": [
        "# TODO 21\n",
        "solution = weighted_astar_search(d3)\n",
        "plot_grid_problem(d3, solution, reached, 'Weighted A*')"
      ],
      "metadata": {
        "id": "FlfuOHF5okiJ",
        "colab": {
          "base_uri": "https://localhost:8080/",
          "height": 688
        },
        "outputId": "7a81feda-9ecd-4956-b307-9a715fc7e7a5"
      },
      "execution_count": null,
      "outputs": [
        {
          "output_type": "stream",
          "name": "stdout",
          "text": [
            "Weighted A* search: 154.2 path cost\n",
            "944 states reached\n"
          ]
        },
        {
          "output_type": "display_data",
          "data": {
            "text/plain": [
              "<Figure size 1600x1000 with 1 Axes>"
            ],
            "image/png": "[encoded data removed]"
          },
          "metadata": {}
        }
      ]
    },
    {
      "cell_type": "markdown",
      "source": [
        "# 실습 과제\n",
        "\n",
        "* 모든 문항 해결에 생성형 AI 사용 가능"
      ],
      "metadata": {
        "id": "EH3Y8Qt9om3g"
      }
    },
    {
      "cell_type": "markdown",
      "source": [
        "### 1번\n",
        "\n",
        "9 × 9 크기의 격자(grid)가 존재한다. 이 격자의 각 칸은 빨강 혹은 파랑으로 칠할 수  있다. 처음에는 모든 칸이 파랑으로 칠해져 있지만, 원하는 대로 색을 변경할 수 있다.\n",
        "\n",
        "이 격자를 3 × 3 크기인 아홉개의 작은 격자(subgrid)로 나누었을 때, 각 작은 격자는 하나의 색으로 통일되어야 하며, 인접한 작은 격자들은 서로 다른 색을 가져야 한다.\n",
        "\n",
        "1.  생성형 AI을 사용해 이 문제에 대한 problem formulation(initial state, goal test, successor function, cost function)을 작성하고 이 문제의 state space 크기를 출력하도록 요청하시오.\n",
        "\n",
        "  * 생성형 AI에 입력한 프롬프트와 생성형 AI의 출력을 붙여넣고, 내용을 참고하여 응답을 작성하시오. 해당 답이 올바른지 평가하고, 평가에 대한 이유를 제시하시오.\n",
        "\n",
        "2. 각 칸의 색을 단 한 번만 색칠할 수 있다고 가정한다. 칸을 두 번 색칠하는 것을 방지하기 위해, 1) 이미 색칠된 정사각형을 기록하여 다시 색칠하지 못하도록 하거나, 2) 모든 정사각형을 고정된 순서로 색칠할 수 있다.\n",
        "\n",
        "  * 생성형 AI을 사용해 **이 두 경우에 대해** problem formulation(initial state, goal test, successor function, cost function)을 다시 **각각** 작성하고, state space의 크기를 다시 **각각** 계산하시오. 두 상황 중 어느 접근의 state space 크기가 더 작은가?\n",
        "\n",
        "    * 생성형 AI에 입력한 프롬프트와 생성형 AI의 출력을 붙여넣고, 내용을 참고하여 응답을 작성하시오. 해당 답이 올바른지 평가하고, 평가에 대한 이유를 제시하시오.\n",
        "\n",
        "3. 기존 문제는 격자의 각 칸 하나를 색칠하는 경우를 고려하였다. 그런데 이제 각 작은 격자(subgrid)가 균일한 색으로 칠해진 경우를 가정한다.\n",
        "\n",
        "  * 생성형 AI을 사용해 위 상황에 대한 problem formulation(initial state, goal test, successor function, cost function)을 다시 작성하고, state space의 크기를 다시 계산하시오. 위 상황같이 개별 칸을 고려하는 것 보다 각 작은 격자를 고려하는 접근의 이점은 무엇인가?\n",
        "\n",
        "    * 생성형 AI에 입력한 프롬프트와 생성형 AI의 출력을 붙여넣고, 내용을 참고하여 응답을 작성하시오. 해당 답이 올바른지 평가하고, 평가에 대한 이유를 제시하시오.\n",
        "\n",
        "4. 이 문제에는 몇개의 해답이 존재하는가? 그 이유는 무엇인가?\n",
        "\n",
        "  * 생성형 AI에 입력한 프롬프트와 생성형 AI의 출력을 붙여넣고, 내용을 참고하여 응답을 작성하시오. 해당 답이 올바른지 평가하고, 평가에 대한 이유를 제시하시오.\n",
        "\n"
      ],
      "metadata": {
        "id": "1T5iIYa1opA3"
      }
    },
    {
      "cell_type": "markdown",
      "source": [
        "----아래 답변 작성----"
      ],
      "metadata": {
        "id": "OM5yTy24p6mN"
      }
    },
    {
      "cell_type": "markdown",
      "source": [
        "# 문제 정리\n",
        "- 전체 격자: 9행 * 9열 = 81개의 셀\n",
        "\n",
        "- 묶는 단위: 3*3 크기의 블록(subgrid)\n",
        "\n",
        "- 묶는 방식: 9개의 subgrid, 3*3\n",
        "\n",
        "- 결과: 전체를 3행 3열의 subgrid 9개로 분할하는 것\n"
      ],
      "metadata": {
        "id": "0Kurugs77ejg"
      }
    },
    {
      "cell_type": "markdown",
      "source": [
        "# 1-1) 생성형 AI 프롬프트 및 출력\n",
        "Q. 이 문제에 대한 problem formulation(initial state, goal test, successor function, cost function)을 작성해보고 이 문제의 state space 크기를 출력해봐\n",
        "\n",
        "A.\n",
        "\n",
        "✅ 1. Initial State (초기 상태)\n",
        "**9×9 격자(grid)**의 모든 칸이 파랑(B) 으로 채워진 상태\n",
        "따라서 각 subgrid 9개 모두가 현재는 파랑색으로 채워져 있음\n",
        "\n",
        "✅ 2. Goal Test (목표 상태 판별)\n",
        "다음 조건을 모두 만족하는 상태를 Goal로 본다:\n",
        "\n",
        "각 3×3 subgrid는 모두 동일한 색이어야 한다. (즉, 하나의 subgrid는 오직 R 또는 B 중 하나로만 칠해져야 함)\n",
        "서로 인접한 subgrid는 서로 다른 색이어야 한다.\n",
        "인접이란 상하좌우로 연결된 subgrid만 해당됨 (대각선은 인접 아님)\n",
        "\n",
        "✅ 3. Successor Function (상태 전이 함수)\n",
        "현재 상태에서 가능한 다음 상태를 반환함.\n",
        "즉, 각 subgrid에 대해 색을 하나씩 정해주는 방식\n",
        "가능한 색: 빨강(R), 파랑(B)\n",
        "단, 이미 색이 정해진 subgrid는 변경 불가\n",
        "\n",
        "✅ 4. Cost Function (비용 함수)\n",
        "모든 이동의 비용은 동일하다고 가정 → Uniform Cost (1 per move)\n",
        "즉, 단순히 goal에 도달하는 것이 목적이라면 비용은 상태 깊이와 동일\n",
        "\n",
        "📦 State Space 정의\n",
        "\n",
        "이제 상태 공간의 크기를 계산해보자.\n",
        "\n",
        "🔸 Key 관찰:\n",
        "각 subgrid는 전체가 동일한 색이어야 하므로,\n",
        "격자 전체의 상태는 단순히 9개의 subgrid가 어떤 색인지로 표현 가능함.\n",
        "각 subgrid는 R 또는 B → 가능한 상태는 2개의 색 중 하나\n",
        "단, 모든 경우가 goal state가 아님 (제약 조건 존재)\n",
        "❌ 총 상태 수 (제약 조건 없는 경우)\n",
        "색이 두 가지(R, B), subgrid가 9개 →\n",
        "전체 가능한 상태 수는:\n",
        "2^9=512\n",
        "\n",
        "\n",
        "A.결론\n",
        "\n",
        "문제에서 정의했듯이, 상태는 9원소 튜플. 초기 상태는 모든 칸이 파란색을 칠해져 있는 상태다. 우리의 목표는 각 3*3의 각칸을 색칠하되 인접한 칸은 서로 다른 색으로 칠하는게 목표이므로 goal test역시도 올바르다고 볼 수 있다. 각 격자를 서로 다른 색으로 색칠을 하고 후속적으로 할 수 있는 작업은 색칠된 격자를 다른 색으로 바꾸는 것이다.\n",
        "문제에서 비용함수는 따로 정의되지 않았으므로 생성형 AI의 출력이 타당하고 판단하긴 어렵다.\n",
        "\n",
        "결국 이러한 problem formulation을 참고해서 AI가 출력한 state space는 2의9승으로 512가 맞다. 인접한 격자의 색이 달라야 한다는 것은 퍼즐의 어떤 상태가 goal state인지 판별하는 것이지 탐색하는 상태공간을 줄이는 것에 영향을 끼치는 것은 아니기 때문에, 또 각 3*3 subgrid는 내부적으로 모두 같은 색이어야 하므로 올바르다고 볼 수 있다.  \n",
        "\n",
        "\n"
      ],
      "metadata": {
        "id": "JoHsF0HwNbSR"
      }
    },
    {
      "cell_type": "markdown",
      "source": [
        "# 1-2) 생성형 AI 프롬프트 및 출력\n",
        "Q.\n",
        " 자 그럼 이 문제에서 각 칸의 색을 단 한 번만 색칠할 수 있다고 가정해보자. 칸을 두번 색칠하는 것을 방지하기 위해 첫번째로 이미 색칠된 정사각형을 기록하여 다시 색칠하지 못하도록 하거나 모든 정사각형을 고정된 순서로 색칠 할 수 있어 이 조건을 추가해서 problem formulation(initial state, goal test, successor function, cost function)과 state space의 크기를 두 경우 각각 계산해봐\n",
        "\n",
        "\n",
        "**A-1(이미 색칠된 칸 기록)**\n",
        "\n",
        "색칠 순서를 자유롭게 정하고, 이미 색칠된 칸은 다시 색칠할 수 없도록 기록한다.”\n",
        "\n",
        "1. Initial State\n",
        "모든 칸이 미색칠 상태.\n",
        "visited(혹은 colored) 집합(또는 맵) = 비어 있음 (즉, 아직 아무 칸도 칠하지 않음).\n",
        "2. Goal Test\n",
        "81칸 모두 색칠이 완료됨.\n",
        "모든 3×3 subgrid는 내부적으로 하나의 색으로만 구성.\n",
        "인접 subgrid끼리는 색이 달라야 함.\n",
        "3. Successor Function\n",
        "미색칠인 칸 중 하나를 임의로 선택한다.\n",
        "그 칸을 빨강(R) 또는 파랑(B) 중 하나로 칠한다.\n",
        "해당 칸을 visited에 등록(“이미 색칠됐다”고 기록).\n",
        "이미 visited에 있는 칸(즉, 색칠된 칸)은 다시 색칠 불가능.\n",
        "즉, 어떤 시점에서든 아직 칠하지 않은 칸을 골라 2가지 색 중 하나로 칠하는 방식으로 새 상태를 만든다.\n",
        "\n",
        "4. Cost Function\n",
        "칸 1개 색칠할 때마다 비용을 1로 둔다.\n",
        "전체 81칸을 모두 색칠 완료하면, 총 비용은 81이 될 것이다.\n",
        "5. State Space 크기\n",
        "중간 상태까지 포함하여 “(미색칠 / R / B)”를 각 칸이 가질 수 있다고 보면,\n",
        "이론상 상태 수는\n",
        "3\n",
        "81\n",
        "\n",
        " .\n",
        "(각 칸마다 3가지 상태: 안 칠함 / R / B)\n",
        "\n",
        "\n",
        "\n",
        "\n",
        "**A-2(고정된 순서로 칸 색칠)**\n",
        "\n",
        "“왼쪽 위 칸부터 오른쪽 아래 칸까지 고정된 순서로 색칠한다.”\n",
        "\n",
        "1. Initial State\n",
        "모든 칸 미색칠 상태.\n",
        "현재 색칠해야 할 칸의 인덱스를 0이라 둔다.\n",
        "(예: (0,0)을 0번 칸, (0,1)을 1번 칸 … (8,8)을 80번 칸 등으로 매핑)\n",
        "2. Goal Test\n",
        "81번째 칸(인덱스 80)까지 색칠을 마쳤고,\n",
        "모든 3×3 subgrid가 단일 색이며,\n",
        "인접 subgrid끼리는 서로 다른 색.\n",
        "3. Successor Function\n",
        "현재 인덱스 i의 칸을 R 또는 B 중 하나로 칠한다.\n",
        "i를 i+1로 증가시켜 “다음 칸”으로 이동.\n",
        "이미 색칠 완료한 인덱스 i로 되돌아가서 덮어쓰기 불가(한 번만 색칠).\n",
        "즉, (i=0) → (i=1) → … → (i=80) 순으로 일방통행하며 색칠을 진행한다.\n",
        "\n",
        "4. Cost Function\n",
        "칸 1개 색칠 시 비용 1.\n",
        "81칸 모두 색칠하면 비용 81.\n",
        "5. State Space 크기\n",
        "중간 상태를 “i번째 칸까지 색칠 완료, 나머지는 미색칠”이라고 볼 때,\n",
        "각 칸은 R 또는 B → i번째 칸까지 색칠된 경우의 수는\n",
        "2\n",
        "i\n",
        "2\n",
        "i\n",
        " .\n",
        "i는 0에서 81까지 증가.\n",
        "따라서 모든 중간 상태 개수는\n",
        "∑\n",
        "i\n",
        "=\n",
        "0\n",
        "81\n",
        "2\n",
        "i\n",
        "\n",
        "=\n",
        "\n",
        "2\n",
        "82\n",
        "−\n",
        "1.\n",
        "i=0\n",
        "∑\n",
        "81\n",
        "​\n",
        " 2\n",
        "i\n",
        " =2\n",
        "82\n",
        " −1.\n",
        "이와 달리 최종 결과(81칸이 전부 색칠된 완성 상태)만 보면 마찬가지로\n",
        "2^81\n",
        "\n",
        "가지가 가능하다.\n",
        "\n",
        "\n",
        "\n",
        "# 결론\n",
        "\n",
        "두 경우를 비교하면 고정된 순서로 칸을 색칠하는 2번째 방식이 state space가 더 작다. 두 경우 모두 재칠이 불가능하다는 제약은 동일하지만\n",
        "첫 번째 경우는 아직 색칠되지 않은 격자(실제로는 파랑색으로 색칠되어있음)은(는)어느 것이든 골라서 색을 칠할 수 있고 이를 기록한다. 이때 첫 번째 경우는 아무 행동도 하지 않는 None, 파랑, 빨강을 칠하는 행동을 할 수 있는 3의 81승의 state space가 나오는 것이 맞고. 두 번째 경우는 칠할 순서를 고정해 둠으로써 그 시점에 칠할 결자를 빨강 또는 파랑 으로 결정하는 두가지 선택지 뿐이고, 공통 제약 조건으로써 한번 칠한 격자는 칠할 수 없으니 state space는 1(아무행동도 하지 않음)+2(첫번째 격자를 빨강 또는 파랑으로 칠함) +2의2승+....+2의81승= state space가 나온다.\n",
        "\n",
        "즉 고정된 순서 없이 자유롭게 색칠하고 이를 기록하는 경우는 각 격자당 3가지 경우를 배정해 나가서 훨씬 많은 상태가 생기는 것이 맞고, 순서를 정해두는 두 번째 경우는 각 순서에 맞는 격자당 2가지 색 중 하나를 고르는 이지 선다로 state가 탐색되기 때문에 1번에 비해 전체 상태공간이 훨씬 적어지는 것이다. 따라서 2번째 경우가 state space가 더 적다는  AI의 답변은 타당하다.\n",
        "\n",
        "\n",
        "\n",
        "\n"
      ],
      "metadata": {
        "id": "z8U-qTyuN3O7"
      }
    },
    {
      "cell_type": "markdown",
      "source": [
        "# 1-3) 생성형 AI 프롬프트 및 출력\n",
        "\n",
        "Q. 지금까지의 문제는 격자의 각 칸 하나를 색칠하는 경우를 고려했잖아. 그런데 이제는 각 작은 격자가 균일한 색으로 칠해진 경우를 가정해볼꺼야 이 상황에 대해 problem formulation(initial state, goal test, successor function, cost function)을 다시 작성하고, state space의 크기를 다시 계산해봐 그리고 이 접근 방식의 이점은 뭘까?\n",
        "\n",
        "\n",
        "\n",
        "A.\n",
        "\n",
        "2.Problem Formulation\n",
        "\n",
        "2.1. State(상태)의 표현\n",
        "State를 “9개의 subgrid 각각이 (미정 / R / B) 중 어떤 상태인지”로 정의할 수 있음.\n",
        "탐색 도중에는 아직 색이 정해지지 않은 subgrid가 있을 수 있기에,\n",
        "각 subgrid가\n",
        "{\n",
        "uncolored\n",
        ",\n",
        "R\n",
        ",\n",
        "B\n",
        "}\n",
        "{uncolored,R,B} 셋 중 하나를 가질 수 있다고 보면 됨.\n",
        "\n",
        "2.2. Initial State\n",
        "9개 subgrid가 전부 ‘미정’(uncolored) 상태로 시작한다.\n",
        "\n",
        "2.3. Goal Test\n",
        "\n",
        "9개 subgrid가 모두 R 또는 B로 색이 정해졌으며,\n",
        "인접 subgrid끼리는 서로 다른 색을 가진다.\n",
        "(subgrid 내부 균일 색은 이미 각 subgrid 전체를 R/B로 결정하는 것이므로 자연스럽게 충족)\n",
        "\n",
        "2.4. Successor Function\n",
        "아직 색이 정해지지 않은 subgrid 중 하나를 골라,\n",
        "R 또는 B 중 하나를 할당(색칠)한다.\n",
        "이렇게 해서 다음 상태를 생성한다.\n",
        "즉, 한 번의 “이동(move)”는 **“특정 subgrid에 R 또는 B 색을 정해주는 것”**이라고 볼 수 있음.\n",
        "\n",
        "2.5. Cost Function\n",
        "일반적으로 각 subgrid에 색을 정하는 데 비용 1로 둘 수 있다.\n",
        "최종적으로 9개 subgrid를 모두 칠하면 비용의 합은 9가 됨.\n",
        "(물론 다른 방식으로 Cost를 정의해도 무방하나, 보통 균등 비용을 많이 가정)\n",
        "\n",
        "3. State Space 크기\n",
        "\n",
        "3.1. 전체 가능한 상태(부분 포함)\n",
        "각각의 subgrid가 “미정 / R / B” 3가지 중 하나를 가질 수 있다고 보면,\n",
        "가능한 모든 조합은\n",
        "3\n",
        "9\n",
        " .\n",
        "(3×3×...×3, 9번 곱)\n",
        "3.2. 완성된 색 배치(Goal 후보)만 놓고 보면\n",
        "모든 subgrid가 R 또는 B로 결정 →\n",
        "2\n",
        "9\n",
        "=\n",
        "512\n",
        "\n",
        "이 512가지 중, 인접 subgrid가 다른 색이라는 조건을 만족하는 것은 실제로 극히 일부(실제로는 2가지)만 유효해진다.\n",
        "3×3 형태로 인접한 9개 블록을 2색으로 칠하는 것은 이분 그래프 색칠 문제와 동일 → 가능한 해가 2가지뿐(체스보드형).\n",
        "\n",
        "✅ 작은 격자(subgrid) 단위로 접근하는 이점\n",
        "\n",
        "1. 문제의 추상화 수준이 높아짐 (복잡도 감소)\n",
        "개별 칸으로 구성하면 81개의 칸을 고려해야 하며, 그만큼 상태 공간이 폭발적으로 커집니다.\n",
        "예: 81칸 × 2색 = 2⁸¹개의 조합\n",
        "반면, subgrid 9개를 단위로 하면 단 9개의 단위만 고려하면 됨.\n",
        "상태 공간 = 2⁹ = 512\n",
        "→ 문제를 작게 단순화하여 핵심 로직에 집중할 수 있게 함\n",
        "\n",
        "2. 색 일관성이 보장됨\n",
        "subgrid 내부가 단색(R/B)이라는 전제가 있을 경우, 개별 칸을 신경 쓸 필요 없이, subgrid 전체를 한 색으로 보는 것이 논리적으로 타당하고, 계산량을 대폭 줄임.\n",
        "\n",
        "3. 탐색 트리의 깊이 감소\n",
        "개별 칸을 칠하는 탐색은 깊이가 81이지만, subgrid 단위로 하면 깊이가 9로 줄어듬.\n",
        "이는 탐색 알고리즘(BFS, DFS, 백트래킹 등)의 효율에 직접적인 영향을 줌.\n",
        "\n",
        "\n",
        "**결론**\n",
        "\n",
        "초기 상태는 모든 subgrid가 미정이고, 목표 상태는 모든 subgrid가 R 또는 B로 정해졌으며 인접한 것끼리 색이 다른 상태다. 상태 전이는 아직 색이 정해지지 않은 subgrid 하나를 골라 R 또는 B를 칠하는 방식이며, 한 번의 이동 비용은 1로 본다.\n",
        "\n",
        "전체 state를 탐색하여 나오는 공간은 3⁹ = 19,683가지이고, 모든 subgrid가 색이 정해진 완성 상태는 2⁹ = 512가지이다. 하지만 이 중에서 인접 조건을 만족하는 유효한 색 배치는 단 2가지뿐이다. 이는 3×3 격자가 이분 그래프 구조를 가지며, 이분 그래프는 인접한 정점끼리 두 가지 색으로만 색칠할 수 있기 때문이다.\n",
        "\n",
        "또 개별 칸을 기준으로 보면 \"왼쪽 위 칸이 빨간색\n",
        "이면 오른쪽 칸은 파랑색이어야하고 그 아래 칸도 파랑색\"이어야 하는 식의 조건이 많고 복잡해지지만 \"subgrid의 기준으로 보면 subgrid1이 빨강이면 인접한 subgrid 2,4는 파랑이어야 한다\" 와 같이 조건이 훨씬 직관적이게 되므로 복잡도과 state의 크기가 줄어든다는 AI의 답변은 타당하다고 볼 수 있다.\n",
        "\n",
        "\n"
      ],
      "metadata": {
        "id": "cV62H-oRjFM8"
      }
    },
    {
      "cell_type": "markdown",
      "source": [
        "# 1-4) 생성형 AI 프롬프트 및 출력"
      ],
      "metadata": {
        "id": "TzeoECunQ7aS"
      }
    },
    {
      "cell_type": "markdown",
      "source": [
        "Q. 지금까지 보면 균일한 색으로 칠해진 경우, 칸을 두번 색칠하는 걸 방지하게 위해 색칠된 정사각형을 기록하는 경우, 고정된 순서로 칸을 색칠하는 경우, 그냥 보통 경우 등등 다양한 경우에 대해서 problem formulation을 작성하고 state를 계산해봤어 이 문제에는 몇개의 해답이 있을까?\n",
        "\n",
        "A.\n",
        "\n",
        "질문에서 \"이 문제\"라고 하신 부분은, 지금까지 주로 다뤄왔던 아래 조건을 따른다고 볼 수 있습니다:\n",
        "\n",
        "3×3 subgrid 구조\n",
        "각 subgrid는 균일한 색 (R 또는 B)\n",
        "인접한 subgrid는 서로 다른 색\n",
        "초기에는 전부 B로 칠해져 있음 (또는 미정일 수 있음)\n",
        "최종 상태에서 모든 subgrid가 R 또는 B로 칠해져야 함.\n",
        "\n",
        "🎯 이 문제의 해답 수\n",
        "\n",
        "🔷 본질: 이분 그래프의 2-색칠 문제\n",
        "3×3 격자를 정점 9개짜리 그래프로 보고, 인접한 subgrid에 간선을 연결한 그래프는 이분 그래프입니다.\n",
        "이분 그래프는 정확히 2가지 방식으로만 2색 칠하기가 가능합니다.\n",
        "\n",
        "🔷 즉, 가능한 해답은 2가지\n",
        "체스보드 패턴처럼 번갈아가며 칠하는 두 가지 경우:\n",
        "(0,0) 위치를 R로 시작 → 체스보드 패턴\n",
        "(0,0) 위치를 B로 시작 → 반대 체스보드 패턴\n",
        "\n",
        "A. 결론적으로,9×9 격자는 총 2⁸¹개의 색칠 조합을 가질 수 있지만, 각 3×3 subgrid가 단일 색을 가져야 하므로 가능한 조합은 2⁹로 줄어든다. 여기에 인접한 subgrid끼리는 서로 다른 색을 가져야 한다는 제약이 추가되면, 이는 전형적인 이분 그래프 2-색 칠하기 문제로 볼 수 있다. 3×3 구조는 이분 그래프 구조를 이루기 때문에, 조건을 만족하는 색칠 방법은 두 가지 경우뿐이다. 따라서 이 문제의 해는 2가지만 존재한다고 하는 AI의 답변은 타당하다.\n",
        "\n",
        "case 1)\n",
        "\n",
        "R B R\n",
        "\n",
        "B R B\n",
        "\n",
        "R B R\n",
        "\n",
        "case 2)\n",
        "\n",
        "\n",
        "B R B\n",
        "\n",
        "R B R\n",
        "\n",
        "B R B"
      ],
      "metadata": {
        "id": "4GklsB2CRGa8"
      }
    },
    {
      "cell_type": "markdown",
      "source": [
        "### 2번"
      ],
      "metadata": {
        "id": "xangXHoHo0rA"
      }
    },
    {
      "cell_type": "markdown",
      "source": [
        "### ![Screen Shot](data:image/png;base64,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)"
      ],
      "metadata": {
        "id": "ccvFlub1ovA6"
      }
    },
    {
      "cell_type": "markdown",
      "source": [
        "Initial state이 1이며 goal state은 11일때, 1) breadth-first search, 2)  limit이 3 인 depth-limited search, 3) iterative deepening search을 실행했을 때 방문하게 되는 노드 번호를 각 탐색 알고리즘마다 작성하시오."
      ],
      "metadata": {
        "id": "Kzfb0qbZo2ep"
      }
    },
    {
      "cell_type": "markdown",
      "source": [
        "----아래 답변 작성----\n",
        "\n",
        "**1) Breadth-first search**\n",
        "\n",
        "Bfs는 깊이 순으로 탐색하는 알고리즘. 그렇게 때문에 깊이 0인 노드 탐색, 깊이 1인 노드 탐색, 깊이 2인 노드 탐색의 순으로 탐색이 진행된다. 따라서 노드 탐색 순서는 다음과 같다.\n",
        "\n",
        "1 > 2 > 3 > 4 > 5 > 6 > 7 > 8 > 9 > 10 > 11(Goal state) 탐색 종료\n",
        "\n",
        "**2) depth-limited search**\n",
        "\n",
        "DFS처럼 왼쪽 노드부터 탐색하지만 깊이가 3이라는 제한 조건이 있음.\n",
        "따라서 탐색은 최대 깊이 3까지만 탐색이 진행됌.\n",
        "initial state의 왼쪽 노드부터 탐색 진행.\n",
        "1 > 2 > 4 > 8 > 9 > 5 > 10 > 11(Goal state) 탐색 종료\n",
        "\n",
        "**3) iterative deepening search**\n",
        "\n",
        "깊이를 0부터 시작해 깊이 제한 탐색을 하고 탐색이 끝날 때 마다 깊이를 1씩 늘려가며 탐색하는 알고리즘.\n",
        "\n",
        "Depth = 0\n",
        "\n",
        "1\n",
        "\n",
        "Depth = 1\n",
        "\n",
        "1 > 2 > 3\n",
        "\n",
        "Depth = 2\n",
        "\n",
        "1 > 2 > 4 > 5 > 3 > 6 > 7\n",
        "\n",
        "Depth = 3\n",
        "\n",
        "1 > 2 > 4 > 8 > 9 > 5 > 10 > 11(Goal state) 탐색 완료\n",
        "\n"
      ],
      "metadata": {
        "id": "BmwcJyvg1CNT"
      }
    },
    {
      "cell_type": "markdown",
      "source": [
        "### 3번"
      ],
      "metadata": {
        "id": "jy3pRLJ4o3N7"
      }
    },
    {
      "cell_type": "markdown",
      "source": [
        "GridProblem의 `d6`, `d7` 그리드에 1) `greedy_bfs`, 2) `astar_search`, 3) `weighted_astar_search` with weight `1.4`, 4) `weighted_astar_search` with weight `2`을 적용하여 탐색의 결과를 출력하시오. 출력된 결과를 바탕으로 각 알고리즘의 optimality와 reached state의 크기를 비교분석하시오."
      ],
      "metadata": {
        "id": "oPPawm9Bo6bv"
      }
    },
    {
      "cell_type": "markdown",
      "source": [
        "**grid problem with d6**"
      ],
      "metadata": {
        "id": "Z7zQlUYx9VVs"
      }
    },
    {
      "cell_type": "code",
      "source": [
        "# Greedy_bfs with d6\n",
        "solution = greedy_bfs(d6)\n",
        "plot_grid_problem(d6, solution, reached, 'Greedy BFS')"
      ],
      "metadata": {
        "colab": {
          "base_uri": "https://localhost:8080/",
          "height": 688
        },
        "id": "-vzOVx81zj7-",
        "outputId": "c3fcaf5d-0513-459a-ee4f-d494d74e952e"
      },
      "execution_count": null,
      "outputs": [
        {
          "output_type": "stream",
          "name": "stdout",
          "text": [
            "Greedy BFS search: 133.9 path cost\n",
            "758 states reached\n"
          ]
        },
        {
          "output_type": "display_data",
          "data": {
            "text/plain": [
              "<Figure size 1600x1000 with 1 Axes>"
            ],
            "image/png": "[encoded data removed]"
          },
          "metadata": {}
        }
      ]
    },
    {
      "cell_type": "code",
      "source": [
        "# astar_search with d6\n",
        "solution = astar_search(d6)\n",
        "plot_grid_problem(d6, solution, reached, 'A* search')"
      ],
      "metadata": {
        "colab": {
          "base_uri": "https://localhost:8080/",
          "height": 688
        },
        "id": "PzS0_qKo0ich",
        "outputId": "5d420d34-809c-46a2-b665-7451162083de"
      },
      "execution_count": null,
      "outputs": [
        {
          "output_type": "stream",
          "name": "stdout",
          "text": [
            "A* search search: 124.1 path cost\n",
            "3,305 states reached\n"
          ]
        },
        {
          "output_type": "display_data",
          "data": {
            "text/plain": [
              "<Figure size 1600x1000 with 1 Axes>"
            ],
            "image/png": "[encoded data removed]"
          },
          "metadata": {}
        }
      ]
    },
    {
      "cell_type": "code",
      "source": [
        "# weighted_astar_search_weight 1.4 with d6\n",
        "solution = weighted_astar_search(d6)\n",
        "plot_grid_problem(d6, solution, reached, 'Weighted A*')"
      ],
      "metadata": {
        "colab": {
          "base_uri": "https://localhost:8080/",
          "height": 688
        },
        "id": "84P6nAiM0ts6",
        "outputId": "e34a7af0-518c-4481-f5d0-66ec0eabf78f"
      },
      "execution_count": null,
      "outputs": [
        {
          "output_type": "stream",
          "name": "stdout",
          "text": [
            "Weighted A* search: 124.1 path cost\n",
            "976 states reached\n"
          ]
        },
        {
          "output_type": "display_data",
          "data": {
            "text/plain": [
              "<Figure size 1600x1000 with 1 Axes>"
            ],
            "image/png": "[encoded data removed]"
          },
          "metadata": {}
        }
      ]
    },
    {
      "cell_type": "code",
      "source": [
        "# weighted_astar_search_weight 2 with d6\n",
        "def weighted_astar_search(problem, h=None, weight= 2):\n",
        "    \"\"\"Search nodes with minimum f(n) = g(n) + weight * h(n).\"\"\"\n",
        "    h = h or problem.h\n",
        "    return best_first_search(problem, f=lambda n: g(n) + weight * h(n))"
      ],
      "metadata": {
        "id": "_pvR5zd90-PR"
      },
      "execution_count": null,
      "outputs": []
    },
    {
      "cell_type": "code",
      "source": [
        "# weighted_astar_search_weight 2 with d6\n",
        "solution = weighted_astar_search(d6)\n",
        "plot_grid_problem(d6, solution, reached, 'Weighted A*')"
      ],
      "metadata": {
        "colab": {
          "base_uri": "https://localhost:8080/",
          "height": 688
        },
        "id": "pguUOwxN1Xh5",
        "outputId": "86c16a39-34b0-4abe-e4a2-36e520bc099d"
      },
      "execution_count": null,
      "outputs": [
        {
          "output_type": "stream",
          "name": "stdout",
          "text": [
            "Weighted A* search: 128.6 path cost\n",
            "879 states reached\n"
          ]
        },
        {
          "output_type": "display_data",
          "data": {
            "text/plain": [
              "<Figure size 1600x1000 with 1 Axes>"
            ],
            "image/png": "[encoded data removed]"
          },
          "metadata": {}
        }
      ]
    },
    {
      "cell_type": "markdown",
      "source": [
        "d6 격자에서 네 가지 탐색 알고리즘(Greedy BFS, A* Search, Weighted A*(w=1.4), Weighted A*(w=2))을 적용한 결과 Optimality 와 Reached State 크기 측면에서 차이를 보여준다.\n",
        "\n",
        " **Greedy BFS**는 휴리스틱만을 사용해 목표와 가까워 보이는 경로를 우선 확장하기 때문에 가장 적은 상태(758개)를 방문하며 탐색을 빠르게 끝내지만, 실제 비용을 고려하지 않아 경로 비용이 133.9로 네 알고리즘 중 가장 높은 값이 나온다.\n",
        "\n",
        " 반면, **A* Search** 는 initial state의 누적 비용 g(n)과 휴리스틱 h(n)을 합한 f(n)로 노드를 확장하여 최적 비용을 보장하지만, 그 대가로 state을 3305개나 방문한다. 이때 A가 찾은 경로 비용은 124.1로 최적임을 확인할 수 있다.\n",
        "\n",
        "  **Weighted A(w=1.4)**는 A와 마찬가지로 124.1의 최적 비용을 찾았음에도 휴리스틱에 가중치를 더해 탐색 범위를 줄였기에 방문 상태가 976개로 A보다 훨씬 적고 효율적이다. 단, 가중치가 더 큰 **Weighted A*(w=2)**는 방문 상태 수가 879개로 조금 더 줄어들지만 비용이 128.6으로 상승해 최적 비용에서 다소 벗어난다.\n",
        "\n",
        "\n",
        "  정리하자면, Greedy BFS는 네 알고리즘 중 Reached state가 가장 적으나 비용이 가장 크고, A는 비용은 최소지만 방문한 State이 많으며, Weighted A는 가중치가 1.4일 때는 최적 비용을 유지하면서 방문 수를 크게 줄였고, 2로 올리면 방문한 State가 더 줄지만 비용이 올라가는 모습을 보인다.\n",
        "  \n",
        "  결과적으로 최적 비용을 절대적으로 추구한다면 A를 쓰는 것이 안전하고, 약간의 비용 손실을 감수하면서 탐색 속도를 높이고 싶다면 Weighted A를 적용할 수 있으며, 빠르게 대략적인 경로만 확보하고자 한다면 Greedy BFS가 유용하다는 결론을 내릴 수 있다."
      ],
      "metadata": {
        "id": "5JglnXc-BZ42"
      }
    },
    {
      "cell_type": "markdown",
      "source": [
        "**Grid problem with d7**"
      ],
      "metadata": {
        "id": "358VAU_x9Bcg"
      }
    },
    {
      "cell_type": "code",
      "source": [
        "# Greedy_bfs with d7\n",
        "solution = greedy_bfs(d7)\n",
        "plot_grid_problem(d7, solution, reached, 'Greedy BFS')"
      ],
      "metadata": {
        "colab": {
          "base_uri": "https://localhost:8080/",
          "height": 688
        },
        "id": "UY_qquVH8QxF",
        "outputId": "74cd1d3e-fdde-4347-e116-eaae96e4bd38"
      },
      "execution_count": null,
      "outputs": [
        {
          "output_type": "stream",
          "name": "stdout",
          "text": [
            "Greedy BFS search: 151.6 path cost\n",
            "830 states reached\n"
          ]
        },
        {
          "output_type": "display_data",
          "data": {
            "text/plain": [
              "<Figure size 1600x1000 with 1 Axes>"
            ],
            "image/png": "[encoded data removed]"
          },
          "metadata": {}
        }
      ]
    },
    {
      "cell_type": "code",
      "source": [
        "# astar_search with d7\n",
        "solution = astar_search(d7)\n",
        "plot_grid_problem(d7, solution, reached, 'A* search')"
      ],
      "metadata": {
        "colab": {
          "base_uri": "https://localhost:8080/",
          "height": 688
        },
        "id": "I9UYuFsN8YZL",
        "outputId": "5ac03ecb-a7bd-4224-a751-e75f807d8236"
      },
      "execution_count": null,
      "outputs": [
        {
          "output_type": "stream",
          "name": "stdout",
          "text": [
            "A* search search: 127.4 path cost\n",
            "4,058 states reached\n"
          ]
        },
        {
          "output_type": "display_data",
          "data": {
            "text/plain": [
              "<Figure size 1600x1000 with 1 Axes>"
            ],
            "image/png": "[encoded data removed]"
          },
          "metadata": {}
        }
      ]
    },
    {
      "cell_type": "code",
      "source": [
        "# weighted_astar_search_weight 2 with d6\n",
        "solution = weighted_astar_search(d7)\n",
        "plot_grid_problem(d7, solution, reached, 'Weighted A*')"
      ],
      "metadata": {
        "colab": {
          "base_uri": "https://localhost:8080/",
          "height": 688
        },
        "id": "C03j5fvZ8dqK",
        "outputId": "79fbcc0d-8c2a-45e1-e068-d189c491be24"
      },
      "execution_count": null,
      "outputs": [
        {
          "output_type": "stream",
          "name": "stdout",
          "text": [
            "Weighted A* search: 140.4 path cost\n",
            "980 states reached\n"
          ]
        },
        {
          "output_type": "display_data",
          "data": {
            "text/plain": [
              "<Figure size 1600x1000 with 1 Axes>"
            ],
            "image/png": "[encoded data removed]"
          },
          "metadata": {}
        }
      ]
    },
    {
      "cell_type": "code",
      "source": [
        "# weighted_astar_search_weight 1.4 with d6\n",
        "def weighted_astar_search(problem, h=None, weight= 1.4):\n",
        "    \"\"\"Search nodes with minimum f(n) = g(n) + weight * h(n).\"\"\"\n",
        "    h = h or problem.h\n",
        "    return best_first_search(problem, f=lambda n: g(n) + weight * h(n))"
      ],
      "metadata": {
        "id": "H61_AZ9j8ozo"
      },
      "execution_count": null,
      "outputs": []
    },
    {
      "cell_type": "code",
      "source": [
        "# weighted_astar_search_weight 1.4 with d6\n",
        "solution = weighted_astar_search(d7)\n",
        "plot_grid_problem(d7, solution, reached, 'Weighted A*')"
      ],
      "metadata": {
        "colab": {
          "base_uri": "https://localhost:8080/",
          "height": 688
        },
        "id": "6k90pa7O8vbd",
        "outputId": "3c309737-37c8-45de-f5b7-f3c6f7fc3eff"
      },
      "execution_count": null,
      "outputs": [
        {
          "output_type": "stream",
          "name": "stdout",
          "text": [
            "Weighted A* search: 127.4 path cost\n",
            "1,290 states reached\n"
          ]
        },
        {
          "output_type": "display_data",
          "data": {
            "text/plain": [
              "<Figure size 1600x1000 with 1 Axes>"
            ],
            "image/png": "[encoded data removed]"
          },
          "metadata": {}
        }
      ]
    },
    {
      "cell_type": "markdown",
      "source": [
        "d7 격자에서 **Greedy BFS**는 휴리스틱에만 의존해 목표에 가까워 보이는 경로를 우선적으로 찾기 때문에 830개의 상태만 방문하면서 가장 적은 탐색 규모를 보이지만, 경로 비용이 151.6으로 네 알고리즘 중 가장 비싸다.\n",
        "\n",
        " **A* search**는 누적 비용 g(n)에 휴리스틱 h(n)을 합산해 최적 비용을 보장하려다 보니 무려 4058개의 상태를 방문하며 탐색량이 가장 많지만, 경로 비용을 127.4로 억제해 최적 해를 확보한다.\n",
        "\n",
        "  **Weighted A(w=2)**는 가중치가 크기 때문에 A보다 상태 방문이 훨씬 적어 980개에 그치지만, 그만큼 경로 비용이 140.4로 올라가 어느 정도 최적성에서 멀어진다.\n",
        "  \n",
        "   반면 **Weighted A(w=1.4)**는 127.4로 A와 동일한 최소 비용을 내면서도, 방문 상태는 1290개로 A보다 훨씬 적은 전형적인 휴리스틱 가중의 이점을 보여준다.\n",
        "  \n",
        "  결국 d6 그리드와의 알고리즘 결과와 비슷하게 최적 비용감소를 절대적 우선순위로 둔다면 A를 사용할 수 있고, 약간의 비용 손실을 감수하고 탐색 규모를 줄이려면 Weighted A(w=2)를, 최적 비용을 얻으면서도 A보다 탐색을 크게 줄이려면 Weighted A(w=1.4)를 활용할 수 있으며, Greedy BFS는 가장 빠른 탐색을 제공하지만 비용 측면에서 크게 손해를 본다는 점에서 Optimality(최적)하지 않다고 할 수 있다."
      ],
      "metadata": {
        "id": "NRZ9ZSfcCctk"
      }
    },
    {
      "cell_type": "markdown",
      "source": [
        "### 4번"
      ],
      "metadata": {
        "id": "y_fkZDe4o89W"
      }
    },
    {
      "cell_type": "code",
      "source": [
        "class EightPuzzle(Problem):\n",
        "    \"\"\" The problem of sliding tiles numbered from 1 to 8 on a 3x3 board,\n",
        "    where one of the squares is a blank, trying to reach a goal configuration.\n",
        "    A board state is represented as a tuple of length 9, where the element at index i\n",
        "    represents the tile number at index i, or 0 if for the empty square, e.g. the goal:\n",
        "        1 2 3\n",
        "        4 5 6 ==> (1, 2, 3, 4, 5, 6, 7, 8, 0)\n",
        "        7 8 _\n",
        "    \"\"\"\n",
        "\n",
        "    def __init__(self, initial, goal=(0, 1, 2, 3, 4, 5, 6, 7, 8)):\n",
        "        assert inversions(initial) % 2 == inversions(goal) % 2 # Parity check\n",
        "        self.initial, self.goal = initial, goal\n",
        "\n",
        "    def actions(self, state):\n",
        "        \"\"\"The indexes of the squares that the blank can move to.\"\"\"\n",
        "        moves = ((1, 3),    (0, 2, 4),    (1, 5),\n",
        "                 (0, 4, 6), (1, 3, 5, 7), (2, 4, 8),\n",
        "                 (3, 7),    (4, 6, 8),    (7, 5))\n",
        "        blank = state.index(0)\n",
        "        return moves[blank]\n",
        "\n",
        "    def result(self, state, action):\n",
        "        \"\"\"Swap the blank with the square numbered `action`.\"\"\"\n",
        "        s = list(state)\n",
        "        blank = state.index(0)\n",
        "        s[action], s[blank] = s[blank], s[action]\n",
        "        return tuple(s)\n",
        "\n",
        "    def h1(self, node):\n",
        "        \"\"\"The misplaced tiles heuristic.\"\"\"\n",
        "        return misplaced_tiles_heuristic(node.state, self.goal)\n",
        "\n",
        "    def h2(self, node):\n",
        "        \"\"\"The Manhattan heuristic.\"\"\"\n",
        "        return manhattan_distance_heuristic(node.state, self.goal)\n",
        "\n",
        "    def h(self, node): return EightPuzzle.h2(self, node)\n",
        "\n",
        "\n",
        "def inversions(board):\n",
        "    \"The number of times a piece is a smaller number than a following piece.\"\n",
        "    return sum((a > b and a != 0 and b != 0) for (a, b) in combinations(board, 2))\n",
        "\n",
        "\n",
        "def board8(board, fmt=(3 * '{} {} {}\\n')):\n",
        "    \"A string representing an 8-puzzle board\"\n",
        "    return fmt.format(*board).replace('0', '_')\n",
        "\n",
        "class Board(defaultdict):\n",
        "    empty = '.'\n",
        "    off = '#'\n",
        "    def __init__(self, board=None, width=8, height=8, to_move=None, **kwds):\n",
        "        if board is not None:\n",
        "            self.update(board)\n",
        "            self.width, self.height = (board.width, board.height)\n",
        "        else:\n",
        "            self.width, self.height = (width, height)\n",
        "        self.to_move = to_move\n",
        "\n",
        "    def __missing__(self, key):\n",
        "        x, y = key\n",
        "        if x < 0 or x >= self.width or y < 0 or y >= self.height:\n",
        "            return self.off\n",
        "        else:\n",
        "            return self.empty\n",
        "\n",
        "    def __repr__(self):\n",
        "        def row(y): return ' '.join(self[x, y] for x in range(self.width))\n",
        "        return '\\n'.join(row(y) for y in range(self.height))\n",
        "\n",
        "    def __hash__(self):\n",
        "        return hash(tuple(sorted(self.items()))) + hash(self.to_move)"
      ],
      "metadata": {
        "id": "yK91M90No9My"
      },
      "execution_count": null,
      "outputs": []
    },
    {
      "cell_type": "code",
      "source": [
        "e1 = EightPuzzle((1, 4, 2, 0, 7, 5, 3, 6, 8))\n",
        "e2 = EightPuzzle((1, 2, 3, 4, 5, 6, 7, 8, 0))\n",
        "e3 = EightPuzzle((4, 0, 2, 5, 1, 3, 7, 8, 6))\n",
        "e4 = EightPuzzle((7, 2, 4, 5, 0, 6, 8, 3, 1))\n",
        "e5 = EightPuzzle((8, 6, 7, 2, 5, 4, 3, 0, 1))"
      ],
      "metadata": {
        "id": "mD5e62lJo-Nd"
      },
      "execution_count": null,
      "outputs": []
    },
    {
      "cell_type": "code",
      "source": [
        "print(board8(e1.initial))"
      ],
      "metadata": {
        "id": "YGDWfOYRo_uJ",
        "colab": {
          "base_uri": "https://localhost:8080/"
        },
        "outputId": "b436b6d3-de00-48db-be3a-1c0269dbe4a4"
      },
      "execution_count": null,
      "outputs": [
        {
          "output_type": "stream",
          "name": "stdout",
          "text": [
            "1 4 2\n",
            "_ 7 5\n",
            "3 6 8\n",
            "\n"
          ]
        }
      ]
    },
    {
      "cell_type": "markdown",
      "source": [
        "1-1) 생성형 AI에게 문제를 설명하고, 아래의 `misplaced_tiles_heuristic와` `manhattan_distance_heuristic` 함수들을 구현하도록 요청하시오. 생성형 AI의 출력을 첨부하시오.\n",
        "\n",
        "*   `misplaced_tiles_heuristic(A, B)`: 잘못 배치된 타일의 수(공백 미포함)\n",
        "*   `manhattan_distance_heuristic(A, B)`: 타일의 목표 위치로부터의 거리의 합. 타일은 대각선을 따라 이동할 수 없기 때문에 거리는 가로 및 세로 거리의 합이다.\n",
        "\n",
        "\n",
        "1-2) 생성형 AI가 출력한 코드의 동작 원리를 \"본인의 언어\"로 설명하고, 생성형AI의 도움을 받아 각 함수의 역할과 알고리즘을 설명하는 function documentation을 작성하시오. 생성형 AI가 출력한 function documentation의 요소는 무엇이며 어떤 특징을 띄는가?\n",
        "\n",
        "1-3) 생성형 AI의 도움을 받아 입력값의 범위를 충분히 cover하는 다양한 테스트 케이스를 설계하고 실행하여 함수가 올바르게 동작하는지 검증하시오.\n",
        "\n",
        "1-4) 생성형 AI을 사용해 코드의 성능을 최적화하거나 가독성을 높일 수 있는 방법을 찾아보고, 개선된 버전이 존재한다면 이를 구현해보시오.\n",
        "\n",
        "1-5) 초기 코드와 개선된 코드의 차이점을 설명하고, 어떤 점에서 코드가 향상되었는지 작성하시오.\n",
        "\n",
        "\n"
      ],
      "metadata": {
        "id": "aaOfkDnkpAAr"
      }
    },
    {
      "cell_type": "code",
      "source": [
        "# 1-1)\n",
        "def misplaced_tiles_heuristic(A, B):\n",
        "  # 두 퍼즐 상태 간 잘못 배치된 타일의 개수 계산\n",
        "  # 현재 퍼즐 상태 A와 목표 퍼즐 상태 B를 비교해 각 위치에서 타일의 번호가 다를 경우 잘못 배치된 타일의 수 누적 반환\n",
        "  # A = 현재 퍼즐 상태\n",
        "  # B = 목표 퍼즐 상태\n",
        "  # int = 잘못 배치된 타일의 개수\n",
        "    return sum(1 for i in range(len(A)) if A[i] != 0 and A[i] != B[i])\n",
        "\n",
        "def manhattan_distance_heuristic(A, B):\n",
        "  # 현재 퍼즐 상태 A의 각 타일에 대해 해당 타일이 목표 상태 B에서 있어야 할 위치까지의 거리 계산 후 반환\n",
        "  # 매개 변수 동일\n",
        "  # int = 모든 타일의 맨해튼 거리의 합\n",
        "    distance = 0\n",
        "    for i in range(len(A)):\n",
        "        if A[i] != 0:\n",
        "            goal_index = B.index(A[i])\n",
        "            distance += abs((i // 3) - (goal_index // 3)) + abs((i % 3) - (goal_index % 3))\n",
        "    return distance\n"
      ],
      "metadata": {
        "id": "BSkhMX8ypBS4"
      },
      "execution_count": null,
      "outputs": []
    },
    {
      "cell_type": "markdown",
      "source": [
        "1-2 )\n",
        "\n",
        "동작 원리\n",
        "\n",
        "이 코드는 앞서 위의 코드에서 정의된 8-puzzle 문제에서 휴리스틱 평가를 위해 사용되는 함수로써 **misplaced_tiles_heuristic**는 현재 상태와 목표 상태에서 위치가 다른 타일의 개수를 세어 반환하되 빈칸인 0은 제외한다.\n",
        "**manhattan_distance_heuristic** 각 타일이 목표 위치까지 수평/수직으로 이동해야 하는 칸 수의 합을 계산(행과 열을 각각 계산하여 차이 값을 더하는 식)해서 반환한다. 역시 빈칸은 제외하고 대각선은 고려하지 않는다.\n",
        "\n",
        "생성형 AI는 코드 동작, 매개변수,반환값에 대한 documentation을 생성하여 코드의 가독성을 높이고 함수의 사용법을 명확하게 하는 특징을 띈다.\n",
        "\n",
        "\n",
        "\n"
      ],
      "metadata": {
        "id": "pUikOB_T7HPw"
      }
    },
    {
      "cell_type": "code",
      "source": [
        "# 1-3)\n",
        "def run_tests():\n",
        "    goal = (1, 2, 3, 4, 5, 6, 7, 8, 0)\n",
        "\n",
        "    tests = [\n",
        "        {\n",
        "            \"desc\": \"정상 상태 (완벽히 정렬된 상태)\",\n",
        "            \"state\": (1, 2, 3, 4, 5, 6, 7, 8, 0),\n",
        "            \"expected_misplaced\": 0,\n",
        "            \"expected_manhattan\": 0\n",
        "        },\n",
        "        {\n",
        "            \"desc\": \"맨 끝 두 타일의 위치 교환 (빈칸 제외)\",\n",
        "            \"state\": (1, 2, 3, 4, 5, 6, 0, 7, 8),\n",
        "            \"expected_misplaced\": 2,\n",
        "            \"expected_manhattan\": 2\n",
        "        },\n",
        "        {\n",
        "            \"desc\": \"중간에 빈칸 배치, 두 타일 잘못 배치\",\n",
        "            \"state\": (1, 2, 3, 4, 0, 6, 7, 5, 8),\n",
        "            \"expected_misplaced\": 2,\n",
        "            \"expected_manhattan\": 2\n",
        "        },\n",
        "        {\n",
        "            \"desc\": \"빈칸만 위치 변경\",\n",
        "            \"state\": (1, 2, 3, 4, 5, 6, 7, 0, 8),\n",
        "            \"expected_misplaced\": 1,\n",
        "            \"expected_manhattan\": 1\n",
        "        },\n",
        "        {\n",
        "            \"desc\": \"역순 배열 (최악의 경우)\",\n",
        "            \"state\": (0, 8, 7, 6, 5, 4, 3, 2, 1),\n",
        "            \"expected_misplaced\": 7,   # 0은 제외하므로 나머지 7개가 잘못됨.\n",
        "            \"expected_manhattan\": 20   # 각 타일별 맨해튼 거리 합산 결과.\n",
        "        }\n",
        "    ]\n",
        "\n",
        "    for test in tests:\n",
        "        state = test[\"state\"]\n",
        "        desc = test[\"desc\"]\n",
        "        expected_misplaced = test[\"expected_misplaced\"]\n",
        "        expected_manhattan = test[\"expected_manhattan\"]\n",
        "\n",
        "        result_misplaced = misplaced_tiles_heuristic(state, goal)\n",
        "        result_manhattan = manhattan_distance_heuristic(state, goal)\n",
        "\n",
        "        print(f\"테스트: {desc}\")\n",
        "        print(f\"상태: {state}\")\n",
        "        print(f\"misplaced_tiles_heuristic: {result_misplaced} (예상: {expected_misplaced})\")\n",
        "        print(f\"manhattan_distance_heuristic: {result_manhattan} (예상: {expected_manhattan})\")\n",
        "        print(\"-\" * 50)\n",
        "\n",
        "\n",
        "if __name__ == \"__main__\":\n",
        "    run_tests()"
      ],
      "metadata": {
        "id": "F4r8tmD-7M0D",
        "colab": {
          "base_uri": "https://localhost:8080/"
        },
        "outputId": "59b245c2-295a-45ca-8f8d-25b36e18095b"
      },
      "execution_count": null,
      "outputs": [
        {
          "output_type": "stream",
          "name": "stdout",
          "text": [
            "테스트: 정상 상태 (완벽히 정렬된 상태)\n",
            "상태: (1, 2, 3, 4, 5, 6, 7, 8, 0)\n",
            "misplaced_tiles_heuristic: 0 (예상: 0)\n",
            "manhattan_distance_heuristic: 0 (예상: 0)\n",
            "--------------------------------------------------\n",
            "테스트: 맨 끝 두 타일의 위치 교환 (빈칸 제외)\n",
            "상태: (1, 2, 3, 4, 5, 6, 0, 7, 8)\n",
            "misplaced_tiles_heuristic: 2 (예상: 2)\n",
            "manhattan_distance_heuristic: 2 (예상: 2)\n",
            "--------------------------------------------------\n",
            "테스트: 중간에 빈칸 배치, 두 타일 잘못 배치\n",
            "상태: (1, 2, 3, 4, 0, 6, 7, 5, 8)\n",
            "misplaced_tiles_heuristic: 2 (예상: 2)\n",
            "manhattan_distance_heuristic: 2 (예상: 2)\n",
            "--------------------------------------------------\n",
            "테스트: 빈칸만 위치 변경\n",
            "상태: (1, 2, 3, 4, 5, 6, 7, 0, 8)\n",
            "misplaced_tiles_heuristic: 1 (예상: 1)\n",
            "manhattan_distance_heuristic: 1 (예상: 1)\n",
            "--------------------------------------------------\n",
            "테스트: 역순 배열 (최악의 경우)\n",
            "상태: (0, 8, 7, 6, 5, 4, 3, 2, 1)\n",
            "misplaced_tiles_heuristic: 7 (예상: 7)\n",
            "manhattan_distance_heuristic: 20 (예상: 20)\n",
            "--------------------------------------------------\n"
          ]
        }
      ]
    },
    {
      "cell_type": "code",
      "source": [
        "import concurrent.futures\n",
        "\n",
        "def misplaced_tiles_heuristic(A, B):\n",
        "    \"\"\"\n",
        "    두 퍼즐 상태 간 잘못 배치된 타일의 개수를 계산합니다.\n",
        "    (빈칸인 0은 비교에서 제외됩니다.)\n",
        "    \"\"\"\n",
        "    return sum(1 for i in range(len(A)) if A[i] != 0 and A[i] != B[i])\n",
        "\n",
        "\n",
        "def manhattan_distance_heuristic(A, B):\n",
        "    \"\"\"\n",
        "    두 퍼즐 상태 간 각 타일의 맨해튼 거리를 계산합니다.\n",
        "    (빈칸인 0은 계산 대상에서 제외됩니다.)\n",
        "\n",
        "    성능 최적화를 위해, 목표 상태 B의 각 타일 위치를 미리 딕셔너리로 계산합니다.\n",
        "    \"\"\"\n",
        "    goal_positions = {tile: (idx // 3, idx % 3) for idx, tile in enumerate(B) if tile != 0}\n",
        "    distance = 0\n",
        "    for idx, tile in enumerate(A):\n",
        "        if tile != 0:\n",
        "            current_row, current_col = idx // 3, idx % 3\n",
        "            goal_row, goal_col = goal_positions[tile]\n",
        "            distance += abs(current_row - goal_row) + abs(current_col - goal_col)\n",
        "    return distance\n",
        "\n",
        "\n",
        "def run_test_case(test, goal_state):\n",
        "    \"\"\"\n",
        "    단일 테스트 케이스를 실행하여 결과를 반환합니다.\n",
        "    \"\"\"\n",
        "    state = test[\"state\"]\n",
        "    desc = test[\"desc\"]\n",
        "    expected_misplaced = test[\"expected_misplaced\"]\n",
        "    expected_manhattan = test[\"expected_manhattan\"]\n",
        "\n",
        "    result_misplaced = misplaced_tiles_heuristic(state, goal_state)\n",
        "    result_manhattan = manhattan_distance_heuristic(state, goal_state)\n",
        "\n",
        "    success = (result_misplaced == expected_misplaced) and (result_manhattan == expected_manhattan)\n",
        "    return (desc, state, result_misplaced, expected_misplaced, result_manhattan, expected_manhattan, success)\n",
        "\n",
        "\n",
        "def run_tests():\n",
        "    \"\"\"\n",
        "    다양한 테스트 케이스를 동시 실행하여 휴리스틱 함수들의 올바른 동작과\n",
        "    실행 시간 최적화를 검증합니다.\n",
        "    \"\"\"\n",
        "    goal_state = (1, 2, 3, 4, 5, 6, 7, 8, 0)\n",
        "\n",
        "    tests = [\n",
        "        {\n",
        "            \"desc\": \"정상 상태 (완벽히 정렬된 상태)\",\n",
        "            \"state\": (1, 2, 3, 4, 5, 6, 7, 8, 0),\n",
        "            \"expected_misplaced\": 0,\n",
        "            \"expected_manhattan\": 0\n",
        "        },\n",
        "        {\n",
        "            \"desc\": \"맨 끝 두 타일의 위치 교환 (빈칸 제외)\",\n",
        "            \"state\": (1, 2, 3, 4, 5, 6, 0, 7, 8),\n",
        "            \"expected_misplaced\": 2,\n",
        "            \"expected_manhattan\": 2\n",
        "        },\n",
        "        {\n",
        "            \"desc\": \"중간에 빈칸 배치, 두 타일 잘못 배치\",\n",
        "            \"state\": (1, 2, 3, 4, 0, 6, 7, 5, 8),\n",
        "            \"expected_misplaced\": 2,\n",
        "            \"expected_manhattan\": 2\n",
        "        },\n",
        "        {\n",
        "            \"desc\": \"빈칸만 위치 변경\",\n",
        "            \"state\": (1, 2, 3, 4, 5, 6, 7, 0, 8),\n",
        "            \"expected_misplaced\": 1,\n",
        "            \"expected_manhattan\": 1\n",
        "        },\n",
        "        {\n",
        "            \"desc\": \"역순 배열 (최악의 경우)\",\n",
        "            \"state\": (0, 8, 7, 6, 5, 4, 3, 2, 1),\n",
        "            \"expected_misplaced\": 7,   # 빈칸(0)은 제외하므로, 나머지 7개 타일이 잘못 배치됨.\n",
        "            \"expected_manhattan\": 20   # 각 타일의 맨해튼 거리 합산 결과.\n",
        "        }\n",
        "    ]\n",
        "\n",
        "    all_passed = True\n",
        "    results = []\n",
        "\n",
        "    # ThreadPoolExecutor를 사용해 각 테스트 케이스를 병렬 실행합니다.\n",
        "    with concurrent.futures.ThreadPoolExecutor() as executor:\n",
        "        future_to_test = {executor.submit(run_test_case, test, goal_state): test for test in tests}\n",
        "        for future in concurrent.futures.as_completed(future_to_test):\n",
        "            results.append(future.result())\n",
        "\n",
        "    # 결과 출력\n",
        "    print(\"=\" * 60)\n",
        "    for idx, res in enumerate(results, start=1):\n",
        "        desc, state, result_misplaced, expected_misplaced, result_manhattan, expected_manhattan, success = res\n",
        "        print(f\"테스트 #{idx}: {desc}\")\n",
        "        print(f\"  상태: {state}\")\n",
        "        print(f\"  misplaced_tiles_heuristic: {result_misplaced} (예상: {expected_misplaced})\")\n",
        "        print(f\"  manhattan_distance_heuristic: {result_manhattan} (예상: {expected_manhattan})\")\n",
        "        print(\"  결과:\", \"성공\" if success else \"실패\")\n",
        "        print(\"-\" * 60)\n",
        "        if not success:\n",
        "            all_passed = False\n",
        "\n",
        "    if all_passed:\n",
        "        print(\"모든 테스트 케이스를 통과했습니다.\")\n",
        "    else:\n",
        "        print(\"일부 테스트 케이스가 실패했습니다.\")\n",
        "\n",
        "\n",
        "if __name__ == \"__main__\":\n",
        "    run_tests()\n"
      ],
      "metadata": {
        "colab": {
          "base_uri": "https://localhost:8080/"
        },
        "id": "AdUGX1kiEoP0",
        "outputId": "fffeb0e2-5ac8-4bee-f5d4-7c729f65ca72"
      },
      "execution_count": null,
      "outputs": [
        {
          "output_type": "stream",
          "name": "stdout",
          "text": [
            "============================================================\n",
            "테스트 #1: 정상 상태 (완벽히 정렬된 상태)\n",
            "  상태: (1, 2, 3, 4, 5, 6, 7, 8, 0)\n",
            "  misplaced_tiles_heuristic: 0 (예상: 0)\n",
            "  manhattan_distance_heuristic: 0 (예상: 0)\n",
            "  결과: 성공\n",
            "------------------------------------------------------------\n",
            "테스트 #2: 맨 끝 두 타일의 위치 교환 (빈칸 제외)\n",
            "  상태: (1, 2, 3, 4, 5, 6, 0, 7, 8)\n",
            "  misplaced_tiles_heuristic: 2 (예상: 2)\n",
            "  manhattan_distance_heuristic: 2 (예상: 2)\n",
            "  결과: 성공\n",
            "------------------------------------------------------------\n",
            "테스트 #3: 중간에 빈칸 배치, 두 타일 잘못 배치\n",
            "  상태: (1, 2, 3, 4, 0, 6, 7, 5, 8)\n",
            "  misplaced_tiles_heuristic: 2 (예상: 2)\n",
            "  manhattan_distance_heuristic: 2 (예상: 2)\n",
            "  결과: 성공\n",
            "------------------------------------------------------------\n",
            "테스트 #4: 빈칸만 위치 변경\n",
            "  상태: (1, 2, 3, 4, 5, 6, 7, 0, 8)\n",
            "  misplaced_tiles_heuristic: 1 (예상: 1)\n",
            "  manhattan_distance_heuristic: 1 (예상: 1)\n",
            "  결과: 성공\n",
            "------------------------------------------------------------\n",
            "테스트 #5: 역순 배열 (최악의 경우)\n",
            "  상태: (0, 8, 7, 6, 5, 4, 3, 2, 1)\n",
            "  misplaced_tiles_heuristic: 7 (예상: 7)\n",
            "  manhattan_distance_heuristic: 20 (예상: 20)\n",
            "  결과: 성공\n",
            "------------------------------------------------------------\n",
            "모든 테스트 케이스를 통과했습니다.\n"
          ]
        }
      ]
    },
    {
      "cell_type": "markdown",
      "source": [
        "# 1-5 )\n",
        "초기 코드와 개선 코드의 차이점은 크게 두가지로 볼 수 있다.\n",
        "# 가독성 향상\n",
        "출력 메시지를 일관성 있게 재구성하여 테스트 결과를 한눈에 파악할 수 있도록 출력 메시지의 형식을 개선하였고 각 함수에 대해 Documentaiton을 추가하여 가독성을 올렸다.\n",
        "\n",
        "# 실행 시간 최적화\n",
        "manhattan_distance_heuristic 함수 내부에서 B.index()를 반복 호출하는 대신, 목표 상태에서 각 타일의 행과 열 정보를 딕셔너리(goal_positions)에 미리 저장하여, 각 타일의 목표 위치를 빠르게 조회할 수 있도록 했습니다.\n",
        "또 이전에는 각 테스트 케이스를 개별적으로 처리했다면 수정된 코드에서는 테스를 동시에 실행함으로써 전체 테스트 실행 시간을 줄였습니다."
      ],
      "metadata": {
        "id": "Ecy1mNrREr6K"
      }
    },
    {
      "cell_type": "markdown",
      "source": [
        "2) 아래 알고리즘을 `e1`, `e2`, `e3`, `e4`, `e5` 보드에 적용하고 그 결과를 위 실습 내용에서 주어진 `report` 함수를 통해 출력하시오.\n",
        "\n",
        "*   breadth_first_search: h = 0\n",
        "*   A* search with misplaced tiles heuristic\n",
        "*   A* search with Manhattan distance heuristic\n",
        "\n",
        "특정 heuristic이 적용된 탐색 알고리즘 함수 생성 예시:\n",
        "\n",
        "  ```python\n",
        "  def astar_misplaced_tiles(problem):\n",
        "      return astar_search(problem, h=problem.h1)\n",
        "  ```"
      ],
      "metadata": {
        "id": "J3Gyb6uFpDCc"
      }
    },
    {
      "cell_type": "code",
      "source": [
        "def breadth_first(problem):\n",
        "    return astar_search(problem, h=lambda node: 0)\n",
        "\n",
        "def astar_misplaced_tiles(problem):\n",
        "    return astar_search(problem, h=problem.h1)\n",
        "\n",
        "def astar_manhattan(problem):\n",
        "    return astar_search(problem, h=problem.h2)\n",
        "\n",
        "problems = [e1, e2, e3, e4, e5]\n",
        "\n",
        "searchers = [breadth_first, astar_misplaced_tiles, astar_manhattan]\n",
        "\n",
        "report(searchers, problems)\n"
      ],
      "metadata": {
        "colab": {
          "base_uri": "https://localhost:8080/"
        },
        "id": "URR2WFKWTKbI",
        "outputId": "fee44e2e-839d-46e7-9fb1-2f79bd4b731c"
      },
      "execution_count": null,
      "outputs": [
        {
          "output_type": "stream",
          "name": "stdout",
          "text": [
            "breadth_first:\n",
            "      124 nodes |       46 goal |    5 cost |      50 actions | EightPuzzle((1, 4, 2, 0, 7, 5, 3, 6, 8),\n",
            "  214,952 nodes |   79,187 goal |   22 cost |  79,208 actions | EightPuzzle((1, 2, 3, 4, 5, 6, 7, 8, 0),\n",
            "  300,925 nodes |  112,082 goal |   23 cost | 112,104 actions | EightPuzzle((4, 0, 2, 5, 1, 3, 7, 8, 6),\n",
            "  457,766 nodes |  171,571 goal |   26 cost | 171,596 actions | EightPuzzle((7, 2, 4, 5, 0, 6, 8, 3, 1),\n",
            "  466,441 nodes |  174,474 goal |   27 cost | 174,500 actions | EightPuzzle((8, 6, 7, 2, 5, 4, 3, 0, 1),\n",
            "1,440,208 nodes |  537,360 goal |  103 cost | 537,458 actions | TOTAL\n",
            "\n",
            "astar_misplaced_tiles:\n",
            "       15 nodes |        6 goal |    5 cost |      10 actions | EightPuzzle((1, 4, 2, 0, 7, 5, 3, 6, 8),\n",
            "   22,615 nodes |    8,330 goal |   22 cost |   8,351 actions | EightPuzzle((1, 2, 3, 4, 5, 6, 7, 8, 0),\n",
            "   37,395 nodes |   13,816 goal |   23 cost |  13,838 actions | EightPuzzle((4, 0, 2, 5, 1, 3, 7, 8, 6),\n",
            "  121,195 nodes |   44,989 goal |   26 cost |  45,014 actions | EightPuzzle((7, 2, 4, 5, 0, 6, 8, 3, 1),\n",
            "  152,365 nodes |   56,605 goal |   27 cost |  56,631 actions | EightPuzzle((8, 6, 7, 2, 5, 4, 3, 0, 1),\n",
            "  333,585 nodes |  123,746 goal |  103 cost | 123,844 actions | TOTAL\n",
            "\n",
            "astar_manhattan:\n",
            "       15 nodes |        6 goal |    5 cost |      10 actions | EightPuzzle((1, 4, 2, 0, 7, 5, 3, 6, 8),\n",
            "    3,614 nodes |    1,349 goal |   22 cost |   1,370 actions | EightPuzzle((1, 2, 3, 4, 5, 6, 7, 8, 0),\n",
            "    5,373 nodes |    2,010 goal |   23 cost |   2,032 actions | EightPuzzle((4, 0, 2, 5, 1, 3, 7, 8, 6),\n",
            "   10,832 nodes |    4,086 goal |   26 cost |   4,111 actions | EightPuzzle((7, 2, 4, 5, 0, 6, 8, 3, 1),\n",
            "   11,669 nodes |    4,417 goal |   27 cost |   4,443 actions | EightPuzzle((8, 6, 7, 2, 5, 4, 3, 0, 1),\n",
            "   31,503 nodes |   11,868 goal |  103 cost |  11,966 actions | TOTAL\n",
            "\n"
          ]
        }
      ]
    },
    {
      "cell_type": "markdown",
      "source": [
        "3) 위 문제에서 출력된 결과를 바탕으로 uninformed search와 informed search의 차이와 각 heuristic의 차이를 알고리즘의 특성에 기반하여 비교분석하시오."
      ],
      "metadata": {
        "id": "rWBYMePypFJB"
      }
    },
    {
      "cell_type": "markdown",
      "source": [
        "A.\n",
        "\n",
        "정보 없이 문제의 구조만으로 탐색을 진행하는 uninformed Search. 대표적인 알고리즘인 BFS는 문제의 상태공간 그래프에서 목표 상태에 도달할 때 까지 모든 경로를 동일하게 취급하며 해(goal state)을 찾는다. 깊이에 따라 노드를 탐색하기 때문에 최단 경로를 보장하지만 탐색의 방향성이 없어 필요 이상의 노드들을 확장하게 되며 결과 값에도 확인할 수 있듯이 탐색 노드 수가 1440208개로 다른 여타 알고리즘에 비해 엄청나게 크고 타일을 실제로 움직인 수도 굉장히 많은 것으로 보아 이 문제에 한해서는 비효율적이다라고 볼 수 있다.\n",
        "\n",
        "이에 반해 informed Search는 문제 구조에 더해 각 상태가 목표 상태에 얼마나 가까운지 추정하는 것에 휴리스틱 함수를 활용한다.\n",
        "이 informed Search의 대표적인 알고리즘인 A* Search는 노드를 선택해서 탐색해서 탐색 방향성이 매우 강하고 불필요한 경로를 최소화하기 때문에 노드 수가 BFS보다 작다.\n",
        "\n",
        "\n",
        "**본 실험에서는 두 가지 휴리스틱을 적용했다.**\n",
        "\n",
        "- **Misplaced Tiles** (h1): 제자리에 있지 않은 타일의 수를 세는 방식으로, 계산은 빠르지만 실제 거리와의 차이가 크다.\n",
        "\n",
        "     A* + Misplaced (h1)\t= 333,585\n",
        "\n",
        "\n",
        "\n",
        "\n",
        "- **Manhattan Distance** (h2): 각 타일이 목표 위치까지 도달하는 데 필요한 거리의 합을 계산하며, 실제 이동 비용을 더 정확히 반영한다.\n",
        "\n",
        "   A* + Manhattan (h2)\t31,503\n",
        "\n",
        "특히 Manhattan Distance는 실제 이동 경로를 추정하므로 31,503로 가장 적은 적은 노드로써 최적 해를 도출하는 데 성공했다. 모든 문제에서 동일한 해 깊이를 갖고도 탐색량은 획기적으로 줄어들은 모습을 확인할 수 있었다.\n",
        "\n",
        "\n",
        "\n",
        "\n",
        "\n"
      ],
      "metadata": {
        "id": "3qc1xdc9McBv"
      }
    }
  ]
}